{
 "cells": [
  {
   "cell_type": "markdown",
   "id": "2852ce22",
   "metadata": {},
   "source": [
    "# Lets load the processed data and objects to Build models."
   ]
  },
  {
   "cell_type": "code",
   "execution_count": 1,
   "id": "be042f61",
   "metadata": {},
   "outputs": [
    {
     "name": "stdout",
     "output_type": "stream",
     "text": [
      "Current Working Directory: C:\\Users\\hp\\Documents\\find-default\\notebooks\n"
     ]
    }
   ],
   "source": [
    "# check Current Workign Directroy \n",
    "\n",
    "import os\n",
    "print(\"Current Working Directory:\", os.getcwd())"
   ]
  },
  {
   "cell_type": "code",
   "execution_count": 2,
   "id": "4c851bc5",
   "metadata": {},
   "outputs": [],
   "source": [
    "os.chdir(r'\\Users\\hp\\Documents\\find-default')"
   ]
  },
  {
   "cell_type": "code",
   "execution_count": 3,
   "id": "4205743d",
   "metadata": {},
   "outputs": [],
   "source": [
    "import joblib\n",
    "\n",
    "# Load the data and scaler\n",
    "X_train = joblib.load('data/processed-data/X_train_v1.joblib')\n",
    "y_train = joblib.load('data/processed-data/y_train_v1.joblib')\n",
    "X_test = joblib.load('data/processed-data/X_test_v1.joblib')\n",
    "y_test = joblib.load('data/processed-data/y_test_v1.joblib')\n",
    "scaler = joblib.load('models/amount_scaler.joblib')\n",
    "X_train_resampled = joblib.load('data/processed-data/X_train_resampled_v1.joblib')\n",
    "y_train_resampled = joblib.load('data/processed-data/y_train_resampled_v1.joblib')\n",
    "X_train_smote = joblib.load('data/processed-data/X_train_smote_v1.joblib')\n",
    "y_train_smote = joblib.load('data/processed-data/y_train_smote_v1.joblib')"
   ]
  },
  {
   "cell_type": "markdown",
   "id": "d7136caa",
   "metadata": {},
   "source": [
    "# Choosing a Right Model and Right Metric\n",
    "\n",
    "In the given problem statement, we can see the class is highly imbalanced due to very low fraud transactions. I want to handle the imbalanced data using RandomUndersampler and SMOTE approach. There is no standard model for classification, for the given problem of identifying the Fraud, its GBM & XGB is preferred model.  Considering my computational resources available, I would use LightGBM instead of GBM. Also, I’m trying few algorithms along with XGBoost & LightGBM with above technique to handle imbalance data. Let’s consolidate the metrics of every model and choose the best model.\n",
    "\n",
    "## Choosing Right Metric. \n",
    "I will evaluate the model on test data using below evaluation metrics to have a comparison in the later stage to decide the best model. Though the problem statement wants to track Accuracy metric and a subjective result of at least 75%, even before building the model, I can see those chances of getting accuracy of 99% accuracy is high due to imbalanced data. Non fraud transactions in the dataset are more than 99%. I choose to track these metrics based on below justification.\n",
    "\n",
    "Accuracy metrics = In the given problem more than 99% of data is legitimate hence accuracy will be high and considering this metric will be deceiving. \n",
    "\n",
    "F1_score metrics = In the given problem identifying the fraud transactions is very critical than identifying non fraud transactions. Hence picking a combination of precision (identify fraud trans correctly) and recall (capturing all fraud trans) is wise choice. Instead of tracking multiple metrics like precision & recall, I consider f1 score a good metrics in this context as it’s a harmonic mean of precision and recall. \n",
    "\n",
    "ROC_AUC = Is the best metric in classifying fraud and non-fraud transaction especially in the imbalanced data. Hence let’s give high importance to this metric in evaluating the best model."
   ]
  },
  {
   "cell_type": "markdown",
   "id": "972c6a6e",
   "metadata": {},
   "source": [
    "# Model 1 - LOGISTIC REGRESSION - logreg"
   ]
  },
  {
   "cell_type": "code",
   "execution_count": 4,
   "id": "25875f63",
   "metadata": {},
   "outputs": [
    {
     "data": {
      "text/plain": [
       "['models/logreg_base_v1.joblib']"
      ]
     },
     "execution_count": 4,
     "metadata": {},
     "output_type": "execute_result"
    }
   ],
   "source": [
    "from sklearn.linear_model import LogisticRegression\n",
    "from sklearn.metrics import classification_report, roc_auc_score, accuracy_score, confusion_matrix, f1_score\n",
    "\n",
    "# Initialize the model\n",
    "logreg_base = LogisticRegression(max_iter=1000, random_state=42)\n",
    "\n",
    "# Train the model\n",
    "logreg_base.fit(X_train, y_train)\n",
    "\n",
    "# Predict on validation data & probabilities for ROC_AUC\n",
    "y_pred_logreg_base = logreg_base.predict(X_test)\n",
    "y_proba_logreg_base = logreg_base.predict_proba(X_test)[:, 1]\n",
    "\n",
    "# Save the model\n",
    "joblib.dump(logreg_base, 'models/logreg_base_v1.joblib')"
   ]
  },
  {
   "cell_type": "code",
   "execution_count": 5,
   "id": "a2d4b47c",
   "metadata": {},
   "outputs": [
    {
     "name": "stdout",
     "output_type": "stream",
     "text": [
      "Logistic Regression - Validation Performance:\n",
      "Confusion Matrix:\n",
      "[[56838    35]\n",
      " [   36    53]]\n",
      "Classification Report\n",
      "              precision    recall  f1-score   support\n",
      "\n",
      "           0       1.00      1.00      1.00     56873\n",
      "           1       0.60      0.60      0.60        89\n",
      "\n",
      "    accuracy                           1.00     56962\n",
      "   macro avg       0.80      0.80      0.80     56962\n",
      "weighted avg       1.00      1.00      1.00     56962\n",
      "\n",
      "F1 Score (weighted) : 0.9987500394495346\n",
      "ROC AUC Score: 0.9443528524129359\n"
     ]
    }
   ],
   "source": [
    "# Evaluate the model\n",
    "accuracy_logreg_base = accuracy_score(y_test, y_pred_logreg_base)\n",
    "roc_auc_logreg_base = roc_auc_score(y_test, y_proba_logreg_base)\n",
    "f1_score_logreg_base = f1_score(y_test, y_pred_logreg_base, average='weighted')\n",
    "report = classification_report(y_test, y_pred_logreg_base, output_dict=True)\n",
    "\n",
    "print(\"Logistic Regression - Validation Performance:\")\n",
    "\n",
    "print(\"Confusion Matrix:\")\n",
    "print(confusion_matrix(y_test, y_pred_logreg_base))\n",
    "\n",
    "print(\"Classification Report\")\n",
    "print(classification_report(y_test, y_pred_logreg_base))\n",
    "\n",
    "print(\"F1 Score (weighted) :\", f1_score_logreg_base)\n",
    "print(\"ROC AUC Score:\", roc_auc_logreg_base)"
   ]
  },
  {
   "cell_type": "code",
   "execution_count": 6,
   "id": "05ec7f1d",
   "metadata": {},
   "outputs": [],
   "source": [
    "# Save evaluation metrics\n",
    "import json\n",
    "\n",
    "# Define the metrics to save\n",
    "logreg_base_metrics = {\n",
    "    'accuracy': accuracy_logreg_base,\n",
    "    'roc_auc': roc_auc_logreg_base,\n",
    "    'classification_report': report,\n",
    "    'f1_score': f1_score_logreg_base\n",
    "}\n",
    "\n",
    "# Open a file for writing JSON data\n",
    "with open('models/logreg_base_metrics_v1.json', 'w') as f:\n",
    "    # Save the dictionary to the file in JSON format\n",
    "    json.dump(logreg_base_metrics, f, indent=4)"
   ]
  },
  {
   "cell_type": "markdown",
   "id": "e654dbd7",
   "metadata": {},
   "source": [
    "## Model 2 - Undersampling - Log_Reg"
   ]
  },
  {
   "cell_type": "code",
   "execution_count": 7,
   "id": "10f37abc",
   "metadata": {},
   "outputs": [
    {
     "data": {
      "text/plain": [
       "['models/logreg_rus_v1.joblib']"
      ]
     },
     "execution_count": 7,
     "metadata": {},
     "output_type": "execute_result"
    }
   ],
   "source": [
    "# Logistic Regression for Undersampled Data\n",
    "logreg_rus = LogisticRegression(max_iter=1000, random_state=42)\n",
    "logreg_rus.fit(X_train_resampled, y_train_resampled)\n",
    "\n",
    "# Predict on validation data & probabilities for ROC_AUC\n",
    "y_pred_logreg_rus = logreg_rus.predict(X_test)\n",
    "y_proba_logreg_rus = logreg_rus.predict_proba(X_test)[:, 1]\n",
    "\n",
    "# Save the model\n",
    "joblib.dump(logreg_rus, 'models/logreg_rus_v1.joblib')"
   ]
  },
  {
   "cell_type": "code",
   "execution_count": 8,
   "id": "c42f831b",
   "metadata": {},
   "outputs": [
    {
     "name": "stdout",
     "output_type": "stream",
     "text": [
      "Logistic Regression - Undersampling - Validation Performance:\n",
      "Confusion Matrix:\n",
      "[[50763  6110]\n",
      " [    7    82]]\n",
      "Classufication Report\n",
      "              precision    recall  f1-score   support\n",
      "\n",
      "           0       1.00      0.89      0.94     56873\n",
      "           1       0.01      0.92      0.03        89\n",
      "\n",
      "    accuracy                           0.89     56962\n",
      "   macro avg       0.51      0.91      0.48     56962\n",
      "weighted avg       1.00      0.89      0.94     56962\n",
      "\n",
      "F1 Score (weighted)  : 0.9417404069135727\n",
      "ROC AUC Score: 0.9804221785697564\n"
     ]
    }
   ],
   "source": [
    "# Evaluate the model\n",
    "accuracy_logreg_rus = accuracy_score(y_test, y_pred_logreg_rus)\n",
    "roc_auc_logreg_rus = roc_auc_score(y_test, y_proba_logreg_rus)\n",
    "f1_score_logreg_rus = f1_score(y_test, y_pred_logreg_rus, average='weighted')\n",
    "report = classification_report(y_test, y_pred_logreg_rus, output_dict=True)\n",
    "\n",
    "print(\"Logistic Regression - Undersampling - Validation Performance:\")\n",
    "\n",
    "print(\"Confusion Matrix:\")\n",
    "print(confusion_matrix(y_test, y_pred_logreg_rus))\n",
    "\n",
    "print(\"Classufication Report\")\n",
    "print(classification_report(y_test, y_pred_logreg_rus))\n",
    "\n",
    "print(\"F1 Score (weighted)  :\", f1_score_logreg_rus)\n",
    "print(\"ROC AUC Score:\", roc_auc_logreg_rus)"
   ]
  },
  {
   "cell_type": "code",
   "execution_count": 9,
   "id": "4d1c6401",
   "metadata": {},
   "outputs": [],
   "source": [
    "# Save evaluation metrics\n",
    "\n",
    "logreg_rus_metrics = {\n",
    "    'accuracy': accuracy_logreg_rus,\n",
    "    'roc_auc': roc_auc_logreg_rus,\n",
    "    'classification_report': report,\n",
    "    'f1_score': f1_score_logreg_rus\n",
    "}\n",
    "\n",
    "# Open a file for writing JSON data\n",
    "with open('models/logreg_rus_metrics_v1.json', 'w') as f:\n",
    "    # Save the dictionary to the file in JSON format\n",
    "    json.dump(logreg_base_metrics, f, indent=4)"
   ]
  },
  {
   "cell_type": "markdown",
   "id": "e51737dd",
   "metadata": {},
   "source": [
    "# Model 3 - Logistic Regression - SMOTE"
   ]
  },
  {
   "cell_type": "code",
   "execution_count": 10,
   "id": "76d9460e",
   "metadata": {},
   "outputs": [
    {
     "data": {
      "text/plain": [
       "['models/logreg_smote_v1.joblib']"
      ]
     },
     "execution_count": 10,
     "metadata": {},
     "output_type": "execute_result"
    }
   ],
   "source": [
    "# Train Logistic Regression on SMOTE data\n",
    "logreg_smote = LogisticRegression(max_iter=1000)\n",
    "logreg_smote.fit(X_train_smote, y_train_smote)\n",
    "\n",
    "# Predict on validation data\n",
    "y_pred_logreg_smote = logreg_smote.predict(X_test)\n",
    "y_proba_logreg_smote = logreg_smote.predict_proba(X_test)[:, 1]\n",
    "\n",
    "# Save the model\n",
    "joblib.dump(logreg_smote, 'models/logreg_smote_v1.joblib')"
   ]
  },
  {
   "cell_type": "code",
   "execution_count": 11,
   "id": "05a15601",
   "metadata": {},
   "outputs": [
    {
     "name": "stdout",
     "output_type": "stream",
     "text": [
      "Logistic Regression - Undersampling - Validation Performance:\n",
      "Confusion Matrix:\n",
      "[[54703  2170]\n",
      " [    9    80]]\n",
      "Classufication Report\n",
      "              precision    recall  f1-score   support\n",
      "\n",
      "           0       1.00      0.96      0.98     56873\n",
      "           1       0.04      0.90      0.07        89\n",
      "\n",
      "    accuracy                           0.96     56962\n",
      "   macro avg       0.52      0.93      0.52     56962\n",
      "weighted avg       1.00      0.96      0.98     56962\n",
      "\n",
      "F1 Score (weighted)  : 0.9790472310755595\n",
      "ROC AUC Score: 0.9679298266964617\n"
     ]
    }
   ],
   "source": [
    "# Evaluate the model\n",
    "accuracy_logreg_smote = accuracy_score(y_test, y_pred_logreg_smote)\n",
    "roc_auc_logreg_smote = roc_auc_score(y_test, y_proba_logreg_smote)\n",
    "f1_score_logreg_smote = f1_score(y_test, y_pred_logreg_smote, average='weighted')\n",
    "report = classification_report(y_test, y_pred_logreg_smote, output_dict=True)\n",
    "\n",
    "print(\"Logistic Regression - Undersampling - Validation Performance:\")\n",
    "\n",
    "print(\"Confusion Matrix:\")\n",
    "print(confusion_matrix(y_test, y_pred_logreg_smote))\n",
    "\n",
    "print(\"Classufication Report\")\n",
    "print(classification_report(y_test, y_pred_logreg_smote))\n",
    "\n",
    "print(\"F1 Score (weighted)  :\", f1_score_logreg_smote)\n",
    "print(\"ROC AUC Score:\", roc_auc_logreg_smote)"
   ]
  },
  {
   "cell_type": "code",
   "execution_count": 12,
   "id": "54e3b6c2",
   "metadata": {},
   "outputs": [],
   "source": [
    "# Save evaluation metrics\n",
    "\n",
    "logreg_smote_metrics = {\n",
    "    'accuracy': accuracy_logreg_smote,\n",
    "    'roc_auc': roc_auc_logreg_smote,\n",
    "    'classification_report': report,\n",
    "    'f1_score': f1_score_logreg_smote\n",
    "}\n",
    "\n",
    "# Open a file for writing JSON data\n",
    "with open('models/logreg_smote_metrics_v1.json', 'w') as f:\n",
    "    # Save the dictionary to the file in JSON format\n",
    "    json.dump(logreg_smote_metrics, f, indent=4)"
   ]
  },
  {
   "cell_type": "markdown",
   "id": "5a5f85b0",
   "metadata": {},
   "source": [
    "# Model 4 - Naive Bayes - Base\n",
    "\n",
    "Features in our dataframe are continious hence Gaussian NB is the best choice compared to other NB Models."
   ]
  },
  {
   "cell_type": "code",
   "execution_count": 13,
   "id": "76785a1e",
   "metadata": {},
   "outputs": [
    {
     "data": {
      "text/plain": [
       "['models/gnb_base_v1.joblib']"
      ]
     },
     "execution_count": 13,
     "metadata": {},
     "output_type": "execute_result"
    }
   ],
   "source": [
    "from sklearn.naive_bayes import GaussianNB\n",
    "from sklearn.metrics import classification_report, roc_auc_score, accuracy_score, confusion_matrix, f1_score\n",
    "\n",
    "# Initialize the model\n",
    "gnb_base = GaussianNB()\n",
    "\n",
    "# Train the model\n",
    "gnb_base.fit(X_train, y_train)\n",
    "\n",
    "# Predict on validation data & probabilities for ROC_AUC\n",
    "y_pred_gnb_base = gnb_base.predict(X_test)\n",
    "y_proba_gnb_base = gnb_base.predict_proba(X_test)[:, 1]\n",
    "\n",
    "# Save the model\n",
    "joblib.dump(gnb_base, 'models/gnb_base_v1.joblib')"
   ]
  },
  {
   "cell_type": "code",
   "execution_count": 14,
   "id": "2746fd4a",
   "metadata": {},
   "outputs": [
    {
     "name": "stdout",
     "output_type": "stream",
     "text": [
      "Gaussian Naive Bayes - Validation Performance:\n",
      "Confusion Matrix:\n",
      "[[56275   598]\n",
      " [   20    69]]\n",
      "Classification Report\n",
      "              precision    recall  f1-score   support\n",
      "\n",
      "           0       1.00      0.99      0.99     56873\n",
      "           1       0.10      0.78      0.18        89\n",
      "\n",
      "    accuracy                           0.99     56962\n",
      "   macro avg       0.55      0.88      0.59     56962\n",
      "weighted avg       1.00      0.99      0.99     56962\n",
      "\n",
      "F1 Score (weighted) : 0.9932703877923414\n",
      "ROC AUC Score: 0.9624865929351363\n"
     ]
    }
   ],
   "source": [
    "# Evaluate the model\n",
    "accuracy_gnb_base = accuracy_score(y_test, y_pred_gnb_base)\n",
    "roc_auc_gnb_base = roc_auc_score(y_test, y_proba_gnb_base)\n",
    "f1_score_gnb_base = f1_score(y_test, y_pred_gnb_base, average='weighted')\n",
    "report = classification_report(y_test, y_pred_gnb_base, output_dict=True)\n",
    "\n",
    "print(\"Gaussian Naive Bayes - Validation Performance:\")\n",
    "\n",
    "print(\"Confusion Matrix:\")\n",
    "print(confusion_matrix(y_test, y_pred_gnb_base))\n",
    "\n",
    "print(\"Classification Report\")\n",
    "print(classification_report(y_test, y_pred_gnb_base))\n",
    "\n",
    "print(\"F1 Score (weighted) :\", f1_score_gnb_base)\n",
    "print(\"ROC AUC Score:\", roc_auc_gnb_base)"
   ]
  },
  {
   "cell_type": "code",
   "execution_count": 15,
   "id": "0cafded1",
   "metadata": {},
   "outputs": [],
   "source": [
    "# Save evaluation metrics\n",
    "\n",
    "gnb_base_metrics = {\n",
    "    'accuracy': accuracy_gnb_base,\n",
    "    'roc_auc': roc_auc_gnb_base,\n",
    "    'classification_report': report,\n",
    "    'f1_score': f1_score_gnb_base\n",
    "}\n",
    "\n",
    "# Open a file for writing JSON data\n",
    "with open('models/gnb_base_metrics_v1.json', 'w') as f:\n",
    "    # Save the dictionary to the file in JSON format\n",
    "    json.dump(gnb_base_metrics, f, indent=4)"
   ]
  },
  {
   "cell_type": "markdown",
   "id": "0b7dc204",
   "metadata": {},
   "source": [
    "# Model 5 - Gaussian NB - Undersampling"
   ]
  },
  {
   "cell_type": "code",
   "execution_count": 16,
   "id": "9f8b44b0",
   "metadata": {},
   "outputs": [
    {
     "data": {
      "text/plain": [
       "['models/gnb_rus_v1.joblib']"
      ]
     },
     "execution_count": 16,
     "metadata": {},
     "output_type": "execute_result"
    }
   ],
   "source": [
    "# Train the Gaussian Naive Bayes model on the undersampled data\n",
    "gnb_rus = GaussianNB()\n",
    "gnb_rus = gnb_rus.fit(X_train_resampled, y_train_resampled)\n",
    "\n",
    "# Predict on validation data\n",
    "y_pred_gnb_rus = gnb_rus.predict(X_test)\n",
    "y_proba_gnb_rus = gnb_rus.predict_proba(X_test)[:, 1]\n",
    "\n",
    "# Save the model\n",
    "joblib.dump(gnb_rus, 'models/gnb_rus_v1.joblib')"
   ]
  },
  {
   "cell_type": "code",
   "execution_count": 17,
   "id": "5433b7ed",
   "metadata": {},
   "outputs": [
    {
     "name": "stdout",
     "output_type": "stream",
     "text": [
      "Gaussian Naive Bayes - Validation Performance:\n",
      "Confusion Matrix:\n",
      "[[56175   698]\n",
      " [   17    72]]\n",
      "Classification Report\n",
      "              precision    recall  f1-score   support\n",
      "\n",
      "           0       1.00      0.99      0.99     56873\n",
      "           1       0.09      0.81      0.17        89\n",
      "\n",
      "    accuracy                           0.99     56962\n",
      "   macro avg       0.55      0.90      0.58     56962\n",
      "weighted avg       1.00      0.99      0.99     56962\n",
      "\n",
      "F1 Score (weighted) :, 0.9923855626818886\n",
      "ROC AUC Score: 0.9634061461995849\n"
     ]
    }
   ],
   "source": [
    "# Evaluate the model\n",
    "accuracy_gnb_rus = accuracy_score(y_test, y_pred_gnb_rus)\n",
    "roc_auc_gnb_rus = roc_auc_score(y_test, y_proba_gnb_rus)\n",
    "f1_score_gnb_rus = f1_score(y_test, y_pred_gnb_rus, average='weighted')\n",
    "report = classification_report(y_test, y_pred_gnb_rus, output_dict=True)\n",
    "\n",
    "print(\"Gaussian Naive Bayes - Validation Performance:\")\n",
    "\n",
    "print(\"Confusion Matrix:\")\n",
    "print(confusion_matrix(y_test, y_pred_gnb_rus))\n",
    "\n",
    "print(\"Classification Report\")\n",
    "print(classification_report(y_test, y_pred_gnb_rus))\n",
    "\n",
    "print(f\"F1 Score (weighted) :, {f1_score_gnb_rus}\")\n",
    "print(\"ROC AUC Score:\", roc_auc_gnb_rus)"
   ]
  },
  {
   "cell_type": "code",
   "execution_count": 18,
   "id": "439c01ff",
   "metadata": {},
   "outputs": [],
   "source": [
    "# Save evaluation metrics\n",
    "gnb_rus_metrics = {\n",
    "    'accuracy': accuracy_gnb_rus,\n",
    "    'roc_auc': roc_auc_gnb_rus,\n",
    "    'classification_report': report,\n",
    "    'f1_score': f1_score_gnb_rus\n",
    "}\n",
    "\n",
    "# Open a file for writing JSON data\n",
    "with open('models/gnb_rus_metrics_v1.json', 'w') as f:\n",
    "    # Save the dictionary to the file in JSON format\n",
    "    json.dump(gnb_rus_metrics, f, indent=4)"
   ]
  },
  {
   "cell_type": "markdown",
   "id": "f566ab25",
   "metadata": {},
   "source": [
    "# Model 6 - Gaussian NB - Oversampling"
   ]
  },
  {
   "cell_type": "code",
   "execution_count": 19,
   "id": "7832077a",
   "metadata": {},
   "outputs": [
    {
     "data": {
      "text/plain": [
       "['models/gnb_smote_v1.joblib']"
      ]
     },
     "execution_count": 19,
     "metadata": {},
     "output_type": "execute_result"
    }
   ],
   "source": [
    "# Train the Gaussian Naive Bayes model on the undersampled data\n",
    "gnb_smote = GaussianNB()\n",
    "gnb_smote = gnb_smote.fit(X_train_smote, y_train_smote)\n",
    "\n",
    "# Predict on validation data\n",
    "y_pred_gnb_smote = gnb_smote.predict(X_test)\n",
    "y_proba_gnb_smote = gnb_smote.predict_proba(X_test)[:, 1]\n",
    "\n",
    "# Save the model\n",
    "joblib.dump(gnb_smote, 'models/gnb_smote_v1.joblib')"
   ]
  },
  {
   "cell_type": "code",
   "execution_count": 20,
   "id": "5ad17982",
   "metadata": {},
   "outputs": [
    {
     "name": "stdout",
     "output_type": "stream",
     "text": [
      "Gaussian Naive Bayes - Validation Performance:\n",
      "Confusion Matrix:\n",
      "[[56178   695]\n",
      " [   17    72]]\n",
      "Classification Report\n",
      "              precision    recall  f1-score   support\n",
      "\n",
      "           0       1.00      0.99      0.99     56873\n",
      "           1       0.09      0.81      0.17        89\n",
      "\n",
      "    accuracy                           0.99     56962\n",
      "   macro avg       0.55      0.90      0.58     56962\n",
      "weighted avg       1.00      0.99      0.99     56962\n",
      "\n",
      "F1 Score (weighted) : 0.9924131394126666\n",
      "ROC AUC Score: 0.9646010023910953\n"
     ]
    }
   ],
   "source": [
    "# Evaluate the model\n",
    "accuracy_gnb_smote = accuracy_score(y_test, y_pred_gnb_smote)\n",
    "roc_auc_gnb_smote = roc_auc_score(y_test, y_proba_gnb_smote)\n",
    "f1_score_gnb_smote = f1_score(y_test, y_pred_gnb_smote, average='weighted')\n",
    "report = classification_report(y_test, y_pred_gnb_smote, output_dict=True)\n",
    "\n",
    "print(\"Gaussian Naive Bayes - Validation Performance:\")\n",
    "\n",
    "print(\"Confusion Matrix:\")\n",
    "print(confusion_matrix(y_test, y_pred_gnb_smote))\n",
    "\n",
    "print(\"Classification Report\")\n",
    "print(classification_report(y_test, y_pred_gnb_smote))\n",
    "\n",
    "print(\"F1 Score (weighted) :\", f1_score_gnb_smote)\n",
    "print(\"ROC AUC Score:\", roc_auc_gnb_smote)"
   ]
  },
  {
   "cell_type": "code",
   "execution_count": 21,
   "id": "48fb09de",
   "metadata": {},
   "outputs": [],
   "source": [
    "# Save evaluation metrics\n",
    "gnb_smote_metrics = {\n",
    "    'accuracy': accuracy_gnb_smote,\n",
    "    'roc_auc': roc_auc_gnb_smote,\n",
    "    'classification_report': report,\n",
    "    'f1_score': f1_score_gnb_smote\n",
    "}\n",
    "\n",
    "# Open a file for writing JSON data\n",
    "with open('models/gnb_smote_metrics_v1.json', 'w') as f:\n",
    "    # Save the dictionary to the file in JSON format\n",
    "    json.dump(gnb_smote_metrics, f, indent=4)"
   ]
  },
  {
   "cell_type": "markdown",
   "id": "99e0606a",
   "metadata": {},
   "source": [
    "# Model 7 - Decission Tree - Base"
   ]
  },
  {
   "cell_type": "code",
   "execution_count": 22,
   "id": "658cde00",
   "metadata": {},
   "outputs": [
    {
     "data": {
      "text/plain": [
       "['models/dt_base_v1.joblib']"
      ]
     },
     "execution_count": 22,
     "metadata": {},
     "output_type": "execute_result"
    }
   ],
   "source": [
    "from sklearn.tree import DecisionTreeClassifier\n",
    "\n",
    "# Initialize and build model\n",
    "dt_base = DecisionTreeClassifier(random_state=42)\n",
    "dt_base = dt_base.fit(X_train, y_train)\n",
    "\n",
    "# predict on validation data & probabilities for roc_auc \n",
    "y_pred_dt_base = dt_base.predict(X_test)\n",
    "y_proba_dt_base = dt_base.predict_proba(X_test)[:,1]\n",
    "\n",
    "# save the model\n",
    "joblib.dump(dt_base, 'models/dt_base_v1.joblib')"
   ]
  },
  {
   "cell_type": "code",
   "execution_count": 23,
   "id": "58b1825b",
   "metadata": {},
   "outputs": [
    {
     "name": "stdout",
     "output_type": "stream",
     "text": [
      "Decission Tree - Validation Performance:\n",
      "Confusion Matrix:\n",
      "[[56850    23]\n",
      " [   24    65]]\n",
      "Classufication Report\n",
      "              precision    recall  f1-score   support\n",
      "\n",
      "           0       1.00      1.00      1.00     56873\n",
      "           1       0.74      0.73      0.73        89\n",
      "\n",
      "    accuracy                           1.00     56962\n",
      "   macro avg       0.87      0.86      0.87     56962\n",
      "weighted avg       1.00      1.00      1.00     56962\n",
      "\n",
      "F1 Score (weighted) : 0.9991725613257484\n",
      "ROC AUC Score: 0.8649663344131424\n"
     ]
    }
   ],
   "source": [
    "# Evaluate the model\n",
    "accuracy_dt_base = accuracy_score(y_test, y_pred_dt_base)\n",
    "roc_auc_dt_base = roc_auc_score(y_test, y_proba_dt_base)\n",
    "f1_score_dt_base = f1_score(y_test, y_pred_dt_base, average='weighted')\n",
    "report = classification_report(y_test, y_pred_dt_base, output_dict=True)\n",
    "\n",
    "\n",
    "print(\"Decission Tree - Validation Performance:\")\n",
    "\n",
    "print(\"Confusion Matrix:\")\n",
    "print(confusion_matrix(y_test, y_pred_dt_base))\n",
    "\n",
    "print(\"Classufication Report\")\n",
    "print(classification_report(y_test, y_pred_dt_base))\n",
    "\n",
    "print(\"F1 Score (weighted) :\", f1_score_dt_base)\n",
    "print(\"ROC AUC Score:\", roc_auc_dt_base)"
   ]
  },
  {
   "cell_type": "code",
   "execution_count": 24,
   "id": "c825f474",
   "metadata": {},
   "outputs": [],
   "source": [
    "# Save evaluation metrics\n",
    "dt_base_metrics = {\n",
    "    'accuracy': accuracy_dt_base, \n",
    "    'roc_auc': roc_auc_dt_base, \n",
    "    'classification_report': report, \n",
    "    'f1_score': f1_score_dt_base\n",
    "}\n",
    "# Open a file for writing JSON data\n",
    "with open('models/dt_base_metrics_v1.json', 'w') as f:\n",
    "    # Save the dictionary to the file in JSON format\n",
    "    json.dump(dt_base_metrics, f, indent=4)"
   ]
  },
  {
   "cell_type": "markdown",
   "id": "5e66320a",
   "metadata": {},
   "source": [
    "# Model 8 - Decission Tree - Undersampled "
   ]
  },
  {
   "cell_type": "code",
   "execution_count": 25,
   "id": "97af7100",
   "metadata": {},
   "outputs": [
    {
     "data": {
      "text/plain": [
       "['models/dt_rus_v1.joblib']"
      ]
     },
     "execution_count": 25,
     "metadata": {},
     "output_type": "execute_result"
    }
   ],
   "source": [
    "# Initialize and build model\n",
    "dt_rus = DecisionTreeClassifier(random_state=42)\n",
    "dt_rus = dt_rus.fit(X_train_resampled, y_train_resampled)\n",
    "\n",
    "# predict on validation data & probabilities for roc_auc \n",
    "y_pred_dt_rus = dt_rus.predict(X_test)\n",
    "y_proba_dt_rus = dt_rus.predict_proba(X_test)[:,1]\n",
    "\n",
    "# save the model\n",
    "joblib.dump(dt_rus, 'models/dt_rus_v1.joblib')"
   ]
  },
  {
   "cell_type": "code",
   "execution_count": 26,
   "id": "658a08f8",
   "metadata": {},
   "outputs": [
    {
     "name": "stdout",
     "output_type": "stream",
     "text": [
      "Decission Tree - Undersampling:\n",
      "Confusion Matrix:\n",
      "[[51095  5778]\n",
      " [   10    79]]\n",
      "Classification Report\n",
      "              precision    recall  f1-score   support\n",
      "\n",
      "           0       1.00      0.90      0.95     56873\n",
      "           1       0.01      0.89      0.03        89\n",
      "\n",
      "    accuracy                           0.90     56962\n",
      "   macro avg       0.51      0.89      0.49     56962\n",
      "weighted avg       1.00      0.90      0.94     56962\n",
      "\n",
      "F1 Score (weighted) : 0.9449593136322486\n",
      "ROC AUC Score: 0.8930228340416267\n"
     ]
    }
   ],
   "source": [
    "# Evaluate the model\n",
    "accuracy_dt_rus = accuracy_score(y_test, y_pred_dt_rus)\n",
    "roc_auc_dt_rus = roc_auc_score(y_test, y_proba_dt_rus)\n",
    "f1_score_dt_rus = f1_score(y_test, y_pred_dt_rus, average='weighted')\n",
    "report = classification_report(y_test, y_pred_dt_rus, output_dict=True)\n",
    "\n",
    "print(\"Decission Tree - Undersampling:\")\n",
    "\n",
    "print(\"Confusion Matrix:\")\n",
    "print(confusion_matrix(y_test, y_pred_dt_rus))\n",
    "\n",
    "print(\"Classification Report\")\n",
    "print(classification_report(y_test, y_pred_dt_rus))\n",
    "\n",
    "print(\"F1 Score (weighted) :\", f1_score_dt_rus)\n",
    "print(\"ROC AUC Score:\", roc_auc_dt_rus)"
   ]
  },
  {
   "cell_type": "code",
   "execution_count": 27,
   "id": "ce587f36",
   "metadata": {},
   "outputs": [],
   "source": [
    "# Save evaluation metrics\n",
    "dt_rus_metrics = {\n",
    "    'accuracy': accuracy_dt_rus,\n",
    "    'roc_auc': roc_auc_dt_rus,\n",
    "    'classification_report': report,\n",
    "    'f1_score': f1_score_dt_rus\n",
    "}\n",
    "\n",
    "# Open a file for writing JSON data\n",
    "with open('models/dt_rus_metrics_v1.json', 'w') as f:\n",
    "    # Save the dictionary to the file in JSON format\n",
    "    json.dump(dt_rus_metrics, f, indent=4)"
   ]
  },
  {
   "cell_type": "markdown",
   "id": "057e09e0",
   "metadata": {},
   "source": [
    "# Model 9 - Decission True - SMOTE"
   ]
  },
  {
   "cell_type": "code",
   "execution_count": 28,
   "id": "eb3b770b",
   "metadata": {},
   "outputs": [
    {
     "data": {
      "text/plain": [
       "['models/dt_smote_v1.joblib']"
      ]
     },
     "execution_count": 28,
     "metadata": {},
     "output_type": "execute_result"
    }
   ],
   "source": [
    "# Train Logistic Regression on SMOTE data\n",
    "dt_smote = DecisionTreeClassifier(random_state=42)\n",
    "dt_smote.fit(X_train_smote, y_train_smote)\n",
    "\n",
    "# Predict on validation data\n",
    "y_pred_dt_smote = dt_smote.predict(X_test)\n",
    "y_proba_dt_smote = dt_smote.predict_proba(X_test)[:, 1]\n",
    "\n",
    "# Save the model\n",
    "joblib.dump(dt_smote, 'models/dt_smote_v1.joblib')"
   ]
  },
  {
   "cell_type": "code",
   "execution_count": 29,
   "id": "8b65289c",
   "metadata": {},
   "outputs": [
    {
     "name": "stdout",
     "output_type": "stream",
     "text": [
      "Decission Tree - SMOTE performance:\n",
      "Confusion Matrix:\n",
      "[[56763   110]\n",
      " [   16    73]]\n",
      "Classufication Report\n",
      "              precision    recall  f1-score   support\n",
      "\n",
      "           0       1.00      1.00      1.00     56873\n",
      "           1       0.40      0.82      0.54        89\n",
      "\n",
      "    accuracy                           1.00     56962\n",
      "   macro avg       0.70      0.91      0.77     56962\n",
      "weighted avg       1.00      1.00      1.00     56962\n",
      "\n",
      "F1 Score (weighted) : 0.9981693050172636\n",
      "ROC AUC Score: 0.9091452925767781\n"
     ]
    }
   ],
   "source": [
    "# Evaluate the model\n",
    "accuracy_dt_smote = accuracy_score(y_test, y_pred_dt_smote)\n",
    "roc_auc_dt_smote = roc_auc_score(y_test, y_proba_dt_smote)\n",
    "f1_score_dt_smote = f1_score(y_test, y_pred_dt_smote, average='weighted')\n",
    "report = classification_report(y_test, y_pred_dt_smote, output_dict=True)\n",
    "\n",
    "print(\"Decission Tree - SMOTE performance:\")\n",
    "\n",
    "print(\"Confusion Matrix:\")\n",
    "print(confusion_matrix(y_test, y_pred_dt_smote))\n",
    "\n",
    "print(\"Classufication Report\")\n",
    "print(classification_report(y_test, y_pred_dt_smote))\n",
    "\n",
    "print(\"F1 Score (weighted) :\", f1_score_dt_smote)\n",
    "print(\"ROC AUC Score:\", roc_auc_dt_smote)"
   ]
  },
  {
   "cell_type": "code",
   "execution_count": 30,
   "id": "8a0ce124",
   "metadata": {},
   "outputs": [],
   "source": [
    "# Save evaluation metrics\n",
    "dt_smote_metrics = {\n",
    "    'accuracy': accuracy_dt_smote, \n",
    "    'roc_auc': roc_auc_dt_smote, \n",
    "    'classification_report': report, \n",
    "    'f1_score': f1_score_dt_smote\n",
    "}\n",
    "\n",
    "with open ('models/dt_smote_metrics_v1.json', 'w') as f:\n",
    "    json.dump(dt_rus_metrics, f, indent=4)"
   ]
  },
  {
   "cell_type": "markdown",
   "id": "23eb07cd",
   "metadata": {},
   "source": [
    "# Model 10 - Random Forest - Base"
   ]
  },
  {
   "cell_type": "code",
   "execution_count": 31,
   "id": "26f752f5",
   "metadata": {},
   "outputs": [
    {
     "data": {
      "text/plain": [
       "['models/rf_base_v1.joblib']"
      ]
     },
     "execution_count": 31,
     "metadata": {},
     "output_type": "execute_result"
    }
   ],
   "source": [
    "from sklearn.ensemble import RandomForestClassifier\n",
    "\n",
    "# Initialize the model\n",
    "rf_base = RandomForestClassifier(random_state=42, n_estimators=100)\n",
    "\n",
    "# Train the model\n",
    "rf_base.fit(X_train, y_train)\n",
    "\n",
    "# Predict on validation data & probabilities for ROC_AUC\n",
    "y_pred_rf_base = rf_base.predict(X_test)\n",
    "y_proba_rf_base = rf_base.predict_proba(X_test)[:, 1]\n",
    "\n",
    "# Save the model\n",
    "joblib.dump(rf_base, 'models/rf_base_v1.joblib')"
   ]
  },
  {
   "cell_type": "code",
   "execution_count": 32,
   "id": "75aba38b",
   "metadata": {},
   "outputs": [
    {
     "name": "stdout",
     "output_type": "stream",
     "text": [
      "Random Forest - Validation Performance:\n",
      "Confusion Matrix:\n",
      "[[56868     5]\n",
      " [   20    69]]\n",
      "Classification Report\n",
      "              precision    recall  f1-score   support\n",
      "\n",
      "           0       1.00      1.00      1.00     56873\n",
      "           1       0.93      0.78      0.85        89\n",
      "\n",
      "    accuracy                           1.00     56962\n",
      "   macro avg       0.97      0.89      0.92     56962\n",
      "weighted avg       1.00      1.00      1.00     56962\n",
      "\n",
      "F1 Score (weighted) : 0.9995409455679891\n",
      "ROC AUC Score: 0.9590227348654019\n"
     ]
    }
   ],
   "source": [
    "# Evaluate the model\n",
    "accuracy_rf_base = accuracy_score(y_test, y_pred_rf_base)\n",
    "roc_auc_rf_base = roc_auc_score(y_test, y_proba_rf_base)\n",
    "f1_score_rf_base = f1_score(y_test, y_pred_rf_base, average='weighted')\n",
    "report = classification_report(y_test, y_pred_rf_base, output_dict=True)\n",
    "\n",
    "print(\"Random Forest - Validation Performance:\")\n",
    "print(\"Confusion Matrix:\")\n",
    "print(confusion_matrix(y_test, y_pred_rf_base))\n",
    "\n",
    "print(\"Classification Report\")\n",
    "print(classification_report(y_test, y_pred_rf_base))\n",
    "\n",
    "print(\"F1 Score (weighted) :\", f1_score_rf_base)\n",
    "print(\"ROC AUC Score:\", roc_auc_rf_base)"
   ]
  },
  {
   "cell_type": "code",
   "execution_count": 33,
   "id": "ed3bb3ca",
   "metadata": {},
   "outputs": [],
   "source": [
    "# Save evaluation metrics\n",
    "rf_base_metrics = {\n",
    "    'accuracy': accuracy_rf_base,\n",
    "    'roc_auc': roc_auc_rf_base,\n",
    "    'classification_report': report,\n",
    "    'f1_score': f1_score_rf_base\n",
    "}\n",
    "\n",
    "# Open a file for writing JSON data\n",
    "with open('models/rf_base_metrics_v1.json', 'w') as f:\n",
    "    json.dump(rf_base_metrics, f, indent=4)"
   ]
  },
  {
   "cell_type": "markdown",
   "id": "759feedc",
   "metadata": {},
   "source": [
    "# Model 11 - Random Forest - Undersampling"
   ]
  },
  {
   "cell_type": "code",
   "execution_count": 34,
   "id": "1bedc265",
   "metadata": {},
   "outputs": [
    {
     "data": {
      "text/plain": [
       "['models/rf_rus_v1.joblib']"
      ]
     },
     "execution_count": 34,
     "metadata": {},
     "output_type": "execute_result"
    }
   ],
   "source": [
    "# Initialize and build model\n",
    "rf_rus = DecisionTreeClassifier(random_state=42)\n",
    "rf_rus = rf_rus.fit(X_train_resampled, y_train_resampled)\n",
    "\n",
    "# predict on validation data & probabilities for roc_auc \n",
    "y_pred_rf_rus = rf_rus.predict(X_test)\n",
    "y_proba_rf_rus = rf_rus.predict_proba(X_test)[:,1]\n",
    "\n",
    "# save the model`\n",
    "joblib.dump(rf_rus, 'models/rf_rus_v1.joblib')"
   ]
  },
  {
   "cell_type": "code",
   "execution_count": 35,
   "id": "3d23f44e",
   "metadata": {},
   "outputs": [
    {
     "name": "stdout",
     "output_type": "stream",
     "text": [
      "Decission Tree - Undersampling:\n",
      "Confusion Matrix:\n",
      "[[51095  5778]\n",
      " [   10    79]]\n",
      "Classification Report\n",
      "              precision    recall  f1-score   support\n",
      "\n",
      "           0       1.00      0.90      0.95     56873\n",
      "           1       0.01      0.89      0.03        89\n",
      "\n",
      "    accuracy                           0.90     56962\n",
      "   macro avg       0.51      0.89      0.49     56962\n",
      "weighted avg       1.00      0.90      0.94     56962\n",
      "\n",
      "F1 Score (weighted) : 0.9449593136322486\n",
      "ROC AUC Score: 0.8930228340416267\n"
     ]
    }
   ],
   "source": [
    "# Evaluate the model\n",
    "accuracy_rf_rus = accuracy_score(y_test, y_pred_rf_rus)\n",
    "roc_auc_rf_rus = roc_auc_score(y_test, y_proba_rf_rus)\n",
    "f1_score_rf_rus = f1_score(y_test, y_pred_rf_rus, average='weighted')\n",
    "report = classification_report(y_test, y_pred_rf_rus, output_dict=True)\n",
    "\n",
    "print(\"Decission Tree - Undersampling:\")\n",
    "\n",
    "print(\"Confusion Matrix:\")\n",
    "print(confusion_matrix(y_test, y_pred_rf_rus))\n",
    "\n",
    "print(\"Classification Report\")\n",
    "print(classification_report(y_test, y_pred_rf_rus))\n",
    "\n",
    "print(\"F1 Score (weighted) :\", f1_score_rf_rus)\n",
    "print(\"ROC AUC Score:\", roc_auc_rf_rus)"
   ]
  },
  {
   "cell_type": "code",
   "execution_count": 36,
   "id": "85c4f119",
   "metadata": {},
   "outputs": [],
   "source": [
    "# Save evaluation metrics\n",
    "rf_rus_metrics = {\n",
    "    'accuracy': accuracy_rf_rus,\n",
    "    'roc_auc': roc_auc_rf_rus,\n",
    "    'classification_report': report,\n",
    "    'f1_score': f1_score_rf_rus\n",
    "}\n",
    "\n",
    "# Open a file for writing JSON data\n",
    "with open('models/rf_rus_metrics_v1.json', 'w') as f:\n",
    "    json.dump(rf_rus_metrics, f, indent=4)"
   ]
  },
  {
   "cell_type": "markdown",
   "id": "8dd97cd3",
   "metadata": {},
   "source": [
    "# Model 12 - Random Forest - SMOTE"
   ]
  },
  {
   "cell_type": "code",
   "execution_count": 37,
   "id": "4d3886b9",
   "metadata": {},
   "outputs": [
    {
     "data": {
      "text/plain": [
       "['models/rf_smote_v1.joblib']"
      ]
     },
     "execution_count": 37,
     "metadata": {},
     "output_type": "execute_result"
    }
   ],
   "source": [
    "# Train Logistic Regression on SMOTE data\n",
    "rf_smote = DecisionTreeClassifier(random_state=42)\n",
    "rf_smote.fit(X_train_smote, y_train_smote)\n",
    "\n",
    "# Predict on validation data\n",
    "y_pred_rf_smote = rf_smote.predict(X_test)\n",
    "y_proba_rf_smote = rf_smote.predict_proba(X_test)[:, 1]\n",
    "\n",
    "# Save the model\n",
    "joblib.dump(rf_smote, 'models/rf_smote_v1.joblib')"
   ]
  },
  {
   "cell_type": "code",
   "execution_count": 38,
   "id": "cb5a19dc",
   "metadata": {},
   "outputs": [
    {
     "name": "stdout",
     "output_type": "stream",
     "text": [
      "Decission Tree - SMOTE performance:\n",
      "Confusion Matrix:\n",
      "[[56763   110]\n",
      " [   16    73]]\n",
      "Classufication Report\n",
      "              precision    recall  f1-score   support\n",
      "\n",
      "           0       1.00      1.00      1.00     56873\n",
      "           1       0.40      0.82      0.54        89\n",
      "\n",
      "    accuracy                           1.00     56962\n",
      "   macro avg       0.70      0.91      0.77     56962\n",
      "weighted avg       1.00      1.00      1.00     56962\n",
      "\n",
      "F1 Score (weighted) : 0.9981693050172636\n",
      "ROC AUC Score: 0.9091452925767781\n"
     ]
    }
   ],
   "source": [
    "# Evaluate the model\n",
    "accuracy_rf_smote = accuracy_score(y_test, y_pred_rf_smote)\n",
    "roc_auc_rf_smote = roc_auc_score(y_test, y_proba_rf_smote)\n",
    "f1_score_rf_smote = f1_score(y_test, y_pred_rf_smote, average='weighted')\n",
    "report = classification_report(y_test, y_pred_rf_smote, output_dict=True)\n",
    "\n",
    "print(\"Decission Tree - SMOTE performance:\")\n",
    "\n",
    "print(\"Confusion Matrix:\")\n",
    "print(confusion_matrix(y_test, y_pred_rf_smote))\n",
    "\n",
    "print(\"Classufication Report\")\n",
    "print(classification_report(y_test, y_pred_rf_smote))\n",
    "\n",
    "print(\"F1 Score (weighted) :\", f1_score_rf_smote)\n",
    "print(\"ROC AUC Score:\", roc_auc_rf_smote)"
   ]
  },
  {
   "cell_type": "code",
   "execution_count": 39,
   "id": "82ffb97b",
   "metadata": {},
   "outputs": [],
   "source": [
    "# Save evaluation metrics\n",
    "rf_smote_metrics = {\n",
    "    'accuracy': accuracy_rf_smote, \n",
    "    'roc_auc': roc_auc_rf_smote, \n",
    "    'classification_report': report, \n",
    "    'f1_score': f1_score_rf_smote\n",
    "}\n",
    "\n",
    "with open ('models/rf_smote_metrics_v1.json', 'w') as f:\n",
    "    json.dump(rf_smote_metrics, f, indent=4)"
   ]
  },
  {
   "cell_type": "markdown",
   "id": "7030ba66",
   "metadata": {},
   "source": [
    "# Model 13 - SVM - Base"
   ]
  },
  {
   "cell_type": "code",
   "execution_count": 40,
   "id": "6907eda1",
   "metadata": {},
   "outputs": [
    {
     "data": {
      "text/plain": [
       "['models/svm_base_v1.joblib']"
      ]
     },
     "execution_count": 40,
     "metadata": {},
     "output_type": "execute_result"
    }
   ],
   "source": [
    "from sklearn.svm import SVC\n",
    "\n",
    "# Initialize the model\n",
    "svm_base = SVC(probability=True, random_state=42)\n",
    "\n",
    "# Train the model\n",
    "svm_base.fit(X_train, y_train)\n",
    "\n",
    "# Predict on validation data & probabilities for ROC_AUC\n",
    "y_pred_svm_base = svm_base.predict(X_test)\n",
    "y_proba_svm_base = svm_base.predict_proba(X_test)[:, 1]\n",
    "\n",
    "# Save the model\n",
    "joblib.dump(svm_base, 'models/svm_base_v1.joblib')"
   ]
  },
  {
   "cell_type": "code",
   "execution_count": 41,
   "id": "1335a911",
   "metadata": {},
   "outputs": [
    {
     "name": "stdout",
     "output_type": "stream",
     "text": [
      "SVM - Validation Performance:\n",
      "Confusion Matrix:\n",
      "[[56873     0]\n",
      " [   89     0]]\n",
      "Classification Report\n",
      "              precision    recall  f1-score   support\n",
      "\n",
      "           0       1.00      1.00      1.00     56873\n",
      "           1       1.00      0.00      0.00        89\n",
      "\n",
      "    accuracy                           1.00     56962\n",
      "   macro avg       1.00      0.50      0.50     56962\n",
      "weighted avg       1.00      1.00      1.00     56962\n",
      "\n",
      "F1 Score (weighted) : 0.997656943077566\n",
      "ROC AUC Score: 0.6386952834197701\n"
     ]
    }
   ],
   "source": [
    "# Evaluate the model\n",
    "accuracy_svm_base = accuracy_score(y_test, y_pred_svm_base)\n",
    "roc_auc_svm_base = roc_auc_score(y_test, y_proba_svm_base)\n",
    "f1_score_svm_base = f1_score(y_test, y_pred_svm_base, average='weighted')\n",
    "report = classification_report(y_test, y_pred_svm_base, output_dict=True, zero_division=1)\n",
    "\n",
    "print(\"SVM - Validation Performance:\")\n",
    "print(\"Confusion Matrix:\")\n",
    "print(confusion_matrix(y_test, y_pred_svm_base))\n",
    "\n",
    "print(\"Classification Report\")\n",
    "print(classification_report(y_test, y_pred_svm_base, zero_division=1))\n",
    "\n",
    "print(\"F1 Score (weighted) :\", f1_score_svm_base)\n",
    "print(\"ROC AUC Score:\", roc_auc_svm_base)"
   ]
  },
  {
   "cell_type": "code",
   "execution_count": 42,
   "id": "e333c590",
   "metadata": {},
   "outputs": [],
   "source": [
    "# Save evaluation metrics\n",
    "svm_base_metrics = {\n",
    "    'accuracy': accuracy_svm_base,\n",
    "    'roc_auc': roc_auc_svm_base,\n",
    "    'classification_report': report,\n",
    "    'f1_score': f1_score_svm_base\n",
    "}\n",
    "\n",
    "# Open a file for writing JSON data\n",
    "with open('models/svm_base_metrics_v1.json', 'w') as f:\n",
    "    json.dump(svm_base_metrics, f, indent=4)"
   ]
  },
  {
   "cell_type": "markdown",
   "id": "cd5ec5fa",
   "metadata": {},
   "source": [
    "# Model 14 - SVM - Undersampling"
   ]
  },
  {
   "cell_type": "code",
   "execution_count": 43,
   "id": "cdc02db6",
   "metadata": {},
   "outputs": [
    {
     "data": {
      "text/plain": [
       "['models/svm_rus_v1.joblib']"
      ]
     },
     "execution_count": 43,
     "metadata": {},
     "output_type": "execute_result"
    }
   ],
   "source": [
    "# Initialize the model\n",
    "svm_rus = SVC(probability=True, random_state=42)\n",
    "\n",
    "# Train the model\n",
    "svm_rus.fit(X_train_resampled, y_train_resampled)\n",
    "\n",
    "# Predict on validation data & probabilities for ROC_AUC\n",
    "y_pred_svm_rus = svm_rus.predict(X_test)\n",
    "y_proba_svm_rus = svm_rus.predict_proba(X_test)[:, 1]\n",
    "\n",
    "# Save the model\n",
    "joblib.dump(svm_rus, 'models/svm_rus_v1.joblib')\n"
   ]
  },
  {
   "cell_type": "code",
   "execution_count": 84,
   "id": "c128a5ba",
   "metadata": {},
   "outputs": [
    {
     "name": "stdout",
     "output_type": "stream",
     "text": [
      "SVM - Validation Performance:\n",
      "Confusion Matrix:\n",
      "[[    0 56873]\n",
      " [    0    89]]\n",
      "Classification Report\n",
      "              precision    recall  f1-score   support\n",
      "\n",
      "           0       1.00      0.00      0.00     56873\n",
      "           1       0.00      1.00      0.00        89\n",
      "\n",
      "    accuracy                           0.00     56962\n",
      "   macro avg       0.50      0.50      0.00     56962\n",
      "weighted avg       1.00      0.00      0.00     56962\n",
      "\n",
      "F1 Score (weighted) : 4.874852933653786e-06\n",
      "ROC AUC Score: 0.5484642798650334\n"
     ]
    }
   ],
   "source": [
    "# Evaluate the model\n",
    "accuracy_svm_rus = accuracy_score(y_test, y_pred_svm_rus)\n",
    "roc_auc_svm_rus = roc_auc_score(y_test, y_proba_svm_rus)\n",
    "f1_score_svm_rus = f1_score(y_test, y_pred_svm_rus, average='weighted')\n",
    "report = classification_report(y_test, y_pred_svm_rus, output_dict=True, zero_division=1)\n",
    "\n",
    "print(\"SVM - Validation Performance:\")\n",
    "print(\"Confusion Matrix:\")\n",
    "print(confusion_matrix(y_test, y_pred_svm_rus))\n",
    "\n",
    "print(\"Classification Report\")\n",
    "print(classification_report(y_test, y_pred_svm_rus, zero_division=1))\n",
    "\n",
    "print(\"F1 Score (weighted) :\", f1_score_svm_rus)\n",
    "print(\"ROC AUC Score:\", roc_auc_svm_rus)"
   ]
  },
  {
   "cell_type": "code",
   "execution_count": 45,
   "id": "39df52d7",
   "metadata": {},
   "outputs": [],
   "source": [
    "# Save evaluation metrics\n",
    "svm_rus_metrics = {\n",
    "    'accuracy': accuracy_svm_rus,\n",
    "    'roc_auc': roc_auc_svm_rus,\n",
    "    'classification_report': report,\n",
    "    'f1_score': f1_score_svm_rus\n",
    "}\n",
    "\n",
    "# Open a file for writing JSON data\n",
    "with open('models/svm_rus_metrics_v1.json', 'w') as f:\n",
    "    json.dump(svm_rus_metrics, f, indent=4)"
   ]
  },
  {
   "cell_type": "markdown",
   "id": "da3552f8",
   "metadata": {},
   "source": [
    "# Model 15 - SVM - SMOTE"
   ]
  },
  {
   "cell_type": "code",
   "execution_count": 46,
   "id": "47523895",
   "metadata": {},
   "outputs": [
    {
     "data": {
      "text/plain": [
       "['models/svm_smote_v1.joblib']"
      ]
     },
     "execution_count": 46,
     "metadata": {},
     "output_type": "execute_result"
    }
   ],
   "source": [
    "# Initialize the model\n",
    "svm_smote = SVC(probability=True, random_state=42)\n",
    "\n",
    "# Train the model\n",
    "svm_smote.fit(X_train, y_train)\n",
    "\n",
    "# Predict on validation data & probabilities for ROC_AUC\n",
    "y_pred_svm_smote = svm_smote.predict(X_test)\n",
    "y_proba_svm_smote = svm_smote.predict_proba(X_test)[:, 1]\n",
    "\n",
    "# Save the model\n",
    "joblib.dump(svm_smote, 'models/svm_smote_v1.joblib')\n"
   ]
  },
  {
   "cell_type": "code",
   "execution_count": 47,
   "id": "e8198682",
   "metadata": {},
   "outputs": [
    {
     "name": "stdout",
     "output_type": "stream",
     "text": [
      "SVM - Validation Performance:\n",
      "Confusion Matrix:\n",
      "[[56873     0]\n",
      " [   89     0]]\n",
      "Classification Report\n",
      "              precision    recall  f1-score   support\n",
      "\n",
      "           0       1.00      1.00      1.00     56873\n",
      "           1       1.00      0.00      0.00        89\n",
      "\n",
      "    accuracy                           1.00     56962\n",
      "   macro avg       1.00      0.50      0.50     56962\n",
      "weighted avg       1.00      1.00      1.00     56962\n",
      "\n",
      "F1 Score (weighted) : 0.997656943077566\n",
      "ROC AUC Score: 0.6386952834197701\n"
     ]
    }
   ],
   "source": [
    "# Evaluate the model\n",
    "accuracy_svm_smote = accuracy_score(y_test, y_pred_svm_smote)\n",
    "roc_auc_svm_smote = roc_auc_score(y_test, y_proba_svm_smote)\n",
    "f1_score_svm_smote = f1_score(y_test, y_pred_svm_smote, average='weighted')\n",
    "report = classification_report(y_test, y_pred_svm_smote, output_dict=True, zero_division=1)\n",
    "\n",
    "print(\"SVM - Validation Performance:\")\n",
    "print(\"Confusion Matrix:\")\n",
    "print(confusion_matrix(y_test, y_pred_svm_smote))\n",
    "\n",
    "print(\"Classification Report\")\n",
    "print(classification_report(y_test, y_pred_svm_smote, zero_division=1))\n",
    "\n",
    "print(\"F1 Score (weighted) :\", f1_score_svm_smote)\n",
    "print(\"ROC AUC Score:\", roc_auc_svm_smote)"
   ]
  },
  {
   "cell_type": "code",
   "execution_count": 48,
   "id": "499cb6cc",
   "metadata": {},
   "outputs": [],
   "source": [
    "# Save evaluation metrics\n",
    "svm_smote_metrics = {\n",
    "    'accuracy': accuracy_svm_smote,\n",
    "    'roc_auc': roc_auc_svm_smote,\n",
    "    'classification_report': report,\n",
    "    'f1_score': f1_score_svm_smote\n",
    "}\n",
    "\n",
    "# Open a file for writing JSON data\n",
    "with open('models/svm_smote_metrics_v1.json', 'w') as f:\n",
    "    json.dump(svm_smote_metrics, f, indent=4)\n"
   ]
  },
  {
   "cell_type": "markdown",
   "id": "fbfefd6a",
   "metadata": {},
   "source": [
    "# Model 16 - KNN - Base"
   ]
  },
  {
   "cell_type": "markdown",
   "id": "80e4ccc3",
   "metadata": {},
   "source": [
    "#### Looks like there is some issue with the pandas df in this KNN algorithm, converting them into a numpy array. This is the additional process in this algorithm."
   ]
  },
  {
   "cell_type": "code",
   "execution_count": 49,
   "id": "6073557d",
   "metadata": {},
   "outputs": [
    {
     "name": "stdout",
     "output_type": "stream",
     "text": [
      "<class 'pandas.core.frame.DataFrame'>\n",
      "<Flags(allows_duplicate_labels=True)>\n"
     ]
    }
   ],
   "source": [
    "print(type(X_test))\n",
    "print(X_test.flags)  # To check memory layout if it's a NumPy array"
   ]
  },
  {
   "cell_type": "code",
   "execution_count": 50,
   "id": "6c40d3b9",
   "metadata": {},
   "outputs": [],
   "source": [
    "# looks like there is some issue with the pandas df in this algorithm, converting them into a numpy array and checking.\n",
    "\n",
    "X_test_np = X_test.to_numpy()\n",
    "\n",
    "# converting to a dataframe since their was a consistency warning.\n",
    "import pandas as pd\n",
    "X_test_df = pd.DataFrame(X_test_np, columns=X_test.columns)"
   ]
  },
  {
   "cell_type": "code",
   "execution_count": 51,
   "id": "4230195b",
   "metadata": {},
   "outputs": [
    {
     "name": "stderr",
     "output_type": "stream",
     "text": [
      "C:\\ProgramData\\anaconda3\\Lib\\site-packages\\sklearn\\base.py:464: UserWarning: X does not have valid feature names, but KNeighborsClassifier was fitted with feature names\n",
      "  warnings.warn(\n",
      "C:\\ProgramData\\anaconda3\\Lib\\site-packages\\sklearn\\base.py:464: UserWarning: X does not have valid feature names, but KNeighborsClassifier was fitted with feature names\n",
      "  warnings.warn(\n"
     ]
    },
    {
     "data": {
      "text/plain": [
       "['models/knn_base_v1.joblib']"
      ]
     },
     "execution_count": 51,
     "metadata": {},
     "output_type": "execute_result"
    }
   ],
   "source": [
    "from sklearn.neighbors import KNeighborsClassifier\n",
    "\n",
    "# Initialize the model\n",
    "knn_base = KNeighborsClassifier(n_neighbors=5)\n",
    "\n",
    "# Train the model\n",
    "knn_base.fit(X_train, y_train)\n",
    "\n",
    "# Predict on validation data & probabilities for ROC_AUC\n",
    "y_pred_knn_base = knn_base.predict(X_test_np)\n",
    "y_proba_knn_base = knn_base.predict_proba(X_test_np)[:, 1]\n",
    "\n",
    "# Save the model\n",
    "joblib.dump(knn_base, 'models/knn_base_v1.joblib')"
   ]
  },
  {
   "cell_type": "code",
   "execution_count": 52,
   "id": "fe0061b8",
   "metadata": {},
   "outputs": [
    {
     "name": "stdout",
     "output_type": "stream",
     "text": [
      "KNN - Validation Performance:\n",
      "Confusion Matrix:\n",
      "[[56873     0]\n",
      " [   89     0]]\n",
      "Classification Report\n",
      "              precision    recall  f1-score   support\n",
      "\n",
      "           0       1.00      1.00      1.00     56873\n",
      "           1       0.00      0.00      0.00        89\n",
      "\n",
      "    accuracy                           1.00     56962\n",
      "   macro avg       0.50      0.50      0.50     56962\n",
      "weighted avg       1.00      1.00      1.00     56962\n",
      "\n",
      "F1 Score (weighted) : 0.997656943077566\n",
      "ROC AUC Score: 0.5332741173562937\n"
     ]
    },
    {
     "name": "stderr",
     "output_type": "stream",
     "text": [
      "C:\\ProgramData\\anaconda3\\Lib\\site-packages\\sklearn\\metrics\\_classification.py:1469: UndefinedMetricWarning: Precision and F-score are ill-defined and being set to 0.0 in labels with no predicted samples. Use `zero_division` parameter to control this behavior.\n",
      "  _warn_prf(average, modifier, msg_start, len(result))\n",
      "C:\\ProgramData\\anaconda3\\Lib\\site-packages\\sklearn\\metrics\\_classification.py:1469: UndefinedMetricWarning: Precision and F-score are ill-defined and being set to 0.0 in labels with no predicted samples. Use `zero_division` parameter to control this behavior.\n",
      "  _warn_prf(average, modifier, msg_start, len(result))\n",
      "C:\\ProgramData\\anaconda3\\Lib\\site-packages\\sklearn\\metrics\\_classification.py:1469: UndefinedMetricWarning: Precision and F-score are ill-defined and being set to 0.0 in labels with no predicted samples. Use `zero_division` parameter to control this behavior.\n",
      "  _warn_prf(average, modifier, msg_start, len(result))\n",
      "C:\\ProgramData\\anaconda3\\Lib\\site-packages\\sklearn\\metrics\\_classification.py:1469: UndefinedMetricWarning: Precision and F-score are ill-defined and being set to 0.0 in labels with no predicted samples. Use `zero_division` parameter to control this behavior.\n",
      "  _warn_prf(average, modifier, msg_start, len(result))\n",
      "C:\\ProgramData\\anaconda3\\Lib\\site-packages\\sklearn\\metrics\\_classification.py:1469: UndefinedMetricWarning: Precision and F-score are ill-defined and being set to 0.0 in labels with no predicted samples. Use `zero_division` parameter to control this behavior.\n",
      "  _warn_prf(average, modifier, msg_start, len(result))\n",
      "C:\\ProgramData\\anaconda3\\Lib\\site-packages\\sklearn\\metrics\\_classification.py:1469: UndefinedMetricWarning: Precision and F-score are ill-defined and being set to 0.0 in labels with no predicted samples. Use `zero_division` parameter to control this behavior.\n",
      "  _warn_prf(average, modifier, msg_start, len(result))\n"
     ]
    }
   ],
   "source": [
    "# Evaluate the model\n",
    "accuracy_knn_base = accuracy_score(y_test, y_pred_knn_base)\n",
    "roc_auc_knn_base = roc_auc_score(y_test, y_proba_knn_base)\n",
    "f1_score_knn_base = f1_score(y_test, y_pred_knn_base, average='weighted')\n",
    "report = classification_report(y_test, y_pred_knn_base, output_dict=True)\n",
    "\n",
    "print(\"KNN - Validation Performance:\")\n",
    "print(\"Confusion Matrix:\")\n",
    "print(confusion_matrix(y_test, y_pred_knn_base))\n",
    "\n",
    "print(\"Classification Report\")\n",
    "print(classification_report(y_test, y_pred_knn_base))\n",
    "\n",
    "print(\"F1 Score (weighted) :\", f1_score_knn_base)\n",
    "print(\"ROC AUC Score:\", roc_auc_knn_base)\n"
   ]
  },
  {
   "cell_type": "code",
   "execution_count": 53,
   "id": "256cd563",
   "metadata": {},
   "outputs": [],
   "source": [
    "# Save evaluation metrics\n",
    "knn_base_metrics = {\n",
    "    'accuracy': accuracy_knn_base,\n",
    "    'roc_auc': roc_auc_knn_base,\n",
    "    'classification_report': report,\n",
    "    'f1_score': f1_score_knn_base\n",
    "}\n",
    "\n",
    "# Open a file for writing JSON data\n",
    "with open('models/knn_base_metrics_v1.json', 'w') as f:\n",
    "    json.dump(knn_base_metrics, f, indent=4)\n"
   ]
  },
  {
   "cell_type": "markdown",
   "id": "9a5561de",
   "metadata": {},
   "source": [
    "# Model 17 - KNN - Undersampling"
   ]
  },
  {
   "cell_type": "code",
   "execution_count": 54,
   "id": "703d169d",
   "metadata": {},
   "outputs": [
    {
     "name": "stderr",
     "output_type": "stream",
     "text": [
      "C:\\ProgramData\\anaconda3\\Lib\\site-packages\\sklearn\\base.py:464: UserWarning: X does not have valid feature names, but KNeighborsClassifier was fitted with feature names\n",
      "  warnings.warn(\n",
      "C:\\ProgramData\\anaconda3\\Lib\\site-packages\\sklearn\\base.py:464: UserWarning: X does not have valid feature names, but KNeighborsClassifier was fitted with feature names\n",
      "  warnings.warn(\n"
     ]
    },
    {
     "data": {
      "text/plain": [
       "['models/knn_rus_v1.joblib']"
      ]
     },
     "execution_count": 54,
     "metadata": {},
     "output_type": "execute_result"
    }
   ],
   "source": [
    "from sklearn.neighbors import KNeighborsClassifier\n",
    "\n",
    "# Initialize the model\n",
    "knn_rus = KNeighborsClassifier(n_neighbors=5)\n",
    "\n",
    "# Train the model\n",
    "knn_rus.fit(X_train_resampled, y_train_resampled)\n",
    "\n",
    "# Predict on validation data & probabilities for ROC_AUC\n",
    "y_pred_knn_rus = knn_rus.predict(X_test_np)\n",
    "y_proba_knn_rus = knn_rus.predict_proba(X_test_np)[:, 1]\n",
    "\n",
    "# Save the model\n",
    "joblib.dump(knn_rus, 'models/knn_rus_v1.joblib')\n"
   ]
  },
  {
   "cell_type": "code",
   "execution_count": 55,
   "id": "11fa3070",
   "metadata": {},
   "outputs": [
    {
     "name": "stdout",
     "output_type": "stream",
     "text": [
      "KNN - Validation Performance:\n",
      "Confusion Matrix:\n",
      "[[29135 27738]\n",
      " [   48    41]]\n",
      "Classification Report\n",
      "              precision    recall  f1-score   support\n",
      "\n",
      "           0       1.00      0.51      0.68     56873\n",
      "           1       0.00      0.46      0.00        89\n",
      "\n",
      "    accuracy                           0.51     56962\n",
      "   macro avg       0.50      0.49      0.34     56962\n",
      "weighted avg       1.00      0.51      0.68     56962\n",
      "\n",
      "F1 Score (weighted) : 0.67606386487986\n",
      "ROC AUC Score: 0.4796930752670498\n"
     ]
    }
   ],
   "source": [
    "# Evaluate the model\n",
    "accuracy_knn_rus = accuracy_score(y_test, y_pred_knn_rus)\n",
    "roc_auc_knn_rus = roc_auc_score(y_test, y_proba_knn_rus)\n",
    "f1_score_knn_rus = f1_score(y_test, y_pred_knn_rus, average='weighted')\n",
    "report = classification_report(y_test, y_pred_knn_rus, output_dict=True)\n",
    "\n",
    "print(\"KNN - Validation Performance:\")\n",
    "print(\"Confusion Matrix:\")\n",
    "print(confusion_matrix(y_test, y_pred_knn_rus))\n",
    "\n",
    "print(\"Classification Report\")\n",
    "print(classification_report(y_test, y_pred_knn_rus))\n",
    "\n",
    "print(\"F1 Score (weighted) :\", f1_score_knn_rus)\n",
    "print(\"ROC AUC Score:\", roc_auc_knn_rus)\n"
   ]
  },
  {
   "cell_type": "code",
   "execution_count": 56,
   "id": "f1d5af0b",
   "metadata": {},
   "outputs": [],
   "source": [
    "# Save evaluation metrics\n",
    "knn_rus_metrics = {\n",
    "    'accuracy': accuracy_knn_rus,\n",
    "    'roc_auc': roc_auc_knn_rus,\n",
    "    'classification_report': report,\n",
    "    'f1_score': f1_score_knn_rus\n",
    "}\n",
    "\n",
    "# Open a file for writing JSON data\n",
    "with open('models/knn_rus_metrics_v1.json', 'w') as f:\n",
    "    json.dump(knn_rus_metrics, f, indent=4)"
   ]
  },
  {
   "cell_type": "markdown",
   "id": "0d65576c",
   "metadata": {},
   "source": [
    "# Model 18 - KNN - SMOTE"
   ]
  },
  {
   "cell_type": "code",
   "execution_count": 57,
   "id": "ebd3697f",
   "metadata": {},
   "outputs": [
    {
     "name": "stderr",
     "output_type": "stream",
     "text": [
      "C:\\ProgramData\\anaconda3\\Lib\\site-packages\\sklearn\\base.py:464: UserWarning: X does not have valid feature names, but KNeighborsClassifier was fitted with feature names\n",
      "  warnings.warn(\n",
      "C:\\ProgramData\\anaconda3\\Lib\\site-packages\\sklearn\\base.py:464: UserWarning: X does not have valid feature names, but KNeighborsClassifier was fitted with feature names\n",
      "  warnings.warn(\n"
     ]
    },
    {
     "data": {
      "text/plain": [
       "['models/knn_base_v1.joblib']"
      ]
     },
     "execution_count": 57,
     "metadata": {},
     "output_type": "execute_result"
    }
   ],
   "source": [
    "from sklearn.neighbors import KNeighborsClassifier\n",
    "\n",
    "# Initialize the model\n",
    "knn_smote = KNeighborsClassifier(n_neighbors=5)\n",
    "\n",
    "# Train the model\n",
    "knn_smote.fit(X_train, y_train)\n",
    "\n",
    "# Predict on validation data & probabilities for ROC_AUC\n",
    "y_pred_knn_smote = knn_smote.predict(X_test_np)\n",
    "y_proba_knn_smote = knn_smote.predict_proba(X_test_np)[:, 1]\n",
    "\n",
    "# Save the model\n",
    "joblib.dump(knn_smote, 'models/knn_base_v1.joblib')\n"
   ]
  },
  {
   "cell_type": "code",
   "execution_count": 58,
   "id": "b6558f98",
   "metadata": {},
   "outputs": [
    {
     "name": "stdout",
     "output_type": "stream",
     "text": [
      "KNN - Validation Performance:\n",
      "Confusion Matrix:\n",
      "[[56873     0]\n",
      " [   89     0]]\n",
      "Classification Report\n",
      "              precision    recall  f1-score   support\n",
      "\n",
      "           0       1.00      1.00      1.00     56873\n",
      "           1       0.00      0.00      0.00        89\n",
      "\n",
      "    accuracy                           1.00     56962\n",
      "   macro avg       0.50      0.50      0.50     56962\n",
      "weighted avg       1.00      1.00      1.00     56962\n",
      "\n",
      "F1 Score (weighted) : 0.997656943077566\n",
      "ROC AUC Score: 0.5332741173562937\n"
     ]
    },
    {
     "name": "stderr",
     "output_type": "stream",
     "text": [
      "C:\\ProgramData\\anaconda3\\Lib\\site-packages\\sklearn\\metrics\\_classification.py:1469: UndefinedMetricWarning: Precision and F-score are ill-defined and being set to 0.0 in labels with no predicted samples. Use `zero_division` parameter to control this behavior.\n",
      "  _warn_prf(average, modifier, msg_start, len(result))\n",
      "C:\\ProgramData\\anaconda3\\Lib\\site-packages\\sklearn\\metrics\\_classification.py:1469: UndefinedMetricWarning: Precision and F-score are ill-defined and being set to 0.0 in labels with no predicted samples. Use `zero_division` parameter to control this behavior.\n",
      "  _warn_prf(average, modifier, msg_start, len(result))\n",
      "C:\\ProgramData\\anaconda3\\Lib\\site-packages\\sklearn\\metrics\\_classification.py:1469: UndefinedMetricWarning: Precision and F-score are ill-defined and being set to 0.0 in labels with no predicted samples. Use `zero_division` parameter to control this behavior.\n",
      "  _warn_prf(average, modifier, msg_start, len(result))\n",
      "C:\\ProgramData\\anaconda3\\Lib\\site-packages\\sklearn\\metrics\\_classification.py:1469: UndefinedMetricWarning: Precision and F-score are ill-defined and being set to 0.0 in labels with no predicted samples. Use `zero_division` parameter to control this behavior.\n",
      "  _warn_prf(average, modifier, msg_start, len(result))\n",
      "C:\\ProgramData\\anaconda3\\Lib\\site-packages\\sklearn\\metrics\\_classification.py:1469: UndefinedMetricWarning: Precision and F-score are ill-defined and being set to 0.0 in labels with no predicted samples. Use `zero_division` parameter to control this behavior.\n",
      "  _warn_prf(average, modifier, msg_start, len(result))\n",
      "C:\\ProgramData\\anaconda3\\Lib\\site-packages\\sklearn\\metrics\\_classification.py:1469: UndefinedMetricWarning: Precision and F-score are ill-defined and being set to 0.0 in labels with no predicted samples. Use `zero_division` parameter to control this behavior.\n",
      "  _warn_prf(average, modifier, msg_start, len(result))\n"
     ]
    }
   ],
   "source": [
    "# Evaluate the model\n",
    "accuracy_knn_smote = accuracy_score(y_test, y_pred_knn_smote)\n",
    "roc_auc_knn_smote = roc_auc_score(y_test, y_proba_knn_smote)\n",
    "f1_score_knn_smote = f1_score(y_test, y_pred_knn_smote, average='weighted')\n",
    "report = classification_report(y_test, y_pred_knn_smote, output_dict=True)\n",
    "\n",
    "print(\"KNN - Validation Performance:\")\n",
    "print(\"Confusion Matrix:\")\n",
    "print(confusion_matrix(y_test, y_pred_knn_smote))\n",
    "\n",
    "print(\"Classification Report\")\n",
    "print(classification_report(y_test, y_pred_knn_smote))\n",
    "\n",
    "print(\"F1 Score (weighted) :\", f1_score_knn_smote)\n",
    "print(\"ROC AUC Score:\", roc_auc_knn_smote)\n"
   ]
  },
  {
   "cell_type": "code",
   "execution_count": 59,
   "id": "8c638cf2",
   "metadata": {},
   "outputs": [],
   "source": [
    "# Save evaluation metrics\n",
    "knn_smote_metrics = {\n",
    "    'accuracy': accuracy_knn_smote,\n",
    "    'roc_auc': roc_auc_knn_smote,\n",
    "    'classification_report': report,\n",
    "    'f1_score': f1_score_knn_smote\n",
    "}\n",
    "\n",
    "# Open a file for writing JSON data\n",
    "with open('models/knn_smote_metrics_v1.json', 'w') as f:\n",
    "    json.dump(knn_smote_metrics, f, indent=4)"
   ]
  },
  {
   "cell_type": "markdown",
   "id": "f02da378",
   "metadata": {},
   "source": [
    "# Model 19 - LGBM - Base"
   ]
  },
  {
   "cell_type": "code",
   "execution_count": 60,
   "id": "16be403f",
   "metadata": {},
   "outputs": [
    {
     "name": "stdout",
     "output_type": "stream",
     "text": [
      "Defaulting to user installation because normal site-packages is not writeable\n",
      "Requirement already satisfied: lightgbm in c:\\users\\hp\\appdata\\roaming\\python\\python311\\site-packages (4.5.0)\n",
      "Requirement already satisfied: numpy>=1.17.0 in c:\\programdata\\anaconda3\\lib\\site-packages (from lightgbm) (1.24.3)\n",
      "Requirement already satisfied: scipy in c:\\programdata\\anaconda3\\lib\\site-packages (from lightgbm) (1.11.1)\n",
      "Note: you may need to restart the kernel to use updated packages.\n"
     ]
    }
   ],
   "source": [
    "pip install lightgbm"
   ]
  },
  {
   "cell_type": "code",
   "execution_count": 61,
   "id": "33e23448",
   "metadata": {},
   "outputs": [
    {
     "name": "stdout",
     "output_type": "stream",
     "text": [
      "[LightGBM] [Info] Number of positive: 403, number of negative: 227442\n",
      "[LightGBM] [Debug] Dataset::GetMultiBinFromAllFeatures: sparse rate 0.000211\n",
      "[LightGBM] [Debug] init for col-wise cost 0.000030 seconds, init for row-wise cost 0.066124 seconds\n",
      "[LightGBM] [Info] Auto-choosing col-wise multi-threading, the overhead of testing was 0.099664 seconds.\n",
      "You can set `force_col_wise=true` to remove the overhead.\n",
      "[LightGBM] [Info] Total Bins 7650\n",
      "[LightGBM] [Info] Number of data points in the train set: 227845, number of used features: 30\n",
      "[LightGBM] [Info] [binary:BoostFromScore]: pavg=0.001769 -> initscore=-6.335714\n",
      "[LightGBM] [Info] Start training from score -6.335714\n",
      "[LightGBM] [Debug] Trained a tree with leaves = 31 and depth = 9\n",
      "[LightGBM] [Debug] Trained a tree with leaves = 31 and depth = 9\n",
      "[LightGBM] [Debug] Trained a tree with leaves = 31 and depth = 8\n",
      "[LightGBM] [Debug] Trained a tree with leaves = 31 and depth = 9\n",
      "[LightGBM] [Debug] Trained a tree with leaves = 31 and depth = 9\n",
      "[LightGBM] [Debug] Trained a tree with leaves = 31 and depth = 10\n",
      "[LightGBM] [Debug] Trained a tree with leaves = 31 and depth = 10\n",
      "[LightGBM] [Debug] Trained a tree with leaves = 31 and depth = 9\n",
      "[LightGBM] [Debug] Trained a tree with leaves = 31 and depth = 10\n",
      "[LightGBM] [Debug] Trained a tree with leaves = 31 and depth = 11\n",
      "[LightGBM] [Debug] Trained a tree with leaves = 31 and depth = 10\n",
      "[LightGBM] [Debug] Trained a tree with leaves = 31 and depth = 12\n",
      "[LightGBM] [Debug] Trained a tree with leaves = 31 and depth = 9\n",
      "[LightGBM] [Debug] Trained a tree with leaves = 31 and depth = 11\n",
      "[LightGBM] [Debug] Trained a tree with leaves = 31 and depth = 14\n",
      "[LightGBM] [Debug] Trained a tree with leaves = 31 and depth = 8\n",
      "[LightGBM] [Debug] Trained a tree with leaves = 31 and depth = 8\n",
      "[LightGBM] [Debug] Trained a tree with leaves = 31 and depth = 9\n",
      "[LightGBM] [Debug] Trained a tree with leaves = 31 and depth = 12\n",
      "[LightGBM] [Debug] Trained a tree with leaves = 31 and depth = 9\n",
      "[LightGBM] [Debug] Trained a tree with leaves = 31 and depth = 8\n",
      "[LightGBM] [Debug] Trained a tree with leaves = 31 and depth = 9\n",
      "[LightGBM] [Debug] Trained a tree with leaves = 31 and depth = 9\n",
      "[LightGBM] [Debug] Trained a tree with leaves = 31 and depth = 10\n",
      "[LightGBM] [Debug] Trained a tree with leaves = 31 and depth = 8\n",
      "[LightGBM] [Debug] Trained a tree with leaves = 31 and depth = 9\n",
      "[LightGBM] [Debug] Trained a tree with leaves = 31 and depth = 9\n",
      "[LightGBM] [Debug] Trained a tree with leaves = 31 and depth = 10\n",
      "[LightGBM] [Debug] Trained a tree with leaves = 31 and depth = 10\n",
      "[LightGBM] [Debug] Trained a tree with leaves = 31 and depth = 11\n",
      "[LightGBM] [Debug] Trained a tree with leaves = 31 and depth = 8\n",
      "[LightGBM] [Debug] Trained a tree with leaves = 31 and depth = 8\n",
      "[LightGBM] [Debug] Trained a tree with leaves = 31 and depth = 9\n",
      "[LightGBM] [Debug] Trained a tree with leaves = 31 and depth = 10\n",
      "[LightGBM] [Debug] Trained a tree with leaves = 31 and depth = 8\n",
      "[LightGBM] [Debug] Trained a tree with leaves = 31 and depth = 9\n",
      "[LightGBM] [Debug] Trained a tree with leaves = 31 and depth = 12\n",
      "[LightGBM] [Debug] Trained a tree with leaves = 31 and depth = 9\n",
      "[LightGBM] [Debug] Trained a tree with leaves = 31 and depth = 8\n",
      "[LightGBM] [Debug] Trained a tree with leaves = 31 and depth = 10\n",
      "[LightGBM] [Debug] Trained a tree with leaves = 31 and depth = 9\n",
      "[LightGBM] [Debug] Trained a tree with leaves = 31 and depth = 10\n",
      "[LightGBM] [Debug] Trained a tree with leaves = 31 and depth = 9\n",
      "[LightGBM] [Debug] Trained a tree with leaves = 31 and depth = 9\n",
      "[LightGBM] [Debug] Trained a tree with leaves = 31 and depth = 9\n",
      "[LightGBM] [Debug] Trained a tree with leaves = 31 and depth = 9\n",
      "[LightGBM] [Debug] Trained a tree with leaves = 31 and depth = 11\n",
      "[LightGBM] [Debug] Trained a tree with leaves = 31 and depth = 12\n",
      "[LightGBM] [Debug] Trained a tree with leaves = 31 and depth = 9\n",
      "[LightGBM] [Debug] Trained a tree with leaves = 31 and depth = 11\n",
      "[LightGBM] [Debug] Trained a tree with leaves = 31 and depth = 12\n",
      "[LightGBM] [Debug] Trained a tree with leaves = 31 and depth = 10\n",
      "[LightGBM] [Debug] Trained a tree with leaves = 31 and depth = 9\n",
      "[LightGBM] [Debug] Trained a tree with leaves = 31 and depth = 12\n",
      "[LightGBM] [Debug] Trained a tree with leaves = 31 and depth = 12\n",
      "[LightGBM] [Debug] Trained a tree with leaves = 31 and depth = 11\n",
      "[LightGBM] [Debug] Trained a tree with leaves = 31 and depth = 9\n",
      "[LightGBM] [Debug] Trained a tree with leaves = 31 and depth = 14\n",
      "[LightGBM] [Debug] Trained a tree with leaves = 31 and depth = 13\n",
      "[LightGBM] [Debug] Trained a tree with leaves = 31 and depth = 9\n",
      "[LightGBM] [Debug] Trained a tree with leaves = 31 and depth = 13\n",
      "[LightGBM] [Debug] Trained a tree with leaves = 31 and depth = 9\n",
      "[LightGBM] [Debug] Trained a tree with leaves = 31 and depth = 11\n",
      "[LightGBM] [Debug] Trained a tree with leaves = 31 and depth = 9\n",
      "[LightGBM] [Debug] Trained a tree with leaves = 31 and depth = 11\n",
      "[LightGBM] [Debug] Trained a tree with leaves = 31 and depth = 9\n",
      "[LightGBM] [Debug] Trained a tree with leaves = 31 and depth = 8\n",
      "[LightGBM] [Debug] Trained a tree with leaves = 31 and depth = 14\n",
      "[LightGBM] [Debug] Trained a tree with leaves = 31 and depth = 11\n",
      "[LightGBM] [Debug] Trained a tree with leaves = 31 and depth = 12\n",
      "[LightGBM] [Debug] Trained a tree with leaves = 31 and depth = 12\n",
      "[LightGBM] [Debug] Trained a tree with leaves = 31 and depth = 10\n",
      "[LightGBM] [Debug] Trained a tree with leaves = 31 and depth = 11\n",
      "[LightGBM] [Debug] Trained a tree with leaves = 31 and depth = 12\n",
      "[LightGBM] [Debug] Trained a tree with leaves = 31 and depth = 11\n",
      "[LightGBM] [Debug] Trained a tree with leaves = 31 and depth = 10\n",
      "[LightGBM] [Debug] Trained a tree with leaves = 31 and depth = 13\n",
      "[LightGBM] [Debug] Trained a tree with leaves = 31 and depth = 11\n",
      "[LightGBM] [Debug] Trained a tree with leaves = 31 and depth = 13\n",
      "[LightGBM] [Debug] Trained a tree with leaves = 31 and depth = 13\n",
      "[LightGBM] [Debug] Trained a tree with leaves = 31 and depth = 11\n",
      "[LightGBM] [Debug] Trained a tree with leaves = 31 and depth = 12\n",
      "[LightGBM] [Debug] Trained a tree with leaves = 31 and depth = 15\n",
      "[LightGBM] [Debug] Trained a tree with leaves = 31 and depth = 9\n",
      "[LightGBM] [Debug] Trained a tree with leaves = 31 and depth = 11\n",
      "[LightGBM] [Debug] Trained a tree with leaves = 31 and depth = 16\n",
      "[LightGBM] [Debug] Trained a tree with leaves = 31 and depth = 12\n",
      "[LightGBM] [Debug] Trained a tree with leaves = 31 and depth = 12\n",
      "[LightGBM] [Debug] Trained a tree with leaves = 31 and depth = 11\n",
      "[LightGBM] [Debug] Trained a tree with leaves = 31 and depth = 12\n",
      "[LightGBM] [Debug] Trained a tree with leaves = 31 and depth = 15\n",
      "[LightGBM] [Debug] Trained a tree with leaves = 31 and depth = 20\n",
      "[LightGBM] [Debug] Trained a tree with leaves = 31 and depth = 13\n",
      "[LightGBM] [Debug] Trained a tree with leaves = 31 and depth = 19\n",
      "[LightGBM] [Debug] Trained a tree with leaves = 31 and depth = 12\n",
      "[LightGBM] [Debug] Trained a tree with leaves = 31 and depth = 18\n",
      "[LightGBM] [Debug] Trained a tree with leaves = 31 and depth = 12\n",
      "[LightGBM] [Debug] Trained a tree with leaves = 31 and depth = 12\n",
      "[LightGBM] [Debug] Trained a tree with leaves = 31 and depth = 15\n",
      "[LightGBM] [Debug] Trained a tree with leaves = 31 and depth = 16\n"
     ]
    },
    {
     "data": {
      "text/plain": [
       "['models/lgbm_base_v1.joblib']"
      ]
     },
     "execution_count": 61,
     "metadata": {},
     "output_type": "execute_result"
    }
   ],
   "source": [
    "import lightgbm as lgb\n",
    "\n",
    "from sklearn.ensemble import GradientBoostingClassifier\n",
    "\n",
    "# Building the model\n",
    "lgbm_base = lgb.LGBMClassifier(random_state=42, verbose=2)\n",
    "\n",
    "lgbm_base.fit(X_train, y_train)\n",
    "\n",
    "# Predicting the test set results\n",
    "y_pred_lgbm_base = lgbm_base.predict(X_test)\n",
    "y_proba_lgbm_base = lgbm_base.predict_proba(X_test)[:, 1]\n",
    "\n",
    "# Save the model\n",
    "joblib.dump(lgbm_base, 'models/lgbm_base_v1.joblib')"
   ]
  },
  {
   "cell_type": "code",
   "execution_count": 62,
   "id": "01c01d2b",
   "metadata": {},
   "outputs": [
    {
     "name": "stdout",
     "output_type": "stream",
     "text": [
      "KNN - Validation Performance:\n",
      "Confusion Matrix:\n",
      "[[56290   583]\n",
      " [   77    12]]\n",
      "Classification Report\n",
      "              precision    recall  f1-score   support\n",
      "\n",
      "           0       1.00      0.99      0.99     56873\n",
      "           1       0.02      0.13      0.04        89\n",
      "\n",
      "    accuracy                           0.99     56962\n",
      "   macro avg       0.51      0.56      0.51     56962\n",
      "weighted avg       1.00      0.99      0.99     56962\n",
      "\n",
      "F1 Score (weighted) : 0.9926731547299399\n",
      "ROC AUC Score: 0.4496141313871613\n"
     ]
    }
   ],
   "source": [
    "# Evaluate the model\n",
    "accuracy_lgbm_base = accuracy_score(y_test, y_pred_lgbm_base)\n",
    "roc_auc_lgbm_base = roc_auc_score(y_test, y_proba_lgbm_base)\n",
    "f1_score_lgbm_base = f1_score(y_test, y_pred_lgbm_base, average='weighted')\n",
    "report = classification_report(y_test, y_pred_lgbm_base, output_dict=True)\n",
    "\n",
    "print(\"KNN - Validation Performance:\")\n",
    "print(\"Confusion Matrix:\")\n",
    "print(confusion_matrix(y_test, y_pred_lgbm_base))\n",
    "\n",
    "print(\"Classification Report\")\n",
    "print(classification_report(y_test, y_pred_lgbm_base))\n",
    "\n",
    "print(\"F1 Score (weighted) :\", f1_score_lgbm_base)\n",
    "print(\"ROC AUC Score:\", roc_auc_lgbm_base)"
   ]
  },
  {
   "cell_type": "code",
   "execution_count": 63,
   "id": "afea75b6",
   "metadata": {},
   "outputs": [],
   "source": [
    "# Save evaluation metrics\n",
    "lgbm_base_metrics = {\n",
    "    'accuracy': accuracy_lgbm_base,\n",
    "    'roc_auc': roc_auc_lgbm_base,\n",
    "    'classification_report': report,\n",
    "    'f1_score': f1_score_lgbm_base\n",
    "}\n",
    "\n",
    "# Open a file for writing JSON data\n",
    "with open('models/lgbm_base_metrics_v1.json', 'w') as f:\n",
    "    json.dump(lgbm_base_metrics, f, indent=4)"
   ]
  },
  {
   "cell_type": "markdown",
   "id": "c144b0f6",
   "metadata": {},
   "source": [
    "# Model 20 - LGBM - Undersampling"
   ]
  },
  {
   "cell_type": "code",
   "execution_count": 64,
   "id": "f1007a71",
   "metadata": {},
   "outputs": [
    {
     "name": "stdout",
     "output_type": "stream",
     "text": [
      "[LightGBM] [Info] Number of positive: 403, number of negative: 403\n",
      "[LightGBM] [Debug] Dataset::GetMultiBinFromAllFeatures: sparse rate 0.000910\n",
      "[LightGBM] [Debug] init for col-wise cost 0.000005 seconds, init for row-wise cost 0.000502 seconds\n",
      "[LightGBM] [Info] Auto-choosing col-wise multi-threading, the overhead of testing was 0.000608 seconds.\n",
      "You can set `force_col_wise=true` to remove the overhead.\n",
      "[LightGBM] [Info] Total Bins 7650\n",
      "[LightGBM] [Info] Number of data points in the train set: 806, number of used features: 30\n",
      "[LightGBM] [Info] [binary:BoostFromScore]: pavg=0.500000 -> initscore=0.000000\n",
      "[LightGBM] [Warning] No further splits with positive gain, best gain: -inf\n",
      "[LightGBM] [Debug] Trained a tree with leaves = 11 and depth = 6\n",
      "[LightGBM] [Warning] No further splits with positive gain, best gain: -inf\n",
      "[LightGBM] [Debug] Trained a tree with leaves = 15 and depth = 9\n",
      "[LightGBM] [Warning] No further splits with positive gain, best gain: -inf\n",
      "[LightGBM] [Debug] Trained a tree with leaves = 22 and depth = 13\n",
      "[LightGBM] [Warning] No further splits with positive gain, best gain: -inf\n",
      "[LightGBM] [Debug] Trained a tree with leaves = 30 and depth = 15\n",
      "[LightGBM] [Warning] No further splits with positive gain, best gain: -inf\n",
      "[LightGBM] [Debug] Trained a tree with leaves = 27 and depth = 15\n",
      "[LightGBM] [Warning] No further splits with positive gain, best gain: -inf\n",
      "[LightGBM] [Debug] Trained a tree with leaves = 29 and depth = 14\n",
      "[LightGBM] [Debug] Trained a tree with leaves = 31 and depth = 13\n",
      "[LightGBM] [Debug] Trained a tree with leaves = 31 and depth = 13\n",
      "[LightGBM] [Debug] Trained a tree with leaves = 31 and depth = 13\n",
      "[LightGBM] [Debug] Trained a tree with leaves = 31 and depth = 12\n",
      "[LightGBM] [Debug] Trained a tree with leaves = 31 and depth = 13\n",
      "[LightGBM] [Debug] Trained a tree with leaves = 31 and depth = 14\n",
      "[LightGBM] [Debug] Trained a tree with leaves = 31 and depth = 13\n",
      "[LightGBM] [Debug] Trained a tree with leaves = 31 and depth = 14\n",
      "[LightGBM] [Debug] Trained a tree with leaves = 31 and depth = 16\n",
      "[LightGBM] [Debug] Trained a tree with leaves = 31 and depth = 13\n",
      "[LightGBM] [Debug] Trained a tree with leaves = 31 and depth = 13\n",
      "[LightGBM] [Debug] Trained a tree with leaves = 31 and depth = 15\n",
      "[LightGBM] [Debug] Trained a tree with leaves = 31 and depth = 14\n",
      "[LightGBM] [Debug] Trained a tree with leaves = 31 and depth = 15\n",
      "[LightGBM] [Debug] Trained a tree with leaves = 31 and depth = 14\n",
      "[LightGBM] [Debug] Trained a tree with leaves = 31 and depth = 13\n",
      "[LightGBM] [Debug] Trained a tree with leaves = 31 and depth = 12\n",
      "[LightGBM] [Debug] Trained a tree with leaves = 31 and depth = 12\n",
      "[LightGBM] [Debug] Trained a tree with leaves = 31 and depth = 13\n",
      "[LightGBM] [Debug] Trained a tree with leaves = 31 and depth = 10\n",
      "[LightGBM] [Debug] Trained a tree with leaves = 31 and depth = 11\n",
      "[LightGBM] [Debug] Trained a tree with leaves = 31 and depth = 11\n",
      "[LightGBM] [Debug] Trained a tree with leaves = 31 and depth = 10\n",
      "[LightGBM] [Debug] Trained a tree with leaves = 31 and depth = 14\n",
      "[LightGBM] [Debug] Trained a tree with leaves = 31 and depth = 14\n",
      "[LightGBM] [Debug] Trained a tree with leaves = 31 and depth = 11\n",
      "[LightGBM] [Debug] Trained a tree with leaves = 31 and depth = 11\n",
      "[LightGBM] [Debug] Trained a tree with leaves = 31 and depth = 10\n",
      "[LightGBM] [Debug] Trained a tree with leaves = 31 and depth = 16\n",
      "[LightGBM] [Debug] Trained a tree with leaves = 31 and depth = 16\n",
      "[LightGBM] [Debug] Trained a tree with leaves = 31 and depth = 11\n",
      "[LightGBM] [Debug] Trained a tree with leaves = 31 and depth = 10\n",
      "[LightGBM] [Debug] Trained a tree with leaves = 31 and depth = 10\n",
      "[LightGBM] [Debug] Trained a tree with leaves = 31 and depth = 10\n",
      "[LightGBM] [Debug] Trained a tree with leaves = 31 and depth = 13\n",
      "[LightGBM] [Debug] Trained a tree with leaves = 31 and depth = 17\n",
      "[LightGBM] [Debug] Trained a tree with leaves = 31 and depth = 10\n",
      "[LightGBM] [Debug] Trained a tree with leaves = 31 and depth = 14\n",
      "[LightGBM] [Debug] Trained a tree with leaves = 31 and depth = 9\n",
      "[LightGBM] [Debug] Trained a tree with leaves = 31 and depth = 9\n",
      "[LightGBM] [Debug] Trained a tree with leaves = 31 and depth = 10\n",
      "[LightGBM] [Debug] Trained a tree with leaves = 31 and depth = 11\n",
      "[LightGBM] [Debug] Trained a tree with leaves = 31 and depth = 9\n",
      "[LightGBM] [Debug] Trained a tree with leaves = 31 and depth = 10\n",
      "[LightGBM] [Debug] Trained a tree with leaves = 31 and depth = 12\n",
      "[LightGBM] [Debug] Trained a tree with leaves = 31 and depth = 12\n",
      "[LightGBM] [Debug] Trained a tree with leaves = 31 and depth = 11\n",
      "[LightGBM] [Debug] Trained a tree with leaves = 31 and depth = 13\n",
      "[LightGBM] [Debug] Trained a tree with leaves = 31 and depth = 12\n",
      "[LightGBM] [Debug] Trained a tree with leaves = 31 and depth = 10\n",
      "[LightGBM] [Debug] Trained a tree with leaves = 31 and depth = 10\n",
      "[LightGBM] [Debug] Trained a tree with leaves = 31 and depth = 10\n",
      "[LightGBM] [Debug] Trained a tree with leaves = 31 and depth = 12\n",
      "[LightGBM] [Debug] Trained a tree with leaves = 31 and depth = 15\n",
      "[LightGBM] [Debug] Trained a tree with leaves = 31 and depth = 10\n",
      "[LightGBM] [Debug] Trained a tree with leaves = 31 and depth = 12\n",
      "[LightGBM] [Debug] Trained a tree with leaves = 31 and depth = 13\n",
      "[LightGBM] [Debug] Trained a tree with leaves = 31 and depth = 15\n",
      "[LightGBM] [Debug] Trained a tree with leaves = 31 and depth = 12\n",
      "[LightGBM] [Debug] Trained a tree with leaves = 31 and depth = 12\n",
      "[LightGBM] [Debug] Trained a tree with leaves = 31 and depth = 14\n",
      "[LightGBM] [Debug] Trained a tree with leaves = 31 and depth = 12\n",
      "[LightGBM] [Debug] Trained a tree with leaves = 31 and depth = 10\n",
      "[LightGBM] [Debug] Trained a tree with leaves = 31 and depth = 12\n",
      "[LightGBM] [Debug] Trained a tree with leaves = 31 and depth = 13\n",
      "[LightGBM] [Debug] Trained a tree with leaves = 31 and depth = 10\n",
      "[LightGBM] [Debug] Trained a tree with leaves = 31 and depth = 14\n",
      "[LightGBM] [Debug] Trained a tree with leaves = 31 and depth = 9\n",
      "[LightGBM] [Debug] Trained a tree with leaves = 31 and depth = 11\n",
      "[LightGBM] [Debug] Trained a tree with leaves = 31 and depth = 13\n",
      "[LightGBM] [Debug] Trained a tree with leaves = 31 and depth = 12\n",
      "[LightGBM] [Debug] Trained a tree with leaves = 31 and depth = 8\n",
      "[LightGBM] [Debug] Trained a tree with leaves = 31 and depth = 11\n",
      "[LightGBM] [Debug] Trained a tree with leaves = 31 and depth = 13\n",
      "[LightGBM] [Debug] Trained a tree with leaves = 31 and depth = 12\n",
      "[LightGBM] [Debug] Trained a tree with leaves = 31 and depth = 10\n",
      "[LightGBM] [Debug] Trained a tree with leaves = 31 and depth = 12\n",
      "[LightGBM] [Debug] Trained a tree with leaves = 31 and depth = 13\n",
      "[LightGBM] [Debug] Trained a tree with leaves = 31 and depth = 12\n",
      "[LightGBM] [Debug] Trained a tree with leaves = 31 and depth = 10\n",
      "[LightGBM] [Debug] Trained a tree with leaves = 31 and depth = 12\n",
      "[LightGBM] [Debug] Trained a tree with leaves = 31 and depth = 12\n",
      "[LightGBM] [Debug] Trained a tree with leaves = 31 and depth = 14\n",
      "[LightGBM] [Debug] Trained a tree with leaves = 31 and depth = 13\n",
      "[LightGBM] [Debug] Trained a tree with leaves = 31 and depth = 11\n",
      "[LightGBM] [Debug] Trained a tree with leaves = 31 and depth = 9\n",
      "[LightGBM] [Debug] Trained a tree with leaves = 31 and depth = 13\n",
      "[LightGBM] [Debug] Trained a tree with leaves = 31 and depth = 13\n",
      "[LightGBM] [Debug] Trained a tree with leaves = 31 and depth = 9\n",
      "[LightGBM] [Debug] Trained a tree with leaves = 31 and depth = 13\n",
      "[LightGBM] [Debug] Trained a tree with leaves = 31 and depth = 14\n",
      "[LightGBM] [Debug] Trained a tree with leaves = 31 and depth = 12\n",
      "[LightGBM] [Debug] Trained a tree with leaves = 31 and depth = 11\n",
      "[LightGBM] [Debug] Trained a tree with leaves = 31 and depth = 9\n"
     ]
    },
    {
     "data": {
      "text/plain": [
       "['models/lgbm_rus_v1.joblib']"
      ]
     },
     "execution_count": 64,
     "metadata": {},
     "output_type": "execute_result"
    }
   ],
   "source": [
    "# Building the model\n",
    "lgbm_rus = lgb.LGBMClassifier(random_state=42, verbose=2)\n",
    "lgbm_rus.fit(X_train_resampled, y_train_resampled)\n",
    "\n",
    "# Predicting the test set results\n",
    "y_pred_lgbm_rus = lgbm_rus.predict(X_test)\n",
    "y_proba_lgbm_rus = lgbm_rus.predict_proba(X_test)[:, 1]\n",
    "\n",
    "# Save the model\n",
    "joblib.dump(lgbm_rus, 'models/lgbm_rus_v1.joblib')"
   ]
  },
  {
   "cell_type": "code",
   "execution_count": 65,
   "id": "7ee7e24b",
   "metadata": {},
   "outputs": [
    {
     "name": "stdout",
     "output_type": "stream",
     "text": [
      "KNN - Validation Performance:\n",
      "Confusion Matrix:\n",
      "[[55225  1648]\n",
      " [    6    83]]\n",
      "Classification Report\n",
      "              precision    recall  f1-score   support\n",
      "\n",
      "           0       1.00      0.97      0.99     56873\n",
      "           1       0.05      0.93      0.09        89\n",
      "\n",
      "    accuracy                           0.97     56962\n",
      "   macro avg       0.52      0.95      0.54     56962\n",
      "weighted avg       1.00      0.97      0.98     56962\n",
      "\n",
      "F1 Score (weighted) : 0.9838489592998869\n",
      "ROC AUC Score: 0.9845440175498454\n"
     ]
    }
   ],
   "source": [
    "# Evaluate the model\n",
    "accuracy_lgbm_rus = accuracy_score(y_test, y_pred_lgbm_rus)\n",
    "roc_auc_lgbm_rus = roc_auc_score(y_test, y_proba_lgbm_rus)\n",
    "f1_score_lgbm_rus = f1_score(y_test, y_pred_lgbm_rus, average='weighted')\n",
    "report = classification_report(y_test, y_pred_lgbm_rus, output_dict=True)\n",
    "\n",
    "print(\"KNN - Validation Performance:\")\n",
    "print(\"Confusion Matrix:\")\n",
    "print(confusion_matrix(y_test, y_pred_lgbm_rus))\n",
    "\n",
    "print(\"Classification Report\")\n",
    "print(classification_report(y_test, y_pred_lgbm_rus))\n",
    "\n",
    "print(\"F1 Score (weighted) :\", f1_score_lgbm_rus)\n",
    "print(\"ROC AUC Score:\", roc_auc_lgbm_rus)"
   ]
  },
  {
   "cell_type": "code",
   "execution_count": 66,
   "id": "9184c1e1",
   "metadata": {},
   "outputs": [],
   "source": [
    "# Save evaluation metrics\n",
    "lgbm_rus_metrics = {\n",
    "    'accuracy': accuracy_lgbm_rus,\n",
    "    'roc_auc': roc_auc_lgbm_rus,\n",
    "    'classification_report': report,\n",
    "    'f1_score': f1_score_lgbm_rus\n",
    "}\n",
    "\n",
    "# Open a file for writing JSON data\n",
    "with open('models/lgbm_rus_metrics_v1.json', 'w') as f:\n",
    "    json.dump(lgbm_rus_metrics, f, indent=4)"
   ]
  },
  {
   "cell_type": "markdown",
   "id": "878fec74",
   "metadata": {},
   "source": [
    "# Model 21 - LGBM - SMOTE"
   ]
  },
  {
   "cell_type": "code",
   "execution_count": 67,
   "id": "7a76aac2",
   "metadata": {},
   "outputs": [
    {
     "name": "stdout",
     "output_type": "stream",
     "text": [
      "[LightGBM] [Info] Number of positive: 227442, number of negative: 227442\n",
      "[LightGBM] [Debug] Dataset::GetMultiBinFromAllFeatures: sparse rate 0.000164\n",
      "[LightGBM] [Debug] init for col-wise cost 0.000007 seconds, init for row-wise cost 0.079277 seconds\n",
      "[LightGBM] [Info] Auto-choosing col-wise multi-threading, the overhead of testing was 0.118610 seconds.\n",
      "You can set `force_col_wise=true` to remove the overhead.\n",
      "[LightGBM] [Info] Total Bins 7650\n",
      "[LightGBM] [Info] Number of data points in the train set: 454884, number of used features: 30\n",
      "[LightGBM] [Info] [binary:BoostFromScore]: pavg=0.500000 -> initscore=0.000000\n",
      "[LightGBM] [Debug] Trained a tree with leaves = 31 and depth = 7\n",
      "[LightGBM] [Debug] Trained a tree with leaves = 31 and depth = 7\n",
      "[LightGBM] [Debug] Trained a tree with leaves = 31 and depth = 7\n",
      "[LightGBM] [Debug] Trained a tree with leaves = 31 and depth = 6\n",
      "[LightGBM] [Debug] Trained a tree with leaves = 31 and depth = 10\n",
      "[LightGBM] [Debug] Trained a tree with leaves = 31 and depth = 7\n",
      "[LightGBM] [Debug] Trained a tree with leaves = 31 and depth = 9\n",
      "[LightGBM] [Debug] Trained a tree with leaves = 31 and depth = 7\n",
      "[LightGBM] [Debug] Trained a tree with leaves = 31 and depth = 10\n",
      "[LightGBM] [Debug] Trained a tree with leaves = 31 and depth = 8\n",
      "[LightGBM] [Debug] Trained a tree with leaves = 31 and depth = 10\n",
      "[LightGBM] [Debug] Trained a tree with leaves = 31 and depth = 10\n",
      "[LightGBM] [Debug] Trained a tree with leaves = 31 and depth = 7\n",
      "[LightGBM] [Debug] Trained a tree with leaves = 31 and depth = 7\n",
      "[LightGBM] [Debug] Trained a tree with leaves = 31 and depth = 9\n",
      "[LightGBM] [Debug] Trained a tree with leaves = 31 and depth = 8\n",
      "[LightGBM] [Debug] Trained a tree with leaves = 31 and depth = 8\n",
      "[LightGBM] [Debug] Trained a tree with leaves = 31 and depth = 8\n",
      "[LightGBM] [Debug] Trained a tree with leaves = 31 and depth = 9\n",
      "[LightGBM] [Debug] Trained a tree with leaves = 31 and depth = 10\n",
      "[LightGBM] [Debug] Trained a tree with leaves = 31 and depth = 8\n",
      "[LightGBM] [Debug] Trained a tree with leaves = 31 and depth = 9\n",
      "[LightGBM] [Debug] Trained a tree with leaves = 31 and depth = 11\n",
      "[LightGBM] [Debug] Trained a tree with leaves = 31 and depth = 12\n",
      "[LightGBM] [Debug] Trained a tree with leaves = 31 and depth = 9\n",
      "[LightGBM] [Debug] Trained a tree with leaves = 31 and depth = 11\n",
      "[LightGBM] [Debug] Trained a tree with leaves = 31 and depth = 13\n",
      "[LightGBM] [Debug] Trained a tree with leaves = 31 and depth = 9\n",
      "[LightGBM] [Debug] Trained a tree with leaves = 31 and depth = 10\n",
      "[LightGBM] [Debug] Trained a tree with leaves = 31 and depth = 10\n",
      "[LightGBM] [Debug] Trained a tree with leaves = 31 and depth = 12\n",
      "[LightGBM] [Debug] Trained a tree with leaves = 31 and depth = 9\n",
      "[LightGBM] [Debug] Trained a tree with leaves = 31 and depth = 12\n",
      "[LightGBM] [Debug] Trained a tree with leaves = 31 and depth = 9\n",
      "[LightGBM] [Debug] Trained a tree with leaves = 31 and depth = 13\n",
      "[LightGBM] [Debug] Trained a tree with leaves = 31 and depth = 9\n",
      "[LightGBM] [Debug] Trained a tree with leaves = 31 and depth = 12\n",
      "[LightGBM] [Debug] Trained a tree with leaves = 31 and depth = 12\n",
      "[LightGBM] [Debug] Trained a tree with leaves = 31 and depth = 11\n",
      "[LightGBM] [Debug] Trained a tree with leaves = 31 and depth = 11\n",
      "[LightGBM] [Debug] Trained a tree with leaves = 31 and depth = 10\n",
      "[LightGBM] [Debug] Trained a tree with leaves = 31 and depth = 12\n",
      "[LightGBM] [Debug] Trained a tree with leaves = 31 and depth = 10\n",
      "[LightGBM] [Debug] Trained a tree with leaves = 31 and depth = 13\n",
      "[LightGBM] [Debug] Trained a tree with leaves = 31 and depth = 9\n",
      "[LightGBM] [Debug] Trained a tree with leaves = 31 and depth = 13\n",
      "[LightGBM] [Debug] Trained a tree with leaves = 31 and depth = 11\n",
      "[LightGBM] [Debug] Trained a tree with leaves = 31 and depth = 14\n",
      "[LightGBM] [Debug] Trained a tree with leaves = 31 and depth = 10\n",
      "[LightGBM] [Debug] Trained a tree with leaves = 31 and depth = 14\n",
      "[LightGBM] [Debug] Trained a tree with leaves = 31 and depth = 10\n",
      "[LightGBM] [Debug] Trained a tree with leaves = 31 and depth = 13\n",
      "[LightGBM] [Debug] Trained a tree with leaves = 31 and depth = 13\n",
      "[LightGBM] [Debug] Trained a tree with leaves = 31 and depth = 11\n",
      "[LightGBM] [Debug] Trained a tree with leaves = 31 and depth = 15\n",
      "[LightGBM] [Debug] Trained a tree with leaves = 31 and depth = 11\n",
      "[LightGBM] [Debug] Trained a tree with leaves = 31 and depth = 15\n",
      "[LightGBM] [Debug] Trained a tree with leaves = 31 and depth = 14\n",
      "[LightGBM] [Debug] Trained a tree with leaves = 31 and depth = 11\n",
      "[LightGBM] [Debug] Trained a tree with leaves = 31 and depth = 13\n",
      "[LightGBM] [Debug] Trained a tree with leaves = 31 and depth = 13\n",
      "[LightGBM] [Debug] Trained a tree with leaves = 31 and depth = 16\n",
      "[LightGBM] [Debug] Trained a tree with leaves = 31 and depth = 13\n",
      "[LightGBM] [Debug] Trained a tree with leaves = 31 and depth = 17\n",
      "[LightGBM] [Debug] Trained a tree with leaves = 31 and depth = 13\n",
      "[LightGBM] [Debug] Trained a tree with leaves = 31 and depth = 11\n",
      "[LightGBM] [Debug] Trained a tree with leaves = 31 and depth = 12\n",
      "[LightGBM] [Debug] Trained a tree with leaves = 31 and depth = 15\n",
      "[LightGBM] [Debug] Trained a tree with leaves = 31 and depth = 13\n",
      "[LightGBM] [Debug] Trained a tree with leaves = 31 and depth = 12\n",
      "[LightGBM] [Debug] Trained a tree with leaves = 31 and depth = 15\n",
      "[LightGBM] [Debug] Trained a tree with leaves = 31 and depth = 11\n",
      "[LightGBM] [Debug] Trained a tree with leaves = 31 and depth = 14\n",
      "[LightGBM] [Debug] Trained a tree with leaves = 31 and depth = 14\n",
      "[LightGBM] [Debug] Trained a tree with leaves = 31 and depth = 13\n",
      "[LightGBM] [Debug] Trained a tree with leaves = 31 and depth = 16\n",
      "[LightGBM] [Debug] Trained a tree with leaves = 31 and depth = 14\n",
      "[LightGBM] [Debug] Trained a tree with leaves = 31 and depth = 14\n",
      "[LightGBM] [Debug] Trained a tree with leaves = 31 and depth = 15\n",
      "[LightGBM] [Debug] Trained a tree with leaves = 31 and depth = 16\n",
      "[LightGBM] [Debug] Trained a tree with leaves = 31 and depth = 14\n",
      "[LightGBM] [Debug] Trained a tree with leaves = 31 and depth = 17\n",
      "[LightGBM] [Debug] Trained a tree with leaves = 31 and depth = 15\n",
      "[LightGBM] [Debug] Trained a tree with leaves = 31 and depth = 11\n",
      "[LightGBM] [Debug] Trained a tree with leaves = 31 and depth = 12\n",
      "[LightGBM] [Debug] Trained a tree with leaves = 31 and depth = 9\n",
      "[LightGBM] [Debug] Trained a tree with leaves = 31 and depth = 15\n",
      "[LightGBM] [Debug] Trained a tree with leaves = 31 and depth = 13\n",
      "[LightGBM] [Debug] Trained a tree with leaves = 31 and depth = 13\n",
      "[LightGBM] [Debug] Trained a tree with leaves = 31 and depth = 12\n",
      "[LightGBM] [Debug] Trained a tree with leaves = 31 and depth = 17\n",
      "[LightGBM] [Debug] Trained a tree with leaves = 31 and depth = 15\n",
      "[LightGBM] [Debug] Trained a tree with leaves = 31 and depth = 12\n",
      "[LightGBM] [Debug] Trained a tree with leaves = 31 and depth = 13\n",
      "[LightGBM] [Debug] Trained a tree with leaves = 31 and depth = 8\n",
      "[LightGBM] [Debug] Trained a tree with leaves = 31 and depth = 14\n",
      "[LightGBM] [Debug] Trained a tree with leaves = 31 and depth = 14\n",
      "[LightGBM] [Debug] Trained a tree with leaves = 31 and depth = 10\n",
      "[LightGBM] [Debug] Trained a tree with leaves = 31 and depth = 14\n",
      "[LightGBM] [Debug] Trained a tree with leaves = 31 and depth = 15\n"
     ]
    },
    {
     "data": {
      "text/plain": [
       "['models/lgbm_smote_v1.joblib']"
      ]
     },
     "execution_count": 67,
     "metadata": {},
     "output_type": "execute_result"
    }
   ],
   "source": [
    "# Building the model\n",
    "lgbm_smote = lgb.LGBMClassifier(random_state=42, verbose=2)\n",
    "lgbm_smote.fit(X_train_smote, y_train_smote)\n",
    "\n",
    "# Predicting the test set results\n",
    "y_pred_lgbm_smote = lgbm_smote.predict(X_test)\n",
    "y_proba_lgbm_smote = lgbm_smote.predict_proba(X_test)[:, 1]\n",
    "\n",
    "# Save the model\n",
    "joblib.dump(lgbm_smote, 'models/lgbm_smote_v1.joblib')"
   ]
  },
  {
   "cell_type": "code",
   "execution_count": 68,
   "id": "101d7d33",
   "metadata": {},
   "outputs": [
    {
     "name": "stdout",
     "output_type": "stream",
     "text": [
      "KNN - Validation Performance:\n",
      "Confusion Matrix:\n",
      "[[56832    41]\n",
      " [   15    74]]\n",
      "Classification Report\n",
      "              precision    recall  f1-score   support\n",
      "\n",
      "           0       1.00      1.00      1.00     56873\n",
      "           1       0.64      0.83      0.73        89\n",
      "\n",
      "    accuracy                           1.00     56962\n",
      "   macro avg       0.82      0.92      0.86     56962\n",
      "weighted avg       1.00      1.00      1.00     56962\n",
      "\n",
      "F1 Score (weighted) : 0.9990794253320218\n",
      "ROC AUC Score: 0.9754667258826437\n"
     ]
    }
   ],
   "source": [
    "# Evaluate the model\n",
    "accuracy_lgbm_smote = accuracy_score(y_test, y_pred_lgbm_smote)\n",
    "roc_auc_lgbm_smote = roc_auc_score(y_test, y_proba_lgbm_smote)\n",
    "f1_score_lgbm_smote = f1_score(y_test, y_pred_lgbm_smote, average='weighted')\n",
    "report = classification_report(y_test, y_pred_lgbm_smote, output_dict=True)\n",
    "\n",
    "print(\"KNN - Validation Performance:\")\n",
    "print(\"Confusion Matrix:\")\n",
    "print(confusion_matrix(y_test, y_pred_lgbm_smote))\n",
    "\n",
    "print(\"Classification Report\")\n",
    "print(classification_report(y_test, y_pred_lgbm_smote))\n",
    "\n",
    "print(\"F1 Score (weighted) :\", f1_score_lgbm_smote)\n",
    "print(\"ROC AUC Score:\", roc_auc_lgbm_smote)"
   ]
  },
  {
   "cell_type": "code",
   "execution_count": 69,
   "id": "d3abb930",
   "metadata": {},
   "outputs": [],
   "source": [
    "# Save evaluation metrics\n",
    "lgbm_smote_metrics = {\n",
    "    'accuracy': accuracy_lgbm_smote,\n",
    "    'roc_auc': roc_auc_lgbm_smote,\n",
    "    'classification_report': report,\n",
    "    'f1_score': f1_score_lgbm_smote\n",
    "}\n",
    "\n",
    "# Open a file for writing JSON data\n",
    "with open('models/lgbm_smote_metrics_v1.json', 'w') as f:\n",
    "    json.dump(lgbm_smote_metrics, f, indent=4)"
   ]
  },
  {
   "cell_type": "markdown",
   "id": "e488cac1",
   "metadata": {},
   "source": [
    "# Model 22 - XGB - Base"
   ]
  },
  {
   "cell_type": "code",
   "execution_count": 70,
   "id": "8acfbf26",
   "metadata": {},
   "outputs": [
    {
     "name": "stdout",
     "output_type": "stream",
     "text": [
      "Defaulting to user installation because normal site-packages is not writeable\n",
      "Requirement already satisfied: xgboost in c:\\users\\hp\\appdata\\roaming\\python\\python311\\site-packages (2.1.1)\n",
      "Requirement already satisfied: numpy in c:\\programdata\\anaconda3\\lib\\site-packages (from xgboost) (1.24.3)\n",
      "Requirement already satisfied: scipy in c:\\programdata\\anaconda3\\lib\\site-packages (from xgboost) (1.11.1)\n"
     ]
    }
   ],
   "source": [
    "! pip install xgboost"
   ]
  },
  {
   "cell_type": "code",
   "execution_count": 71,
   "id": "6cacadf0",
   "metadata": {},
   "outputs": [
    {
     "name": "stderr",
     "output_type": "stream",
     "text": [
      "C:\\Users\\hp\\AppData\\Roaming\\Python\\Python311\\site-packages\\xgboost\\core.py:158: UserWarning: [02:12:17] WARNING: C:\\buildkite-agent\\builds\\buildkite-windows-cpu-autoscaling-group-i-0015a694724fa8361-1\\xgboost\\xgboost-ci-windows\\src\\learner.cc:740: \n",
      "Parameters: { \"use_label_encoder\" } are not used.\n",
      "\n",
      "  warnings.warn(smsg, UserWarning)\n"
     ]
    },
    {
     "data": {
      "text/plain": [
       "['models/xgb_base_v1.joblib']"
      ]
     },
     "execution_count": 71,
     "metadata": {},
     "output_type": "execute_result"
    }
   ],
   "source": [
    "import xgboost as xgb\n",
    "\n",
    "# Building the model\n",
    "xgb_base = xgb.XGBClassifier(random_state=42, use_label_encoder=False, eval_metric='logloss')\n",
    "xgb_base.fit(X_train, y_train)\n",
    "\n",
    "# Predicting the test set results\n",
    "y_pred_xgb_base = xgb_base.predict(X_test)\n",
    "y_proba_xgb_base = xgb_base.predict_proba(X_test)[:, 1]\n",
    "\n",
    "# Save the model\n",
    "joblib.dump(xgb_base, 'models/xgb_base_v1.joblib')"
   ]
  },
  {
   "cell_type": "code",
   "execution_count": 72,
   "id": "3ff42f44",
   "metadata": {},
   "outputs": [
    {
     "name": "stdout",
     "output_type": "stream",
     "text": [
      "KNN - Validation Performance:\n",
      "Confusion Matrix:\n",
      "[[56868     5]\n",
      " [   19    70]]\n",
      "Classification Report\n",
      "              precision    recall  f1-score   support\n",
      "\n",
      "           0       1.00      1.00      1.00     56873\n",
      "           1       0.93      0.79      0.85        89\n",
      "\n",
      "    accuracy                           1.00     56962\n",
      "   macro avg       0.97      0.89      0.93     56962\n",
      "weighted avg       1.00      1.00      1.00     56962\n",
      "\n",
      "F1 Score (weighted) : 0.9995607086575147\n",
      "ROC AUC Score: 0.9772554540502918\n"
     ]
    }
   ],
   "source": [
    "# Evaluate the model\n",
    "accuracy_xgb_base = accuracy_score(y_test, y_pred_xgb_base)\n",
    "roc_auc_xgb_base = roc_auc_score(y_test, y_proba_xgb_base)\n",
    "f1_score_xgb_base = f1_score(y_test, y_pred_xgb_base, average='weighted')\n",
    "report = classification_report(y_test, y_pred_xgb_base, output_dict=True)\n",
    "\n",
    "print(\"KNN - Validation Performance:\")\n",
    "print(\"Confusion Matrix:\")\n",
    "print(confusion_matrix(y_test, y_pred_xgb_base))\n",
    "\n",
    "print(\"Classification Report\")\n",
    "print(classification_report(y_test, y_pred_xgb_base))\n",
    "\n",
    "print(\"F1 Score (weighted) :\", f1_score_xgb_base)\n",
    "print(\"ROC AUC Score:\", roc_auc_xgb_base)"
   ]
  },
  {
   "cell_type": "code",
   "execution_count": 73,
   "id": "4f72f9b9",
   "metadata": {},
   "outputs": [],
   "source": [
    "# Save evaluation metrics\n",
    "xgb_base_metrics = {\n",
    "    'accuracy': accuracy_xgb_base,\n",
    "    'roc_auc': roc_auc_xgb_base,\n",
    "    'classification_report': report,\n",
    "    'f1_score': f1_score_xgb_base\n",
    "}\n",
    "\n",
    "# Open a file for writing JSON data\n",
    "with open('models/xgb_base_metrics_v1.json', 'w') as f:\n",
    "    json.dump(xgb_base_metrics, f, indent=4)"
   ]
  },
  {
   "cell_type": "markdown",
   "id": "cfd2fbca",
   "metadata": {},
   "source": [
    "# Model 23 - XGB - Undersampling"
   ]
  },
  {
   "cell_type": "code",
   "execution_count": 74,
   "id": "cdaa8494",
   "metadata": {},
   "outputs": [
    {
     "name": "stderr",
     "output_type": "stream",
     "text": [
      "C:\\Users\\hp\\AppData\\Roaming\\Python\\Python311\\site-packages\\xgboost\\core.py:158: UserWarning: [02:12:22] WARNING: C:\\buildkite-agent\\builds\\buildkite-windows-cpu-autoscaling-group-i-0015a694724fa8361-1\\xgboost\\xgboost-ci-windows\\src\\learner.cc:740: \n",
      "Parameters: { \"use_label_encoder\" } are not used.\n",
      "\n",
      "  warnings.warn(smsg, UserWarning)\n"
     ]
    },
    {
     "data": {
      "text/plain": [
       "['models/xgb_rus_v1.joblib']"
      ]
     },
     "execution_count": 74,
     "metadata": {},
     "output_type": "execute_result"
    }
   ],
   "source": [
    "# Building the model\n",
    "xgb_rus = xgb.XGBClassifier(random_state=42, use_label_encoder=False, eval_metric='logloss')\n",
    "xgb_rus.fit(X_train_resampled, y_train_resampled)\n",
    "\n",
    "# Predicting the test set results\n",
    "y_pred_xgb_rus = xgb_base.predict(X_test)\n",
    "y_proba_xgb_rus = xgb_base.predict_proba(X_test)[:, 1]\n",
    "\n",
    "# Save the model\n",
    "joblib.dump(xgb_rus, 'models/xgb_rus_v1.joblib')"
   ]
  },
  {
   "cell_type": "code",
   "execution_count": 75,
   "id": "0c290ae5",
   "metadata": {},
   "outputs": [
    {
     "name": "stdout",
     "output_type": "stream",
     "text": [
      "XGB - Validation Performance:\n",
      "Confusion Matrix:\n",
      "[[56868     5]\n",
      " [   19    70]]\n",
      "Classification Report\n",
      "              precision    recall  f1-score   support\n",
      "\n",
      "           0       1.00      1.00      1.00     56873\n",
      "           1       0.93      0.79      0.85        89\n",
      "\n",
      "    accuracy                           1.00     56962\n",
      "   macro avg       0.97      0.89      0.93     56962\n",
      "weighted avg       1.00      1.00      1.00     56962\n",
      "\n",
      "F1 Score (weighted) : 0.9995607086575147\n",
      "ROC AUC Score: 0.9772554540502918\n"
     ]
    }
   ],
   "source": [
    "# Evaluate the model\n",
    "accuracy_xgb_rus = accuracy_score(y_test, y_pred_xgb_rus)\n",
    "roc_auc_xgb_rus = roc_auc_score(y_test, y_proba_xgb_rus)\n",
    "f1_score_xgb_rus = f1_score(y_test, y_pred_xgb_rus, average='weighted')\n",
    "report = classification_report(y_test, y_pred_xgb_rus, output_dict=True)\n",
    "\n",
    "print(\"XGB - Validation Performance:\")\n",
    "print(\"Confusion Matrix:\")\n",
    "print(confusion_matrix(y_test, y_pred_xgb_rus))\n",
    "\n",
    "print(\"Classification Report\")\n",
    "print(classification_report(y_test, y_pred_xgb_rus))\n",
    "\n",
    "print(\"F1 Score (weighted) :\", f1_score_xgb_rus)\n",
    "print(\"ROC AUC Score:\", roc_auc_xgb_rus)"
   ]
  },
  {
   "cell_type": "code",
   "execution_count": 76,
   "id": "1d0c9859",
   "metadata": {},
   "outputs": [],
   "source": [
    "# Save evaluation metrics\n",
    "xgb_rus_metrics = {\n",
    "    'accuracy': accuracy_xgb_rus,\n",
    "    'roc_auc': roc_auc_xgb_rus,\n",
    "    'classification_report': report,\n",
    "    'f1_score': f1_score_xgb_rus\n",
    "}\n",
    "\n",
    "# Open a file for writing JSON data\n",
    "with open('models/xgb_rus_metrics_v1.json', 'w') as f:\n",
    "    json.dump(xgb_rus_metrics, f, indent=4)"
   ]
  },
  {
   "cell_type": "markdown",
   "id": "eca67034",
   "metadata": {},
   "source": [
    "# Model 24 - XGB - SMOTE"
   ]
  },
  {
   "cell_type": "code",
   "execution_count": 77,
   "id": "1aedc0d0",
   "metadata": {},
   "outputs": [
    {
     "name": "stderr",
     "output_type": "stream",
     "text": [
      "C:\\Users\\hp\\AppData\\Roaming\\Python\\Python311\\site-packages\\xgboost\\core.py:158: UserWarning: [02:12:25] WARNING: C:\\buildkite-agent\\builds\\buildkite-windows-cpu-autoscaling-group-i-0015a694724fa8361-1\\xgboost\\xgboost-ci-windows\\src\\learner.cc:740: \n",
      "Parameters: { \"use_label_encoder\" } are not used.\n",
      "\n",
      "  warnings.warn(smsg, UserWarning)\n"
     ]
    },
    {
     "data": {
      "text/plain": [
       "['models/xgb_smote_v1.joblib']"
      ]
     },
     "execution_count": 77,
     "metadata": {},
     "output_type": "execute_result"
    }
   ],
   "source": [
    "# Building the model\n",
    "xgb_smote = xgb.XGBClassifier(random_state=42, use_label_encoder=False, eval_metric='logloss')\n",
    "xgb_smote.fit(X_train_smote, y_train_smote)\n",
    "\n",
    "# Predicting the test set results\n",
    "y_pred_xgb_smote = xgb_smote.predict(X_test)\n",
    "y_proba_xgb_smote = xgb_smote.predict_proba(X_test)[:, 1]\n",
    "\n",
    "# Save the model\n",
    "joblib.dump(xgb_smote, 'models/xgb_smote_v1.joblib')"
   ]
  },
  {
   "cell_type": "code",
   "execution_count": 78,
   "id": "48939b06",
   "metadata": {},
   "outputs": [
    {
     "name": "stdout",
     "output_type": "stream",
     "text": [
      "XGB-SMOTE - Validation Performance:\n",
      "Confusion Matrix:\n",
      "[[56857    16]\n",
      " [   12    77]]\n",
      "Classification Report\n",
      "              precision    recall  f1-score   support\n",
      "\n",
      "           0       1.00      1.00      1.00     56873\n",
      "           1       0.83      0.87      0.85        89\n",
      "\n",
      "    accuracy                           1.00     56962\n",
      "   macro avg       0.91      0.93      0.92     56962\n",
      "weighted avg       1.00      1.00      1.00     56962\n",
      "\n",
      "F1 Score (weighted) : 0.999513837294431\n",
      "ROC AUC Score: 0.9837364820533508\n"
     ]
    }
   ],
   "source": [
    "# Evaluate the model\n",
    "accuracy_xgb_smote = accuracy_score(y_test, y_pred_xgb_smote)\n",
    "roc_auc_xgb_smote = roc_auc_score(y_test, y_proba_xgb_smote)\n",
    "f1_score_xgb_smote = f1_score(y_test, y_pred_xgb_smote, average='weighted')\n",
    "report = classification_report(y_test, y_pred_xgb_smote, output_dict=True)\n",
    "\n",
    "print(\"XGB-SMOTE - Validation Performance:\")\n",
    "print(\"Confusion Matrix:\")\n",
    "print(confusion_matrix(y_test, y_pred_xgb_smote))\n",
    "\n",
    "print(\"Classification Report\")\n",
    "print(classification_report(y_test, y_pred_xgb_smote))\n",
    "\n",
    "print(\"F1 Score (weighted) :\", f1_score_xgb_smote)\n",
    "print(\"ROC AUC Score:\", roc_auc_xgb_smote)"
   ]
  },
  {
   "cell_type": "code",
   "execution_count": 79,
   "id": "69d5cf4e",
   "metadata": {},
   "outputs": [],
   "source": [
    "# Save evaluation metrics\n",
    "xgb_smote_metrics = {\n",
    "    'accuracy': accuracy_xgb_smote,\n",
    "    'roc_auc': roc_auc_xgb_smote,\n",
    "    'classification_report': report,\n",
    "    'f1_score': f1_score_xgb_smote\n",
    "}\n",
    "\n",
    "# Open a file for writing JSON data\n",
    "with open('models/xgb_smote_metrics_v1.json', 'w') as f:\n",
    "    json.dump(xgb_smote_metrics, f, indent=4)"
   ]
  },
  {
   "cell_type": "markdown",
   "id": "6fbed9e8",
   "metadata": {},
   "source": [
    "# Consolidating Metrics to Evaluate Models\n",
    "\n",
    "We dont see a huge performance difference in the metrics across multiple models. It's difficult to manually ascertain which is the best model among 24 models. Hence i'm consolidating all 24 metrics (accuracy, roc_auc, f1_score) into a dataframe. to create a plot to visualize the best performing model across all 3 metrics. "
   ]
  },
  {
   "cell_type": "code",
   "execution_count": 80,
   "id": "8d620f94",
   "metadata": {},
   "outputs": [
    {
     "data": {
      "text/html": [
       "<div>\n",
       "<style scoped>\n",
       "    .dataframe tbody tr th:only-of-type {\n",
       "        vertical-align: middle;\n",
       "    }\n",
       "\n",
       "    .dataframe tbody tr th {\n",
       "        vertical-align: top;\n",
       "    }\n",
       "\n",
       "    .dataframe thead th {\n",
       "        text-align: right;\n",
       "    }\n",
       "</style>\n",
       "<table border=\"1\" class=\"dataframe\">\n",
       "  <thead>\n",
       "    <tr style=\"text-align: right;\">\n",
       "      <th></th>\n",
       "      <th>Model</th>\n",
       "      <th>accuracy</th>\n",
       "      <th>f1_score</th>\n",
       "      <th>roc_auc</th>\n",
       "    </tr>\n",
       "  </thead>\n",
       "  <tbody>\n",
       "    <tr>\n",
       "      <th>0</th>\n",
       "      <td>logreg_base</td>\n",
       "      <td>0.998754</td>\n",
       "      <td>0.99875</td>\n",
       "      <td>0.944353</td>\n",
       "    </tr>\n",
       "    <tr>\n",
       "      <th>1</th>\n",
       "      <td>logreg_rus</td>\n",
       "      <td>0.998754</td>\n",
       "      <td>0.99875</td>\n",
       "      <td>0.944353</td>\n",
       "    </tr>\n",
       "    <tr>\n",
       "      <th>2</th>\n",
       "      <td>logreg_smote</td>\n",
       "      <td>0.961746</td>\n",
       "      <td>0.979047</td>\n",
       "      <td>0.96793</td>\n",
       "    </tr>\n",
       "    <tr>\n",
       "      <th>3</th>\n",
       "      <td>gnb_base</td>\n",
       "      <td>0.989151</td>\n",
       "      <td>0.99327</td>\n",
       "      <td>0.962487</td>\n",
       "    </tr>\n",
       "    <tr>\n",
       "      <th>4</th>\n",
       "      <td>gnb_rus</td>\n",
       "      <td>0.987448</td>\n",
       "      <td>0.992386</td>\n",
       "      <td>0.963406</td>\n",
       "    </tr>\n",
       "    <tr>\n",
       "      <th>5</th>\n",
       "      <td>gnb_smote</td>\n",
       "      <td>0.9875</td>\n",
       "      <td>0.992413</td>\n",
       "      <td>0.964601</td>\n",
       "    </tr>\n",
       "    <tr>\n",
       "      <th>6</th>\n",
       "      <td>dt_base</td>\n",
       "      <td>0.999175</td>\n",
       "      <td>0.999173</td>\n",
       "      <td>0.864966</td>\n",
       "    </tr>\n",
       "    <tr>\n",
       "      <th>7</th>\n",
       "      <td>dt_rus</td>\n",
       "      <td>0.898388</td>\n",
       "      <td>0.944959</td>\n",
       "      <td>0.893023</td>\n",
       "    </tr>\n",
       "    <tr>\n",
       "      <th>8</th>\n",
       "      <td>dt_smote</td>\n",
       "      <td>0.898388</td>\n",
       "      <td>0.944959</td>\n",
       "      <td>0.893023</td>\n",
       "    </tr>\n",
       "    <tr>\n",
       "      <th>9</th>\n",
       "      <td>rf_base</td>\n",
       "      <td>0.999561</td>\n",
       "      <td>0.999541</td>\n",
       "      <td>0.959023</td>\n",
       "    </tr>\n",
       "    <tr>\n",
       "      <th>10</th>\n",
       "      <td>rf_rus</td>\n",
       "      <td>0.898388</td>\n",
       "      <td>0.944959</td>\n",
       "      <td>0.893023</td>\n",
       "    </tr>\n",
       "    <tr>\n",
       "      <th>11</th>\n",
       "      <td>rf_smote</td>\n",
       "      <td>0.997788</td>\n",
       "      <td>0.998169</td>\n",
       "      <td>0.909145</td>\n",
       "    </tr>\n",
       "    <tr>\n",
       "      <th>12</th>\n",
       "      <td>svm_base</td>\n",
       "      <td>0.998438</td>\n",
       "      <td>0.997657</td>\n",
       "      <td>0.638695</td>\n",
       "    </tr>\n",
       "    <tr>\n",
       "      <th>13</th>\n",
       "      <td>svm_rus</td>\n",
       "      <td>0.001562</td>\n",
       "      <td>0.000005</td>\n",
       "      <td>0.548464</td>\n",
       "    </tr>\n",
       "    <tr>\n",
       "      <th>14</th>\n",
       "      <td>svm_smote</td>\n",
       "      <td>0.998438</td>\n",
       "      <td>0.997657</td>\n",
       "      <td>0.638695</td>\n",
       "    </tr>\n",
       "    <tr>\n",
       "      <th>15</th>\n",
       "      <td>knn_base</td>\n",
       "      <td>0.998438</td>\n",
       "      <td>0.997657</td>\n",
       "      <td>0.533274</td>\n",
       "    </tr>\n",
       "    <tr>\n",
       "      <th>16</th>\n",
       "      <td>knn_rus</td>\n",
       "      <td>0.512201</td>\n",
       "      <td>0.676064</td>\n",
       "      <td>0.479693</td>\n",
       "    </tr>\n",
       "    <tr>\n",
       "      <th>17</th>\n",
       "      <td>knn_smote</td>\n",
       "      <td>0.998438</td>\n",
       "      <td>0.997657</td>\n",
       "      <td>0.533274</td>\n",
       "    </tr>\n",
       "    <tr>\n",
       "      <th>18</th>\n",
       "      <td>lgbm_base</td>\n",
       "      <td>0.988413</td>\n",
       "      <td>0.992673</td>\n",
       "      <td>0.449614</td>\n",
       "    </tr>\n",
       "    <tr>\n",
       "      <th>19</th>\n",
       "      <td>lgbm_rus</td>\n",
       "      <td>0.970963</td>\n",
       "      <td>0.983849</td>\n",
       "      <td>0.984544</td>\n",
       "    </tr>\n",
       "    <tr>\n",
       "      <th>20</th>\n",
       "      <td>lgbm_smote</td>\n",
       "      <td>0.999017</td>\n",
       "      <td>0.999079</td>\n",
       "      <td>0.975467</td>\n",
       "    </tr>\n",
       "    <tr>\n",
       "      <th>21</th>\n",
       "      <td>xgb_base</td>\n",
       "      <td>0.999579</td>\n",
       "      <td>0.999561</td>\n",
       "      <td>0.977255</td>\n",
       "    </tr>\n",
       "    <tr>\n",
       "      <th>22</th>\n",
       "      <td>xgb_rus</td>\n",
       "      <td>0.999579</td>\n",
       "      <td>0.999561</td>\n",
       "      <td>0.977255</td>\n",
       "    </tr>\n",
       "    <tr>\n",
       "      <th>23</th>\n",
       "      <td>xgb_smote</td>\n",
       "      <td>0.999508</td>\n",
       "      <td>0.999514</td>\n",
       "      <td>0.983736</td>\n",
       "    </tr>\n",
       "  </tbody>\n",
       "</table>\n",
       "</div>"
      ],
      "text/plain": [
       "           Model  accuracy  f1_score   roc_auc\n",
       "0    logreg_base  0.998754   0.99875  0.944353\n",
       "1     logreg_rus  0.998754   0.99875  0.944353\n",
       "2   logreg_smote  0.961746  0.979047   0.96793\n",
       "3       gnb_base  0.989151   0.99327  0.962487\n",
       "4        gnb_rus  0.987448  0.992386  0.963406\n",
       "5      gnb_smote    0.9875  0.992413  0.964601\n",
       "6        dt_base  0.999175  0.999173  0.864966\n",
       "7         dt_rus  0.898388  0.944959  0.893023\n",
       "8       dt_smote  0.898388  0.944959  0.893023\n",
       "9        rf_base  0.999561  0.999541  0.959023\n",
       "10        rf_rus  0.898388  0.944959  0.893023\n",
       "11      rf_smote  0.997788  0.998169  0.909145\n",
       "12      svm_base  0.998438  0.997657  0.638695\n",
       "13       svm_rus  0.001562  0.000005  0.548464\n",
       "14     svm_smote  0.998438  0.997657  0.638695\n",
       "15      knn_base  0.998438  0.997657  0.533274\n",
       "16       knn_rus  0.512201  0.676064  0.479693\n",
       "17     knn_smote  0.998438  0.997657  0.533274\n",
       "18     lgbm_base  0.988413  0.992673  0.449614\n",
       "19      lgbm_rus  0.970963  0.983849  0.984544\n",
       "20    lgbm_smote  0.999017  0.999079  0.975467\n",
       "21      xgb_base  0.999579  0.999561  0.977255\n",
       "22       xgb_rus  0.999579  0.999561  0.977255\n",
       "23     xgb_smote  0.999508  0.999514  0.983736"
      ]
     },
     "execution_count": 80,
     "metadata": {},
     "output_type": "execute_result"
    }
   ],
   "source": [
    "# To load metrics from JSON files\n",
    "def load_metrics(filename):\n",
    "    with open(filename, 'r') as f:\n",
    "        metrics = json.load(f)\n",
    "    return metrics\n",
    "\n",
    "# Load metrics for all models\n",
    "models = ['logreg_base','logreg_rus','logreg_smote','gnb_base','gnb_rus','gnb_smote',\n",
    "          'dt_base','dt_rus','dt_smote','rf_base','rf_rus','rf_smote','svm_base','svm_rus','svm_smote',\n",
    "          'knn_base', 'knn_rus', 'knn_smote', 'lgbm_base','lgbm_rus','lgbm_smote','xgb_base','xgb_rus','xgb_smote']\n",
    "metrics_dict = {}\n",
    "\n",
    "for model in models:\n",
    "    metrics_dict[model] = load_metrics(f'models/{model}_metrics_v1.json')\n",
    "\n",
    "# Create a DataFrame from metrics\n",
    "metrics_df = pd.DataFrame(metrics_dict).T\n",
    "metrics_df.reset_index(inplace=True)\n",
    "metrics_df.rename(columns={'index': 'Model'}, inplace=True)\n",
    "\n",
    "metrics_df_selected = metrics_df[['Model','accuracy','f1_score','roc_auc']]\n",
    "metrics_df_class_report = metrics_df[['classification_report']]\n",
    "\n",
    "metrics_df_acc = metrics_df_selected.sort_values(by='accuracy', ascending=False)\n",
    "metrics_df_f1 = metrics_df_selected.sort_values(by='f1_score', ascending=False)\n",
    "metrics_df_roc = metrics_df_selected.sort_values(by='roc_auc', ascending=False)\n",
    "metrics_df_selected"
   ]
  },
  {
   "cell_type": "markdown",
   "id": "7bd675f3",
   "metadata": {},
   "source": [
    "## Lets Visualize the Metrics\n",
    "\n",
    "1. Bar plot is sorted in descending to understand the top performing models. This will help to identify top performance easily.\n",
    "2. Creating a plots for each metric to understand it better."
   ]
  },
  {
   "cell_type": "code",
   "execution_count": 81,
   "id": "acdfa149",
   "metadata": {},
   "outputs": [
    {
     "data": {
      "image/png": "[encoded data removed]",
      "text/plain": [
       "<Figure size 1200x400 with 1 Axes>"
      ]
     },
     "metadata": {},
     "output_type": "display_data"
    },
    {
     "data": {
      "text/plain": [
       "<Figure size 640x480 with 0 Axes>"
      ]
     },
     "metadata": {},
     "output_type": "display_data"
    }
   ],
   "source": [
    "# Plotting\n",
    "\n",
    "import matplotlib.pyplot as plt\n",
    "import seaborn as sns\n",
    "\n",
    "plt.figure(figsize=(12, 4))\n",
    "\n",
    "image_path = 'visuals\\Accuracy_comparison_pre_CrossValidation.png'\n",
    "\n",
    "# Accuracy\n",
    "plt.subplot(1, 3, 1)\n",
    "sns.barplot(x='Model', y='accuracy', data=metrics_df_acc)\n",
    "plt.title('Accuracy Comparison')\n",
    "plt.xticks(rotation=90)\n",
    "\n",
    "plt.tight_layout()\n",
    "plt.show()\n",
    "plt.savefig(image_path)"
   ]
  },
  {
   "cell_type": "code",
   "execution_count": 82,
   "id": "140fb25d",
   "metadata": {},
   "outputs": [
    {
     "data": {
      "image/png": "[encoded data removed]",
      "text/plain": [
       "<Figure size 1200x400 with 1 Axes>"
      ]
     },
     "metadata": {},
     "output_type": "display_data"
    },
    {
     "data": {
      "text/plain": [
       "<Figure size 640x480 with 0 Axes>"
      ]
     },
     "metadata": {},
     "output_type": "display_data"
    }
   ],
   "source": [
    "# F1 Score\n",
    "\n",
    "# Plotting\n",
    "plt.figure(figsize=(12, 4))\n",
    "\n",
    "image_path = 'visuals\\F1Score_comparison_pre_CrossValidation.png'\n",
    "\n",
    "plt.subplot(1, 3, 2)\n",
    "sns.barplot(x='Model', y='f1_score', data=metrics_df_f1)\n",
    "plt.title('F1 Score Comparison')\n",
    "plt.xticks(rotation=90)\n",
    "\n",
    "plt.tight_layout()\n",
    "plt.show()\n",
    "plt.savefig(image_path)"
   ]
  },
  {
   "cell_type": "code",
   "execution_count": 83,
   "id": "3539556c",
   "metadata": {},
   "outputs": [
    {
     "data": {
      "image/png": "[encoded data removed]",
      "text/plain": [
       "<Figure size 1200x400 with 1 Axes>"
      ]
     },
     "metadata": {},
     "output_type": "display_data"
    },
    {
     "data": {
      "text/plain": [
       "<Figure size 640x480 with 0 Axes>"
      ]
     },
     "metadata": {},
     "output_type": "display_data"
    }
   ],
   "source": [
    "# ROC AUC Score\n",
    "\n",
    "# Plotting\n",
    "plt.figure(figsize=(12, 4))\n",
    "\n",
    "image_path = 'visuals\\Roc_AucScore_comparison_pre_CrossValidation.png'\n",
    "\n",
    "plt.subplot(1, 3, 3)\n",
    "sns.barplot(x='Model', y='roc_auc', data=metrics_df_roc)\n",
    "plt.title('ROC AUC Score Comparison')\n",
    "plt.xticks(rotation=90)\n",
    "\n",
    "plt.tight_layout()\n",
    "plt.show()\n",
    "plt.savefig(image_path)"
   ]
  },
  {
   "cell_type": "markdown",
   "id": "cc5bafb3",
   "metadata": {},
   "source": [
    "# Evaluation \n",
    "\n",
    "1. As discussed earlier, its clearly evident that Accuracy metric is showing high performance in most of the models. F1 Score shows a slight difference in the performance metrics. But ROC_AUC clearly distinguishes the model performance more clearly as expected. It displays the strength of ROC_AUC in imbalanced data performance evaluation.\n",
    "\n",
    "Top 5 Models as per metrics :\n",
    "1. Accuracy : Xgb_rus, Xgb_base, rf_base, Xgb_smote, dt_smote.\n",
    "\n",
    "2. F1_score : Xgb_rus, Xgb_base, rf_base, Xgb_smote, dt_base.\n",
    "\n",
    "3. Roc_Auc : lgbm_rus, Xgb_smote, xgb_rux, xgb_base, Lgbm_smote\n",
    "\n",
    "\n",
    "Its clear that best results across all Algorithms are from XGB and LGBM, Random Forest. In Accuracy & F1_score we can see rf_base, dt_base are placed in Top 5 but dont feature in the top 5 of  ROC_AUC metric. \n",
    "\n",
    "I wanted give more weightage to ROC_AUC metric since it is very robust in problems with imbalanced data. Hence I'm proceeding with Hyper parameter Tuning or Cross-validation for 3 algorithms(XGB,LGBM,RF). Lets check if this improves the performance or help in understanding important hyperparameter."
   ]
  },
  {
   "cell_type": "code",
   "execution_count": null,
   "id": "b68c2d44",
   "metadata": {},
   "outputs": [],
   "source": []
  }
 ],
 "metadata": {
  "kernelspec": {
   "display_name": "Python 3 (ipykernel)",
   "language": "python",
   "name": "python3"
  },
  "language_info": {
   "codemirror_mode": {
    "name": "ipython",
    "version": 3
   },
   "file_extension": ".py",
   "mimetype": "text/x-python",
   "name": "python",
   "nbconvert_exporter": "python",
   "pygments_lexer": "ipython3",
   "version": "3.11.5"
  }
 },
 "nbformat": 4,
 "nbformat_minor": 5
}
