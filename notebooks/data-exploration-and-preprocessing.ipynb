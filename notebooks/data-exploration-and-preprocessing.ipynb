{
 "cells": [
  {
   "cell_type": "markdown",
   "id": "9c82ea26",
   "metadata": {},
   "source": [
    "### Problem Statement:\n",
    "\n",
    "A credit card is one of the most used financial products to make online purchases and payments. Though the Credit cards can be a convenient way to manage your finances, they can also be risky. Credit card fraud is the unauthorized use of someone else's credit card or credit card information to make purchases or withdraw cash. It is important that credit card companies are able to recognize fraudulent credit card transactions so that customers are not charged for items that they did not purchase. The dataset contains transactions made by credit cards in September 2013 by European cardholders. This dataset presents transactions that occurred in two days, where we have 492 frauds out of 284,807 transactions. The dataset is highly unbalanced, the positive class (frauds) account for 0.172% of all transactions. \n",
    "\n",
    "#### Solution Expected - We have to build a classification model to predict whether a transaction is fraudulent or not."
   ]
  },
  {
   "cell_type": "markdown",
   "id": "29762897",
   "metadata": {},
   "source": [
    "### Business understanding : \n",
    "\n",
    "In the current world, lot of new technologies are coming daily. Banking Transaction have evolved a lot from paper works to digital transactions and to card transactions. Due to this the number of transactions has increased multifold and cash transaction and cheque transactions have decreased drastically and huge load is getting piled on the banks server for daily transacations. There are lot of digital font prints left by every customer, at some places these are compromised, as a result confidential information falls into the wrong hands. But the onus of safety and secuirty of customer's money is on the Banks. Due to high volume transactions, its impractical to be manually monitored. Hence the Banks need several models to monitor the transactions and raise alarm when something is wrong. \n",
    "\n",
    "One such model requirement is to identify credit cra transaction fraud and raise alarm as quickly as possible. So that no one looses money it can be a customer nor POS vendors nor the Bank. Hence the idea here is creating a model, using the features available of the customer and his transactions, so that model can predict the fraud transactions quicklly in real time and shortlist the transaction for a manual intervention to cross check with card holder immediately.\n",
    "\n",
    "Since there is monetary value associated with every transaction and missing one fraud transaction shall end up has a loss to the Bank. It is understood that the False Negative is more danagerous than False Positive. Has false Negative will lead to financial losses but false Positive shall lead customer inconvenience. I'm sure later is much better to handle. \n",
    "So we need to build a strong model which as high accuracy in identifying a Fraud transaction more accurately. "
   ]
  },
  {
   "cell_type": "markdown",
   "id": "3b2c9e3a",
   "metadata": {},
   "source": [
    "# Step 1 - Import Libraries and Load Data Set"
   ]
  },
  {
   "cell_type": "code",
   "execution_count": 1,
   "id": "ca41ffd6",
   "metadata": {},
   "outputs": [],
   "source": [
    "# some of the basic libraries to do EDA & Pre-processing\n",
    "\n",
    "import pandas as pd\n",
    "import numpy as np\n",
    "import matplotlib.pyplot as plt\n",
    "import seaborn as sns\n",
    "import os"
   ]
  },
  {
   "cell_type": "code",
   "execution_count": 2,
   "id": "76afc621",
   "metadata": {},
   "outputs": [
    {
     "name": "stdout",
     "output_type": "stream",
     "text": [
      "C:\\Users\\hp\\Documents\\find-default\\notebooks\n"
     ]
    }
   ],
   "source": [
    "print(os.getcwd())"
   ]
  },
  {
   "cell_type": "code",
   "execution_count": 3,
   "id": "cc57a71b",
   "metadata": {},
   "outputs": [
    {
     "name": "stdout",
     "output_type": "stream",
     "text": [
      "C:\\Users\\hp\\Documents\\find-default\n"
     ]
    }
   ],
   "source": [
    "os.chdir(r'C:\\Users\\hp\\Documents\\find-default')\n",
    "print(os.getcwd())"
   ]
  },
  {
   "cell_type": "markdown",
   "id": "1961dfc7",
   "metadata": {},
   "source": [
    "# Lets Load the DataSet"
   ]
  },
  {
   "cell_type": "code",
   "execution_count": 4,
   "id": "7c7c6e46",
   "metadata": {},
   "outputs": [],
   "source": [
    "file_path = 'data/raw/creditcard.csv'\n",
    "\n",
    "df = pd.read_csv(file_path)"
   ]
  },
  {
   "cell_type": "markdown",
   "id": "81d33ba9",
   "metadata": {},
   "source": [
    "# STEP 3 - VISUALIZE DATA - EDA\n",
    "\n",
    "View and Understand the Data"
   ]
  },
  {
   "cell_type": "code",
   "execution_count": 5,
   "id": "f0c33104",
   "metadata": {},
   "outputs": [
    {
     "data": {
      "text/html": [
       "<div>\n",
       "<style scoped>\n",
       "    .dataframe tbody tr th:only-of-type {\n",
       "        vertical-align: middle;\n",
       "    }\n",
       "\n",
       "    .dataframe tbody tr th {\n",
       "        vertical-align: top;\n",
       "    }\n",
       "\n",
       "    .dataframe thead th {\n",
       "        text-align: right;\n",
       "    }\n",
       "</style>\n",
       "<table border=\"1\" class=\"dataframe\">\n",
       "  <thead>\n",
       "    <tr style=\"text-align: right;\">\n",
       "      <th></th>\n",
       "      <th>Time</th>\n",
       "      <th>V1</th>\n",
       "      <th>V2</th>\n",
       "      <th>V3</th>\n",
       "      <th>V4</th>\n",
       "      <th>V5</th>\n",
       "      <th>V6</th>\n",
       "      <th>V7</th>\n",
       "      <th>V8</th>\n",
       "      <th>V9</th>\n",
       "      <th>...</th>\n",
       "      <th>V21</th>\n",
       "      <th>V22</th>\n",
       "      <th>V23</th>\n",
       "      <th>V24</th>\n",
       "      <th>V25</th>\n",
       "      <th>V26</th>\n",
       "      <th>V27</th>\n",
       "      <th>V28</th>\n",
       "      <th>Amount</th>\n",
       "      <th>Class</th>\n",
       "    </tr>\n",
       "  </thead>\n",
       "  <tbody>\n",
       "    <tr>\n",
       "      <th>0</th>\n",
       "      <td>0.0</td>\n",
       "      <td>-1.359807</td>\n",
       "      <td>-0.072781</td>\n",
       "      <td>2.536347</td>\n",
       "      <td>1.378155</td>\n",
       "      <td>-0.338321</td>\n",
       "      <td>0.462388</td>\n",
       "      <td>0.239599</td>\n",
       "      <td>0.098698</td>\n",
       "      <td>0.363787</td>\n",
       "      <td>...</td>\n",
       "      <td>-0.018307</td>\n",
       "      <td>0.277838</td>\n",
       "      <td>-0.110474</td>\n",
       "      <td>0.066928</td>\n",
       "      <td>0.128539</td>\n",
       "      <td>-0.189115</td>\n",
       "      <td>0.133558</td>\n",
       "      <td>-0.021053</td>\n",
       "      <td>149.62</td>\n",
       "      <td>0</td>\n",
       "    </tr>\n",
       "    <tr>\n",
       "      <th>1</th>\n",
       "      <td>0.0</td>\n",
       "      <td>1.191857</td>\n",
       "      <td>0.266151</td>\n",
       "      <td>0.166480</td>\n",
       "      <td>0.448154</td>\n",
       "      <td>0.060018</td>\n",
       "      <td>-0.082361</td>\n",
       "      <td>-0.078803</td>\n",
       "      <td>0.085102</td>\n",
       "      <td>-0.255425</td>\n",
       "      <td>...</td>\n",
       "      <td>-0.225775</td>\n",
       "      <td>-0.638672</td>\n",
       "      <td>0.101288</td>\n",
       "      <td>-0.339846</td>\n",
       "      <td>0.167170</td>\n",
       "      <td>0.125895</td>\n",
       "      <td>-0.008983</td>\n",
       "      <td>0.014724</td>\n",
       "      <td>2.69</td>\n",
       "      <td>0</td>\n",
       "    </tr>\n",
       "    <tr>\n",
       "      <th>2</th>\n",
       "      <td>1.0</td>\n",
       "      <td>-1.358354</td>\n",
       "      <td>-1.340163</td>\n",
       "      <td>1.773209</td>\n",
       "      <td>0.379780</td>\n",
       "      <td>-0.503198</td>\n",
       "      <td>1.800499</td>\n",
       "      <td>0.791461</td>\n",
       "      <td>0.247676</td>\n",
       "      <td>-1.514654</td>\n",
       "      <td>...</td>\n",
       "      <td>0.247998</td>\n",
       "      <td>0.771679</td>\n",
       "      <td>0.909412</td>\n",
       "      <td>-0.689281</td>\n",
       "      <td>-0.327642</td>\n",
       "      <td>-0.139097</td>\n",
       "      <td>-0.055353</td>\n",
       "      <td>-0.059752</td>\n",
       "      <td>378.66</td>\n",
       "      <td>0</td>\n",
       "    </tr>\n",
       "    <tr>\n",
       "      <th>3</th>\n",
       "      <td>1.0</td>\n",
       "      <td>-0.966272</td>\n",
       "      <td>-0.185226</td>\n",
       "      <td>1.792993</td>\n",
       "      <td>-0.863291</td>\n",
       "      <td>-0.010309</td>\n",
       "      <td>1.247203</td>\n",
       "      <td>0.237609</td>\n",
       "      <td>0.377436</td>\n",
       "      <td>-1.387024</td>\n",
       "      <td>...</td>\n",
       "      <td>-0.108300</td>\n",
       "      <td>0.005274</td>\n",
       "      <td>-0.190321</td>\n",
       "      <td>-1.175575</td>\n",
       "      <td>0.647376</td>\n",
       "      <td>-0.221929</td>\n",
       "      <td>0.062723</td>\n",
       "      <td>0.061458</td>\n",
       "      <td>123.50</td>\n",
       "      <td>0</td>\n",
       "    </tr>\n",
       "    <tr>\n",
       "      <th>4</th>\n",
       "      <td>2.0</td>\n",
       "      <td>-1.158233</td>\n",
       "      <td>0.877737</td>\n",
       "      <td>1.548718</td>\n",
       "      <td>0.403034</td>\n",
       "      <td>-0.407193</td>\n",
       "      <td>0.095921</td>\n",
       "      <td>0.592941</td>\n",
       "      <td>-0.270533</td>\n",
       "      <td>0.817739</td>\n",
       "      <td>...</td>\n",
       "      <td>-0.009431</td>\n",
       "      <td>0.798278</td>\n",
       "      <td>-0.137458</td>\n",
       "      <td>0.141267</td>\n",
       "      <td>-0.206010</td>\n",
       "      <td>0.502292</td>\n",
       "      <td>0.219422</td>\n",
       "      <td>0.215153</td>\n",
       "      <td>69.99</td>\n",
       "      <td>0</td>\n",
       "    </tr>\n",
       "  </tbody>\n",
       "</table>\n",
       "<p>5 rows × 31 columns</p>\n",
       "</div>"
      ],
      "text/plain": [
       "   Time        V1        V2        V3        V4        V5        V6        V7  \\\n",
       "0   0.0 -1.359807 -0.072781  2.536347  1.378155 -0.338321  0.462388  0.239599   \n",
       "1   0.0  1.191857  0.266151  0.166480  0.448154  0.060018 -0.082361 -0.078803   \n",
       "2   1.0 -1.358354 -1.340163  1.773209  0.379780 -0.503198  1.800499  0.791461   \n",
       "3   1.0 -0.966272 -0.185226  1.792993 -0.863291 -0.010309  1.247203  0.237609   \n",
       "4   2.0 -1.158233  0.877737  1.548718  0.403034 -0.407193  0.095921  0.592941   \n",
       "\n",
       "         V8        V9  ...       V21       V22       V23       V24       V25  \\\n",
       "0  0.098698  0.363787  ... -0.018307  0.277838 -0.110474  0.066928  0.128539   \n",
       "1  0.085102 -0.255425  ... -0.225775 -0.638672  0.101288 -0.339846  0.167170   \n",
       "2  0.247676 -1.514654  ...  0.247998  0.771679  0.909412 -0.689281 -0.327642   \n",
       "3  0.377436 -1.387024  ... -0.108300  0.005274 -0.190321 -1.175575  0.647376   \n",
       "4 -0.270533  0.817739  ... -0.009431  0.798278 -0.137458  0.141267 -0.206010   \n",
       "\n",
       "        V26       V27       V28  Amount  Class  \n",
       "0 -0.189115  0.133558 -0.021053  149.62      0  \n",
       "1  0.125895 -0.008983  0.014724    2.69      0  \n",
       "2 -0.139097 -0.055353 -0.059752  378.66      0  \n",
       "3 -0.221929  0.062723  0.061458  123.50      0  \n",
       "4  0.502292  0.219422  0.215153   69.99      0  \n",
       "\n",
       "[5 rows x 31 columns]"
      ]
     },
     "execution_count": 5,
     "metadata": {},
     "output_type": "execute_result"
    }
   ],
   "source": [
    "# lets see first 5 records to understand the data glimpse\n",
    "\n",
    "df.head()"
   ]
  },
  {
   "cell_type": "code",
   "execution_count": 6,
   "id": "02d5586a",
   "metadata": {},
   "outputs": [
    {
     "data": {
      "text/plain": [
       "(284807, 31)"
      ]
     },
     "execution_count": 6,
     "metadata": {},
     "output_type": "execute_result"
    }
   ],
   "source": [
    "# Lets check the shape of the data\n",
    "\n",
    "df.shape"
   ]
  },
  {
   "cell_type": "code",
   "execution_count": 7,
   "id": "690f4901",
   "metadata": {},
   "outputs": [
    {
     "name": "stdout",
     "output_type": "stream",
     "text": [
      "<class 'pandas.core.frame.DataFrame'>\n",
      "RangeIndex: 284807 entries, 0 to 284806\n",
      "Data columns (total 31 columns):\n",
      " #   Column  Non-Null Count   Dtype  \n",
      "---  ------  --------------   -----  \n",
      " 0   Time    284807 non-null  float64\n",
      " 1   V1      284807 non-null  float64\n",
      " 2   V2      284807 non-null  float64\n",
      " 3   V3      284807 non-null  float64\n",
      " 4   V4      284807 non-null  float64\n",
      " 5   V5      284807 non-null  float64\n",
      " 6   V6      284807 non-null  float64\n",
      " 7   V7      284807 non-null  float64\n",
      " 8   V8      284807 non-null  float64\n",
      " 9   V9      284807 non-null  float64\n",
      " 10  V10     284807 non-null  float64\n",
      " 11  V11     284807 non-null  float64\n",
      " 12  V12     284807 non-null  float64\n",
      " 13  V13     284807 non-null  float64\n",
      " 14  V14     284807 non-null  float64\n",
      " 15  V15     284807 non-null  float64\n",
      " 16  V16     284807 non-null  float64\n",
      " 17  V17     284807 non-null  float64\n",
      " 18  V18     284807 non-null  float64\n",
      " 19  V19     284807 non-null  float64\n",
      " 20  V20     284807 non-null  float64\n",
      " 21  V21     284807 non-null  float64\n",
      " 22  V22     284807 non-null  float64\n",
      " 23  V23     284807 non-null  float64\n",
      " 24  V24     284807 non-null  float64\n",
      " 25  V25     284807 non-null  float64\n",
      " 26  V26     284807 non-null  float64\n",
      " 27  V27     284807 non-null  float64\n",
      " 28  V28     284807 non-null  float64\n",
      " 29  Amount  284807 non-null  float64\n",
      " 30  Class   284807 non-null  int64  \n",
      "dtypes: float64(30), int64(1)\n",
      "memory usage: 67.4 MB\n"
     ]
    }
   ],
   "source": [
    "# Lets check the dtypes and nullvalues\n",
    "\n",
    "df.info()"
   ]
  },
  {
   "cell_type": "markdown",
   "id": "fec1083b",
   "metadata": {},
   "source": [
    "### There are no null values in the data. Hence we dont have to handle null values."
   ]
  },
  {
   "cell_type": "code",
   "execution_count": 8,
   "id": "5ac5e0b1",
   "metadata": {},
   "outputs": [
    {
     "data": {
      "text/plain": [
       "Time\n",
       "163152.0    36\n",
       "64947.0     26\n",
       "68780.0     25\n",
       "3767.0      21\n",
       "3770.0      20\n",
       "            ..\n",
       "127750.0     1\n",
       "62260.0      1\n",
       "62259.0      1\n",
       "127753.0     1\n",
       "172792.0     1\n",
       "Name: count, Length: 124592, dtype: int64"
      ]
     },
     "execution_count": 8,
     "metadata": {},
     "output_type": "execute_result"
    }
   ],
   "source": [
    "df['Time'].value_counts()"
   ]
  },
  {
   "cell_type": "code",
   "execution_count": 9,
   "id": "88183488",
   "metadata": {},
   "outputs": [
    {
     "data": {
      "text/plain": [
       "124592"
      ]
     },
     "execution_count": 9,
     "metadata": {},
     "output_type": "execute_result"
    }
   ],
   "source": [
    "df['Time'].nunique()"
   ]
  },
  {
   "cell_type": "code",
   "execution_count": 10,
   "id": "ef6aa726",
   "metadata": {},
   "outputs": [
    {
     "data": {
      "text/plain": [
       "0.0"
      ]
     },
     "execution_count": 10,
     "metadata": {},
     "output_type": "execute_result"
    }
   ],
   "source": [
    "df['Time'].min()"
   ]
  },
  {
   "cell_type": "code",
   "execution_count": 11,
   "id": "2b98ae27",
   "metadata": {
    "scrolled": true
   },
   "outputs": [
    {
     "data": {
      "text/plain": [
       "172792.0"
      ]
     },
     "execution_count": 11,
     "metadata": {},
     "output_type": "execute_result"
    }
   ],
   "source": [
    "df['Time'].max()"
   ]
  },
  {
   "cell_type": "markdown",
   "id": "f4301e5a",
   "metadata": {},
   "source": [
    "## It looks like the data in the Time column is INT not Float. So lets change the data type."
   ]
  },
  {
   "cell_type": "code",
   "execution_count": 12,
   "id": "fd4ad08c",
   "metadata": {},
   "outputs": [],
   "source": [
    "df['Time']=df['Time'].astype(int)"
   ]
  },
  {
   "cell_type": "code",
   "execution_count": 13,
   "id": "1f0acb64",
   "metadata": {},
   "outputs": [
    {
     "name": "stdout",
     "output_type": "stream",
     "text": [
      "<class 'pandas.core.frame.DataFrame'>\n",
      "RangeIndex: 284807 entries, 0 to 284806\n",
      "Data columns (total 31 columns):\n",
      " #   Column  Non-Null Count   Dtype  \n",
      "---  ------  --------------   -----  \n",
      " 0   Time    284807 non-null  int32  \n",
      " 1   V1      284807 non-null  float64\n",
      " 2   V2      284807 non-null  float64\n",
      " 3   V3      284807 non-null  float64\n",
      " 4   V4      284807 non-null  float64\n",
      " 5   V5      284807 non-null  float64\n",
      " 6   V6      284807 non-null  float64\n",
      " 7   V7      284807 non-null  float64\n",
      " 8   V8      284807 non-null  float64\n",
      " 9   V9      284807 non-null  float64\n",
      " 10  V10     284807 non-null  float64\n",
      " 11  V11     284807 non-null  float64\n",
      " 12  V12     284807 non-null  float64\n",
      " 13  V13     284807 non-null  float64\n",
      " 14  V14     284807 non-null  float64\n",
      " 15  V15     284807 non-null  float64\n",
      " 16  V16     284807 non-null  float64\n",
      " 17  V17     284807 non-null  float64\n",
      " 18  V18     284807 non-null  float64\n",
      " 19  V19     284807 non-null  float64\n",
      " 20  V20     284807 non-null  float64\n",
      " 21  V21     284807 non-null  float64\n",
      " 22  V22     284807 non-null  float64\n",
      " 23  V23     284807 non-null  float64\n",
      " 24  V24     284807 non-null  float64\n",
      " 25  V25     284807 non-null  float64\n",
      " 26  V26     284807 non-null  float64\n",
      " 27  V27     284807 non-null  float64\n",
      " 28  V28     284807 non-null  float64\n",
      " 29  Amount  284807 non-null  float64\n",
      " 30  Class   284807 non-null  int64  \n",
      "dtypes: float64(29), int32(1), int64(1)\n",
      "memory usage: 66.3 MB\n"
     ]
    }
   ],
   "source": [
    "df.info()"
   ]
  },
  {
   "cell_type": "code",
   "execution_count": 14,
   "id": "48f03429",
   "metadata": {},
   "outputs": [
    {
     "data": {
      "text/html": [
       "<div>\n",
       "<style scoped>\n",
       "    .dataframe tbody tr th:only-of-type {\n",
       "        vertical-align: middle;\n",
       "    }\n",
       "\n",
       "    .dataframe tbody tr th {\n",
       "        vertical-align: top;\n",
       "    }\n",
       "\n",
       "    .dataframe thead th {\n",
       "        text-align: right;\n",
       "    }\n",
       "</style>\n",
       "<table border=\"1\" class=\"dataframe\">\n",
       "  <thead>\n",
       "    <tr style=\"text-align: right;\">\n",
       "      <th></th>\n",
       "      <th>Time</th>\n",
       "      <th>V1</th>\n",
       "      <th>V2</th>\n",
       "      <th>V3</th>\n",
       "      <th>V4</th>\n",
       "      <th>V5</th>\n",
       "      <th>V6</th>\n",
       "      <th>V7</th>\n",
       "      <th>V8</th>\n",
       "      <th>V9</th>\n",
       "      <th>...</th>\n",
       "      <th>V21</th>\n",
       "      <th>V22</th>\n",
       "      <th>V23</th>\n",
       "      <th>V24</th>\n",
       "      <th>V25</th>\n",
       "      <th>V26</th>\n",
       "      <th>V27</th>\n",
       "      <th>V28</th>\n",
       "      <th>Amount</th>\n",
       "      <th>Class</th>\n",
       "    </tr>\n",
       "  </thead>\n",
       "  <tbody>\n",
       "    <tr>\n",
       "      <th>count</th>\n",
       "      <td>284807.000000</td>\n",
       "      <td>2.848070e+05</td>\n",
       "      <td>2.848070e+05</td>\n",
       "      <td>2.848070e+05</td>\n",
       "      <td>2.848070e+05</td>\n",
       "      <td>2.848070e+05</td>\n",
       "      <td>2.848070e+05</td>\n",
       "      <td>2.848070e+05</td>\n",
       "      <td>2.848070e+05</td>\n",
       "      <td>2.848070e+05</td>\n",
       "      <td>...</td>\n",
       "      <td>2.848070e+05</td>\n",
       "      <td>2.848070e+05</td>\n",
       "      <td>2.848070e+05</td>\n",
       "      <td>2.848070e+05</td>\n",
       "      <td>2.848070e+05</td>\n",
       "      <td>2.848070e+05</td>\n",
       "      <td>2.848070e+05</td>\n",
       "      <td>2.848070e+05</td>\n",
       "      <td>284807.000000</td>\n",
       "      <td>284807.000000</td>\n",
       "    </tr>\n",
       "    <tr>\n",
       "      <th>mean</th>\n",
       "      <td>94813.859575</td>\n",
       "      <td>1.759061e-12</td>\n",
       "      <td>-8.251130e-13</td>\n",
       "      <td>-9.654937e-13</td>\n",
       "      <td>8.321385e-13</td>\n",
       "      <td>1.649999e-13</td>\n",
       "      <td>4.248366e-13</td>\n",
       "      <td>-3.054600e-13</td>\n",
       "      <td>8.777971e-14</td>\n",
       "      <td>-1.179749e-12</td>\n",
       "      <td>...</td>\n",
       "      <td>-3.405756e-13</td>\n",
       "      <td>-5.723197e-13</td>\n",
       "      <td>-9.725856e-13</td>\n",
       "      <td>1.464150e-12</td>\n",
       "      <td>-6.987102e-13</td>\n",
       "      <td>-5.617874e-13</td>\n",
       "      <td>3.332082e-12</td>\n",
       "      <td>-3.518874e-12</td>\n",
       "      <td>88.349619</td>\n",
       "      <td>0.001727</td>\n",
       "    </tr>\n",
       "    <tr>\n",
       "      <th>std</th>\n",
       "      <td>47488.145955</td>\n",
       "      <td>1.958696e+00</td>\n",
       "      <td>1.651309e+00</td>\n",
       "      <td>1.516255e+00</td>\n",
       "      <td>1.415869e+00</td>\n",
       "      <td>1.380247e+00</td>\n",
       "      <td>1.332271e+00</td>\n",
       "      <td>1.237094e+00</td>\n",
       "      <td>1.194353e+00</td>\n",
       "      <td>1.098632e+00</td>\n",
       "      <td>...</td>\n",
       "      <td>7.345240e-01</td>\n",
       "      <td>7.257016e-01</td>\n",
       "      <td>6.244603e-01</td>\n",
       "      <td>6.056471e-01</td>\n",
       "      <td>5.212781e-01</td>\n",
       "      <td>4.822270e-01</td>\n",
       "      <td>4.036325e-01</td>\n",
       "      <td>3.300833e-01</td>\n",
       "      <td>250.120109</td>\n",
       "      <td>0.041527</td>\n",
       "    </tr>\n",
       "    <tr>\n",
       "      <th>min</th>\n",
       "      <td>0.000000</td>\n",
       "      <td>-5.640751e+01</td>\n",
       "      <td>-7.271573e+01</td>\n",
       "      <td>-4.832559e+01</td>\n",
       "      <td>-5.683171e+00</td>\n",
       "      <td>-1.137433e+02</td>\n",
       "      <td>-2.616051e+01</td>\n",
       "      <td>-4.355724e+01</td>\n",
       "      <td>-7.321672e+01</td>\n",
       "      <td>-1.343407e+01</td>\n",
       "      <td>...</td>\n",
       "      <td>-3.483038e+01</td>\n",
       "      <td>-1.093314e+01</td>\n",
       "      <td>-4.480774e+01</td>\n",
       "      <td>-2.836627e+00</td>\n",
       "      <td>-1.029540e+01</td>\n",
       "      <td>-2.604551e+00</td>\n",
       "      <td>-2.256568e+01</td>\n",
       "      <td>-1.543008e+01</td>\n",
       "      <td>0.000000</td>\n",
       "      <td>0.000000</td>\n",
       "    </tr>\n",
       "    <tr>\n",
       "      <th>25%</th>\n",
       "      <td>54201.500000</td>\n",
       "      <td>-9.203734e-01</td>\n",
       "      <td>-5.985499e-01</td>\n",
       "      <td>-8.903648e-01</td>\n",
       "      <td>-8.486401e-01</td>\n",
       "      <td>-6.915971e-01</td>\n",
       "      <td>-7.682956e-01</td>\n",
       "      <td>-5.540759e-01</td>\n",
       "      <td>-2.086297e-01</td>\n",
       "      <td>-6.430976e-01</td>\n",
       "      <td>...</td>\n",
       "      <td>-2.283949e-01</td>\n",
       "      <td>-5.423504e-01</td>\n",
       "      <td>-1.618463e-01</td>\n",
       "      <td>-3.545861e-01</td>\n",
       "      <td>-3.171451e-01</td>\n",
       "      <td>-3.269839e-01</td>\n",
       "      <td>-7.083953e-02</td>\n",
       "      <td>-5.295979e-02</td>\n",
       "      <td>5.600000</td>\n",
       "      <td>0.000000</td>\n",
       "    </tr>\n",
       "    <tr>\n",
       "      <th>50%</th>\n",
       "      <td>84692.000000</td>\n",
       "      <td>1.810880e-02</td>\n",
       "      <td>6.548556e-02</td>\n",
       "      <td>1.798463e-01</td>\n",
       "      <td>-1.984653e-02</td>\n",
       "      <td>-5.433583e-02</td>\n",
       "      <td>-2.741871e-01</td>\n",
       "      <td>4.010308e-02</td>\n",
       "      <td>2.235804e-02</td>\n",
       "      <td>-5.142873e-02</td>\n",
       "      <td>...</td>\n",
       "      <td>-2.945017e-02</td>\n",
       "      <td>6.781943e-03</td>\n",
       "      <td>-1.119293e-02</td>\n",
       "      <td>4.097606e-02</td>\n",
       "      <td>1.659350e-02</td>\n",
       "      <td>-5.213911e-02</td>\n",
       "      <td>1.342146e-03</td>\n",
       "      <td>1.124383e-02</td>\n",
       "      <td>22.000000</td>\n",
       "      <td>0.000000</td>\n",
       "    </tr>\n",
       "    <tr>\n",
       "      <th>75%</th>\n",
       "      <td>139320.500000</td>\n",
       "      <td>1.315642e+00</td>\n",
       "      <td>8.037239e-01</td>\n",
       "      <td>1.027196e+00</td>\n",
       "      <td>7.433413e-01</td>\n",
       "      <td>6.119264e-01</td>\n",
       "      <td>3.985649e-01</td>\n",
       "      <td>5.704361e-01</td>\n",
       "      <td>3.273459e-01</td>\n",
       "      <td>5.971390e-01</td>\n",
       "      <td>...</td>\n",
       "      <td>1.863772e-01</td>\n",
       "      <td>5.285536e-01</td>\n",
       "      <td>1.476421e-01</td>\n",
       "      <td>4.395266e-01</td>\n",
       "      <td>3.507156e-01</td>\n",
       "      <td>2.409522e-01</td>\n",
       "      <td>9.104512e-02</td>\n",
       "      <td>7.827995e-02</td>\n",
       "      <td>77.165000</td>\n",
       "      <td>0.000000</td>\n",
       "    </tr>\n",
       "    <tr>\n",
       "      <th>max</th>\n",
       "      <td>172792.000000</td>\n",
       "      <td>2.454930e+00</td>\n",
       "      <td>2.205773e+01</td>\n",
       "      <td>9.382558e+00</td>\n",
       "      <td>1.687534e+01</td>\n",
       "      <td>3.480167e+01</td>\n",
       "      <td>7.330163e+01</td>\n",
       "      <td>1.205895e+02</td>\n",
       "      <td>2.000721e+01</td>\n",
       "      <td>1.559499e+01</td>\n",
       "      <td>...</td>\n",
       "      <td>2.720284e+01</td>\n",
       "      <td>1.050309e+01</td>\n",
       "      <td>2.252841e+01</td>\n",
       "      <td>4.584549e+00</td>\n",
       "      <td>7.519589e+00</td>\n",
       "      <td>3.517346e+00</td>\n",
       "      <td>3.161220e+01</td>\n",
       "      <td>3.384781e+01</td>\n",
       "      <td>25691.160000</td>\n",
       "      <td>1.000000</td>\n",
       "    </tr>\n",
       "  </tbody>\n",
       "</table>\n",
       "<p>8 rows × 31 columns</p>\n",
       "</div>"
      ],
      "text/plain": [
       "                Time            V1            V2            V3            V4  \\\n",
       "count  284807.000000  2.848070e+05  2.848070e+05  2.848070e+05  2.848070e+05   \n",
       "mean    94813.859575  1.759061e-12 -8.251130e-13 -9.654937e-13  8.321385e-13   \n",
       "std     47488.145955  1.958696e+00  1.651309e+00  1.516255e+00  1.415869e+00   \n",
       "min         0.000000 -5.640751e+01 -7.271573e+01 -4.832559e+01 -5.683171e+00   \n",
       "25%     54201.500000 -9.203734e-01 -5.985499e-01 -8.903648e-01 -8.486401e-01   \n",
       "50%     84692.000000  1.810880e-02  6.548556e-02  1.798463e-01 -1.984653e-02   \n",
       "75%    139320.500000  1.315642e+00  8.037239e-01  1.027196e+00  7.433413e-01   \n",
       "max    172792.000000  2.454930e+00  2.205773e+01  9.382558e+00  1.687534e+01   \n",
       "\n",
       "                 V5            V6            V7            V8            V9  \\\n",
       "count  2.848070e+05  2.848070e+05  2.848070e+05  2.848070e+05  2.848070e+05   \n",
       "mean   1.649999e-13  4.248366e-13 -3.054600e-13  8.777971e-14 -1.179749e-12   \n",
       "std    1.380247e+00  1.332271e+00  1.237094e+00  1.194353e+00  1.098632e+00   \n",
       "min   -1.137433e+02 -2.616051e+01 -4.355724e+01 -7.321672e+01 -1.343407e+01   \n",
       "25%   -6.915971e-01 -7.682956e-01 -5.540759e-01 -2.086297e-01 -6.430976e-01   \n",
       "50%   -5.433583e-02 -2.741871e-01  4.010308e-02  2.235804e-02 -5.142873e-02   \n",
       "75%    6.119264e-01  3.985649e-01  5.704361e-01  3.273459e-01  5.971390e-01   \n",
       "max    3.480167e+01  7.330163e+01  1.205895e+02  2.000721e+01  1.559499e+01   \n",
       "\n",
       "       ...           V21           V22           V23           V24  \\\n",
       "count  ...  2.848070e+05  2.848070e+05  2.848070e+05  2.848070e+05   \n",
       "mean   ... -3.405756e-13 -5.723197e-13 -9.725856e-13  1.464150e-12   \n",
       "std    ...  7.345240e-01  7.257016e-01  6.244603e-01  6.056471e-01   \n",
       "min    ... -3.483038e+01 -1.093314e+01 -4.480774e+01 -2.836627e+00   \n",
       "25%    ... -2.283949e-01 -5.423504e-01 -1.618463e-01 -3.545861e-01   \n",
       "50%    ... -2.945017e-02  6.781943e-03 -1.119293e-02  4.097606e-02   \n",
       "75%    ...  1.863772e-01  5.285536e-01  1.476421e-01  4.395266e-01   \n",
       "max    ...  2.720284e+01  1.050309e+01  2.252841e+01  4.584549e+00   \n",
       "\n",
       "                V25           V26           V27           V28         Amount  \\\n",
       "count  2.848070e+05  2.848070e+05  2.848070e+05  2.848070e+05  284807.000000   \n",
       "mean  -6.987102e-13 -5.617874e-13  3.332082e-12 -3.518874e-12      88.349619   \n",
       "std    5.212781e-01  4.822270e-01  4.036325e-01  3.300833e-01     250.120109   \n",
       "min   -1.029540e+01 -2.604551e+00 -2.256568e+01 -1.543008e+01       0.000000   \n",
       "25%   -3.171451e-01 -3.269839e-01 -7.083953e-02 -5.295979e-02       5.600000   \n",
       "50%    1.659350e-02 -5.213911e-02  1.342146e-03  1.124383e-02      22.000000   \n",
       "75%    3.507156e-01  2.409522e-01  9.104512e-02  7.827995e-02      77.165000   \n",
       "max    7.519589e+00  3.517346e+00  3.161220e+01  3.384781e+01   25691.160000   \n",
       "\n",
       "               Class  \n",
       "count  284807.000000  \n",
       "mean        0.001727  \n",
       "std         0.041527  \n",
       "min         0.000000  \n",
       "25%         0.000000  \n",
       "50%         0.000000  \n",
       "75%         0.000000  \n",
       "max         1.000000  \n",
       "\n",
       "[8 rows x 31 columns]"
      ]
     },
     "execution_count": 14,
     "metadata": {},
     "output_type": "execute_result"
    }
   ],
   "source": [
    "# Lets check the description of the data\n",
    "\n",
    "df.describe()"
   ]
  },
  {
   "cell_type": "markdown",
   "id": "b77d9389",
   "metadata": {},
   "source": [
    "#### Since the features V1 - V28 data is PCA transformed, we dont have to treat any outliers separeltly from these features. Lets work on non transformed Target Variable, Amount column"
   ]
  },
  {
   "cell_type": "markdown",
   "id": "3b478302",
   "metadata": {},
   "source": [
    "# Understand Target Variable"
   ]
  },
  {
   "cell_type": "code",
   "execution_count": 15,
   "id": "27b6f631",
   "metadata": {},
   "outputs": [
    {
     "data": {
      "text/plain": [
       "Class\n",
       "0    284315\n",
       "1       492\n",
       "Name: count, dtype: int64"
      ]
     },
     "execution_count": 15,
     "metadata": {},
     "output_type": "execute_result"
    }
   ],
   "source": [
    "# lets check Target column distribution - class\n",
    "\n",
    "target_classes=df['Class'].value_counts()\n",
    "target_classes"
   ]
  },
  {
   "cell_type": "code",
   "execution_count": 16,
   "id": "4b7ffaa9",
   "metadata": {},
   "outputs": [
    {
     "name": "stdout",
     "output_type": "stream",
     "text": [
      "Total percentage of Non Fraud Transactions : 99.82725143693798%\n",
      "Total Percentage of Fraud Transactions : 0.1727485630620034%\n"
     ]
    }
   ],
   "source": [
    "# lets check the percentage of each class data in the Target column\n",
    "\n",
    "non_fraud_trans = (target_classes[0]/df['Class'].count()*100)\n",
    "print(f\"Total percentage of Non Fraud Transactions : {non_fraud_trans}%\")\n",
    "\n",
    "fraud_trans = (target_classes[1]/df['Class'].count()*100)\n",
    "print(f\"Total Percentage of Fraud Transactions : {fraud_trans}%\")"
   ]
  },
  {
   "cell_type": "code",
   "execution_count": 17,
   "id": "c4694418",
   "metadata": {},
   "outputs": [
    {
     "data": {
      "image/png": "[encoded data removed]",
      "text/plain": [
       "<Figure size 400x400 with 1 Axes>"
      ]
     },
     "metadata": {},
     "output_type": "display_data"
    },
    {
     "data": {
      "text/plain": [
       "<Figure size 640x480 with 0 Axes>"
      ]
     },
     "metadata": {},
     "output_type": "display_data"
    }
   ],
   "source": [
    "# Lets see the distribution of Class Labels in Target column\n",
    "\n",
    "image_path = 'visuals\\Class_Dist.png'\n",
    "\n",
    "\n",
    "plt.figure(figsize=(4,4))\n",
    "plt.pie([non_fraud_trans,fraud_trans], labels=['Non Fraud', 'Fraud'])\n",
    "plt.title(\"Percentage Distribution of Transactions by Class\")\n",
    "plt.show()\n",
    "plt.savefig(image_path)"
   ]
  },
  {
   "cell_type": "code",
   "execution_count": 18,
   "id": "69f0ad7a",
   "metadata": {},
   "outputs": [
    {
     "data": {
      "text/plain": [
       "32767"
      ]
     },
     "execution_count": 18,
     "metadata": {},
     "output_type": "execute_result"
    }
   ],
   "source": [
    "df['Amount'].nunique()"
   ]
  },
  {
   "cell_type": "code",
   "execution_count": 19,
   "id": "af83eba1",
   "metadata": {},
   "outputs": [
    {
     "name": "stdout",
     "output_type": "stream",
     "text": [
      "Total Value of Transactions : 25162590.009999998\n",
      "Total Value of Fraud Transaction : 60127.97\n",
      "Total Value of Good/Non Fraud Transaction : 25102462.04\n"
     ]
    }
   ],
   "source": [
    "# Lets check what is the Total Sum of Transaction in the data and fraud share.\n",
    "\n",
    "total_trans_value = df['Amount'].sum()\n",
    "print(f\"Total Value of Transactions : {total_trans_value}\")\n",
    "\n",
    "fraud_trans_value = df[df['Class']==1]['Amount'].sum()\n",
    "print(f\"Total Value of Fraud Transaction : {fraud_trans_value}\")\n",
    "\n",
    "non_fraud_trans_value = total_trans_value - fraud_trans_value\n",
    "print(f\"Total Value of Good/Non Fraud Transaction : {non_fraud_trans_value}\")"
   ]
  },
  {
   "cell_type": "code",
   "execution_count": 20,
   "id": "16781345",
   "metadata": {},
   "outputs": [
    {
     "data": {
      "image/png": "[encoded data removed]",
      "text/plain": [
       "<Figure size 600x400 with 1 Axes>"
      ]
     },
     "metadata": {},
     "output_type": "display_data"
    },
    {
     "data": {
      "text/plain": [
       "<Figure size 640x480 with 0 Axes>"
      ]
     },
     "metadata": {},
     "output_type": "display_data"
    }
   ],
   "source": [
    "# Lets see a Bar chart to understand the class feature vs Amount.\n",
    "\n",
    "import seaborn as sns\n",
    "\n",
    "image_path = 'visuals\\class_Amount.png'\n",
    "\n",
    "values = [non_fraud_trans_value, fraud_trans_value]\n",
    "labels = ['Non Fraud','Fraud']\n",
    "\n",
    "plt.figure(figsize=(6,4))\n",
    "plt.bar(labels,values)\n",
    "plt.title('Number of Class in Target_classes')\n",
    "plt.xlabel('class')\n",
    "plt.ylabel('Amount')\n",
    "plt.show()\n",
    "plt.savefig(image_path)"
   ]
  },
  {
   "cell_type": "markdown",
   "id": "65861505",
   "metadata": {},
   "source": [
    "# Lets check the distribution of Fraud & Non Fraud Transaction over Time"
   ]
  },
  {
   "cell_type": "code",
   "execution_count": 21,
   "id": "6a478f2b",
   "metadata": {},
   "outputs": [
    {
     "data": {
      "image/png": "[encoded data removed]",
      "text/plain": [
       "<Figure size 800x600 with 1 Axes>"
      ]
     },
     "metadata": {},
     "output_type": "display_data"
    },
    {
     "data": {
      "text/plain": [
       "<Figure size 640x480 with 0 Axes>"
      ]
     },
     "metadata": {},
     "output_type": "display_data"
    }
   ],
   "source": [
    "# Sorting the dataframe by time \n",
    "df = df.sort_values(by='Time')\n",
    "\n",
    "# Create cumulative sum columns for fraud and non-fraud transactions\n",
    "df['Fraud_CumSum'] = df['Class'].cumsum()\n",
    "df['NonFraud_CumSum'] = (1 - df['Class']).cumsum()\n",
    "\n",
    "# Plotting\n",
    "\n",
    "image_path = 'visuals\\Class_Time_dist.png'\n",
    "plt.figure(figsize=(8, 6))\n",
    "\n",
    "plt.plot(df['Time'], df['NonFraud_CumSum'], label='Non-Fraud Transactions', color='blue')\n",
    "plt.plot(df['Time'], df['Fraud_CumSum'], label='Fraud Transactions', color='red')\n",
    "\n",
    "plt.title('Cumulative Fraud and Non-Fraud Transactions Over Time')\n",
    "plt.xlabel('Time (in seconds from the first transaction)')\n",
    "plt.ylabel('Cumulative Number of Transactions')\n",
    "plt.legend()\n",
    "plt.show()\n",
    "plt.savefig(image_path)"
   ]
  },
  {
   "cell_type": "markdown",
   "id": "97c2ba47",
   "metadata": {},
   "source": [
    "### we see most of FRAUD transactions are around low transaction value. And their is no pattern with time.  So we can "
   ]
  },
  {
   "cell_type": "markdown",
   "id": "33df5b95",
   "metadata": {},
   "source": [
    "#### Lets check the correlation among the independent & target features"
   ]
  },
  {
   "cell_type": "code",
   "execution_count": 22,
   "id": "742ae0a7",
   "metadata": {},
   "outputs": [
    {
     "data": {
      "image/png": "[encoded data removed]",
      "text/plain": [
       "<Figure size 1200x1000 with 2 Axes>"
      ]
     },
     "metadata": {},
     "output_type": "display_data"
    },
    {
     "data": {
      "text/plain": [
       "<Figure size 640x480 with 0 Axes>"
      ]
     },
     "metadata": {},
     "output_type": "display_data"
    }
   ],
   "source": [
    "# Calculate correlation matrix\n",
    "corr_matrix = df.corr()\n",
    "\n",
    "image_path = 'visuals\\corr_matrix.png'\n",
    "\n",
    "# Plot heatmap of correlation matrix\n",
    "plt.figure(figsize=(12, 10))\n",
    "sns.heatmap(corr_matrix, annot=False, cmap='coolwarm', vmin=-1, vmax=1)\n",
    "plt.title('Correlation Matrix')\n",
    "plt.show()\n",
    "plt.savefig(image_path)"
   ]
  },
  {
   "cell_type": "code",
   "execution_count": 23,
   "id": "a71c5c87",
   "metadata": {},
   "outputs": [
    {
     "data": {
      "text/plain": [
       "Index(['Time', 'V1', 'V2', 'V3', 'V4', 'V5', 'V6', 'V7', 'V8', 'V9', 'V10',\n",
       "       'V11', 'V12', 'V13', 'V14', 'V15', 'V16', 'V17', 'V18', 'V19', 'V20',\n",
       "       'V21', 'V22', 'V23', 'V24', 'V25', 'V26', 'V27', 'V28', 'Amount',\n",
       "       'Class', 'Fraud_CumSum', 'NonFraud_CumSum'],\n",
       "      dtype='object')"
      ]
     },
     "execution_count": 23,
     "metadata": {},
     "output_type": "execute_result"
    }
   ],
   "source": [
    "df.columns"
   ]
  },
  {
   "cell_type": "markdown",
   "id": "608828dc",
   "metadata": {},
   "source": [
    "### 'Fraud_CumSum' and 'NonFraud_Cumsum' columns are used for EDA to understand time and amount. to be dropped to avoid complex issues in deployment or test data prep"
   ]
  },
  {
   "cell_type": "code",
   "execution_count": 24,
   "id": "5b6cb1c2",
   "metadata": {},
   "outputs": [],
   "source": [
    "# 'Fraud_CumSum' and 'NonFraud_Cumsum' columns are used for EDA to understand time and amount. to be dropped to avoid complex issues in deployment or test data prep\n",
    "\n",
    "columns_to_drop_presplit = ['Fraud_CumSum','NonFraud_CumSum']\n",
    "df = df.drop(columns_to_drop_presplit, axis=1)"
   ]
  },
  {
   "cell_type": "markdown",
   "id": "270d4583",
   "metadata": {},
   "source": [
    "# SPLIT DATA - TRAIN and Test Data"
   ]
  },
  {
   "cell_type": "code",
   "execution_count": 25,
   "id": "ababd347",
   "metadata": {},
   "outputs": [],
   "source": [
    "from sklearn.model_selection import train_test_split\n",
    "\n",
    "# Split data into train and test sets\n",
    "X_train, X_test, y_train, y_test = train_test_split(df.drop('Class', axis=1), df['Class'], test_size=0.2, random_state=42)\n"
   ]
  },
  {
   "cell_type": "code",
   "execution_count": 26,
   "id": "55ce4a89",
   "metadata": {},
   "outputs": [
    {
     "data": {
      "text/plain": [
       "(Index(['Time', 'V1', 'V2', 'V3', 'V4', 'V5', 'V6', 'V7', 'V8', 'V9', 'V10',\n",
       "        'V11', 'V12', 'V13', 'V14', 'V15', 'V16', 'V17', 'V18', 'V19', 'V20',\n",
       "        'V21', 'V22', 'V23', 'V24', 'V25', 'V26', 'V27', 'V28', 'Amount'],\n",
       "       dtype='object'),\n",
       " Index(['Time', 'V1', 'V2', 'V3', 'V4', 'V5', 'V6', 'V7', 'V8', 'V9', 'V10',\n",
       "        'V11', 'V12', 'V13', 'V14', 'V15', 'V16', 'V17', 'V18', 'V19', 'V20',\n",
       "        'V21', 'V22', 'V23', 'V24', 'V25', 'V26', 'V27', 'V28', 'Amount'],\n",
       "       dtype='object'))"
      ]
     },
     "execution_count": 26,
     "metadata": {},
     "output_type": "execute_result"
    }
   ],
   "source": [
    "X_train.columns, X_test.columns"
   ]
  },
  {
   "cell_type": "markdown",
   "id": "981e7963",
   "metadata": {},
   "source": [
    "# ENCODING\n",
    "\n",
    "We have done a detailed EDA & pre-processed the data. It's clear that all features except for Time, Amount and Class are already PCA Transformed. Lets encode the left out 3 columns to make them uniform. \n",
    "\n",
    "1. Lets encode the Time column with OrinalEncoder since the data in the column has some order.\n",
    "2. Amountcolumn is a continious data lets transform it after splitting to avoid data leakage to model. \n",
    "3. Class column has binary values, hence no need to encode or transform "
   ]
  },
  {
   "cell_type": "code",
   "execution_count": 27,
   "id": "a62df1e4",
   "metadata": {},
   "outputs": [],
   "source": [
    "from sklearn.preprocessing import OrdinalEncoder\n",
    "import joblib\n",
    "\n",
    "# Reshape the Time data for encoding\n",
    "time_encoder = OrdinalEncoder()\n",
    "time_encoded = time_encoder.fit_transform(X_train[['Time']])\n",
    "X_train['Time_Encoded'] = time_encoded\n",
    "X_train.drop('Time', axis=1, inplace=True) # drop duplicate column\n",
    "\n",
    "# Save the encoder\n",
    "# joblib.dump(time_encoder, 'models/time_encoder.joblib')\n"
   ]
  },
  {
   "cell_type": "markdown",
   "id": "ab5eb2d9",
   "metadata": {},
   "source": [
    "### Time column is encoded and new column created, so duplicate columns dropped."
   ]
  },
  {
   "cell_type": "code",
   "execution_count": 28,
   "id": "6e959399",
   "metadata": {},
   "outputs": [
    {
     "data": {
      "text/plain": [
       "Index(['V1', 'V2', 'V3', 'V4', 'V5', 'V6', 'V7', 'V8', 'V9', 'V10', 'V11',\n",
       "       'V12', 'V13', 'V14', 'V15', 'V16', 'V17', 'V18', 'V19', 'V20', 'V21',\n",
       "       'V22', 'V23', 'V24', 'V25', 'V26', 'V27', 'V28', 'Amount',\n",
       "       'Time_Encoded'],\n",
       "      dtype='object')"
      ]
     },
     "execution_count": 28,
     "metadata": {},
     "output_type": "execute_result"
    }
   ],
   "source": [
    "X_train.columns"
   ]
  },
  {
   "cell_type": "code",
   "execution_count": 29,
   "id": "56a4e91b",
   "metadata": {},
   "outputs": [
    {
     "data": {
      "text/plain": [
       "Index(['Time', 'V1', 'V2', 'V3', 'V4', 'V5', 'V6', 'V7', 'V8', 'V9', 'V10',\n",
       "       'V11', 'V12', 'V13', 'V14', 'V15', 'V16', 'V17', 'V18', 'V19', 'V20',\n",
       "       'V21', 'V22', 'V23', 'V24', 'V25', 'V26', 'V27', 'V28', 'Amount',\n",
       "       'Class'],\n",
       "      dtype='object')"
      ]
     },
     "execution_count": 29,
     "metadata": {},
     "output_type": "execute_result"
    }
   ],
   "source": [
    "df.columns"
   ]
  },
  {
   "cell_type": "markdown",
   "id": "030dcaad",
   "metadata": {},
   "source": [
    "# Scale the Data"
   ]
  },
  {
   "cell_type": "code",
   "execution_count": 30,
   "id": "7aecc358",
   "metadata": {},
   "outputs": [
    {
     "name": "stdout",
     "output_type": "stream",
     "text": [
      "C:\\Users\\hp\\Documents\\find-default\n"
     ]
    }
   ],
   "source": [
    "print(os.getcwd())"
   ]
  },
  {
   "cell_type": "code",
   "execution_count": 31,
   "id": "e37b37f9",
   "metadata": {},
   "outputs": [
    {
     "data": {
      "text/plain": [
       "['models\\\\amount_scaler.joblib']"
      ]
     },
     "execution_count": 31,
     "metadata": {},
     "output_type": "execute_result"
    }
   ],
   "source": [
    "# Fitting and saving the scaler on Amount column as rest are taken care in original form by PCA\n",
    "\n",
    "from sklearn.preprocessing import StandardScaler\n",
    "import joblib\n",
    "\n",
    "scaler = StandardScaler()\n",
    "X_train['Amount_Scaled'] = scaler.fit_transform(X_train[['Amount']])\n",
    "\n",
    "scaler_path = os.path.join('models', 'amount_scaler.joblib')\n",
    "joblib.dump(scaler, scaler_path)"
   ]
  },
  {
   "cell_type": "code",
   "execution_count": 32,
   "id": "d88fa575",
   "metadata": {},
   "outputs": [
    {
     "data": {
      "text/plain": [
       "((227845, 31), (56962,))"
      ]
     },
     "execution_count": 32,
     "metadata": {},
     "output_type": "execute_result"
    }
   ],
   "source": [
    "X_train.shape, y_test.shape"
   ]
  },
  {
   "cell_type": "markdown",
   "id": "c60ce5a5",
   "metadata": {},
   "source": [
    "# Check Distribution of features & decide transformation\n",
    "\n",
    "1. Time is categorical and its already encoded using Oridnal Encoding. we dont need to transform as most models uses it comfortably.\n",
    "2. Features V1 - V28 are already transformed using PCA. Its understand that values are mean centric and has a normal or scaled variance, we dont have to transform these features too.\n",
    "3. Target variable Class column is having binary values and it need not be transformed or checked for distribution.\n",
    "4. Amount column is scaled now. Lets check its distribution using a Histogram and based on skewness lets transform if reqd."
   ]
  },
  {
   "cell_type": "code",
   "execution_count": 33,
   "id": "d98935cb",
   "metadata": {},
   "outputs": [
    {
     "data": {
      "image/png": "[encoded data removed]",
      "text/plain": [
       "<Figure size 800x400 with 1 Axes>"
      ]
     },
     "metadata": {},
     "output_type": "display_data"
    },
    {
     "data": {
      "text/plain": [
       "<Figure size 640x480 with 0 Axes>"
      ]
     },
     "metadata": {},
     "output_type": "display_data"
    }
   ],
   "source": [
    "# Lets Plot a histogram and density plot for 'Amount' column\n",
    "\n",
    "image_path = 'visuals\\Amount_hist.png'\n",
    "\n",
    "plt.figure(figsize=(8,4))\n",
    "sns.histplot(X_train['Amount'], kde=True, bins=500)\n",
    "plt.title('Distribution of Amount')\n",
    "plt.xlabel('Amount')\n",
    "plt.ylabel('Frequency')\n",
    "plt.show()\n",
    "plt.savefig(image_path)"
   ]
  },
  {
   "cell_type": "code",
   "execution_count": 34,
   "id": "f6280e88",
   "metadata": {},
   "outputs": [
    {
     "data": {
      "image/png": "[encoded data removed]",
      "text/plain": [
       "<Figure size 800x400 with 1 Axes>"
      ]
     },
     "metadata": {},
     "output_type": "display_data"
    }
   ],
   "source": [
    "image_path = 'visuals\\Amount_boxplot.png'\n",
    "\n",
    "plt.figure(figsize=(8,4))\n",
    "sns.boxplot(x=X_train['Amount'])\n",
    "plt.title('Box Plot of Amount')\n",
    "plt.xlabel('Amount')\n",
    "plt.savefig(image_path)\n",
    "plt.show()"
   ]
  },
  {
   "cell_type": "code",
   "execution_count": 35,
   "id": "99ec48c7",
   "metadata": {},
   "outputs": [
    {
     "data": {
      "image/png": "[encoded data removed]",
      "text/plain": [
       "<Figure size 800x400 with 1 Axes>"
      ]
     },
     "metadata": {},
     "output_type": "display_data"
    }
   ],
   "source": [
    "import scipy.stats as stats\n",
    "# Q-Q plot\n",
    "\n",
    "image_path = 'visuals\\Amount_QQplot.png'\n",
    "\n",
    "plt.figure(figsize=(8,4))\n",
    "stats.probplot(X_train['Amount'], dist=\"norm\", plot=plt)\n",
    "plt.title('Q-Q Plot of Amount')\n",
    "plt.savefig(image_path)\n",
    "plt.show()"
   ]
  },
  {
   "cell_type": "code",
   "execution_count": 36,
   "id": "b65a8af0",
   "metadata": {},
   "outputs": [
    {
     "name": "stdout",
     "output_type": "stream",
     "text": [
      "Skewness of the Amount column: 18.2620\n"
     ]
    }
   ],
   "source": [
    "from scipy.stats import skew\n",
    "\n",
    "# Calculate skewness for the 'Amount' column in the training data\n",
    "amount_skewness = skew(X_train['Amount'])\n",
    "print(f'Skewness of the Amount column: {amount_skewness:.4f}')"
   ]
  },
  {
   "cell_type": "code",
   "execution_count": 37,
   "id": "21815a31",
   "metadata": {},
   "outputs": [
    {
     "name": "stdout",
     "output_type": "stream",
     "text": [
      "Amount_Scaled    18.261982\n",
      "Amount           18.261982\n",
      "V28              11.989864\n",
      "V7                3.672991\n",
      "V21               3.342968\n",
      "V6                1.942714\n",
      "V10               1.177451\n",
      "V4                0.683089\n",
      "V26               0.581594\n",
      "V9                0.535378\n",
      "V11               0.358822\n",
      "V19               0.103452\n",
      "V13               0.064665\n",
      "V27               0.034507\n",
      "Time_Encoded     -0.008921\n",
      "V22              -0.220980\n",
      "V18              -0.264475\n",
      "V15              -0.309839\n",
      "V25              -0.416077\n",
      "V24              -0.552639\n",
      "V16              -1.104824\n",
      "V14              -1.988960\n",
      "V20              -2.016036\n",
      "V3               -2.244973\n",
      "V12              -2.282060\n",
      "V5               -2.839581\n",
      "V1               -3.370406\n",
      "V17              -3.920443\n",
      "V2               -5.020655\n",
      "V23              -5.960689\n",
      "V8               -8.638000\n",
      "dtype: float64\n"
     ]
    }
   ],
   "source": [
    "from scipy.stats import skew\n",
    "\n",
    "# Calculate skewness for all features in the training data\n",
    "skewness_values = X_train.apply(skew).sort_values(ascending=False)\n",
    "\n",
    "# Display the skewness of each feature\n",
    "print(skewness_values)"
   ]
  },
  {
   "cell_type": "markdown",
   "id": "f379ef4d",
   "metadata": {},
   "source": [
    "### It's clearly visible with Histogram that Amount column is Right or positive Skewed. Some of the observations\n",
    "\n",
    "1. Since the Amount column in the Credit card is a value of a transaction. It cannot be negatively skewed. \n",
    "2. Amount Column - We have checked Histogram, since its too clear, plotted a Box Plot, it clearly shows Positively skewed data.\n",
    "3. As its aware that V1-V28 are PCA transformed and skewness check of features show Amount column has high skewness of 18% lets transoform the same using BOX COX TRANSFORATION.\n",
    "4. Its also observed PCA transformed data V28, V7 and V21 is positively skewed but since its PCA transformed i'm NOT Transforming it as it could distort the principal component's nature. \n",
    "\n"
   ]
  },
  {
   "cell_type": "markdown",
   "id": "64850dd3",
   "metadata": {},
   "source": [
    "# Transformation - Box_Cox Transformation\n",
    "#### Amount column feature is positively skewed lets transform it. (This data has no negative value so it's good to go)"
   ]
  },
  {
   "cell_type": "code",
   "execution_count": 38,
   "id": "2b9cea12",
   "metadata": {},
   "outputs": [
    {
     "name": "stdout",
     "output_type": "stream",
     "text": [
      "Lambda value used for Box-Cox transformation: -0.04497254555023551\n"
     ]
    }
   ],
   "source": [
    "from scipy import stats\n",
    "\n",
    "X_train['Amount_BoxCox'], lambda_value = stats.boxcox(X_train['Amount'] + 1) # adding 1 as some values have zero\n",
    "print(f\"Lambda value used for Box-Cox transformation: {lambda_value}\")"
   ]
  },
  {
   "cell_type": "code",
   "execution_count": 39,
   "id": "6cf93ede",
   "metadata": {},
   "outputs": [
    {
     "name": "stdout",
     "output_type": "stream",
     "text": [
      "        Amount  Amount_BoxCox\n",
      "223361    9.99       2.272310\n",
      "165061   45.90       3.533462\n",
      "238186   11.99       2.421855\n",
      "150562  117.44       4.296631\n",
      "138455    4.49       1.639352\n"
     ]
    }
   ],
   "source": [
    "print(X_train[['Amount', 'Amount_BoxCox']].head())"
   ]
  },
  {
   "cell_type": "code",
   "execution_count": 40,
   "id": "7ad085f4",
   "metadata": {},
   "outputs": [
    {
     "data": {
      "image/png": "[encoded data removed]",
      "text/plain": [
       "<Figure size 1400x1000 with 4 Axes>"
      ]
     },
     "metadata": {},
     "output_type": "display_data"
    }
   ],
   "source": [
    "# Lets check the distribution of transformed Amount column & Amount_BoxCox\n",
    "\n",
    "# Histogram and Q-Q plot for the original 'Amount' column\n",
    "\n",
    "image_path1 = 'visuals\\Amount_b4_box_cox_hist.png'\n",
    "image_path2 = 'visuals\\Amount_b4_box_cox_QQPlot.png'\n",
    "image_path3 = 'visuals\\Amount_aft_box_cox_hist.png'\n",
    "image_path4 = 'visuals\\Amount_aft_box_cox_QQplot.png'\n",
    "\n",
    "fig, axes = plt.subplots(2, 2, figsize=(14, 10))\n",
    "\n",
    "# Original Amount\n",
    "sns.histplot(X_train['Amount'], kde=True, ax=axes[0, 0])\n",
    "axes[0, 0].set_title('Original Amount Distribution')\n",
    "plt.savefig(image_path1)\n",
    "\n",
    "# Q-Q plot for original Amount\n",
    "stats.probplot(X_train['Amount'], dist=\"norm\", plot=axes[0, 1])\n",
    "axes[0, 1].set_title('Q-Q Plot of Original Amount')\n",
    "plt.savefig(image_path2)\n",
    "\n",
    "# Box-Cox Transformed Amount\n",
    "sns.histplot(X_train['Amount_BoxCox'], kde=True, ax=axes[1, 0])\n",
    "axes[1, 0].set_title('Box-Cox Transformed Amount Distribution')\n",
    "plt.savefig(image_path3)\n",
    "\n",
    "# Q-Q plot for Box-Cox Transformed Amount\n",
    "stats.probplot(X_train['Amount_BoxCox'], dist=\"norm\", plot=axes[1, 1])\n",
    "axes[1, 1].set_title('Q-Q Plot of Box-Cox Transformed Amount')\n",
    "plt.savefig(image_path4)\n",
    "\n",
    "plt.tight_layout()\n",
    "plt.show()\n"
   ]
  },
  {
   "cell_type": "markdown",
   "id": "b78f6de6",
   "metadata": {},
   "source": [
    "Above histogram plot clearly show that the transformation is effective and its looks more symmetric. Let's understand the columns in the split data and proceed for training models."
   ]
  },
  {
   "cell_type": "code",
   "execution_count": 41,
   "id": "4f015174",
   "metadata": {},
   "outputs": [
    {
     "data": {
      "text/plain": [
       "Index(['V1', 'V2', 'V3', 'V4', 'V5', 'V6', 'V7', 'V8', 'V9', 'V10', 'V11',\n",
       "       'V12', 'V13', 'V14', 'V15', 'V16', 'V17', 'V18', 'V19', 'V20', 'V21',\n",
       "       'V22', 'V23', 'V24', 'V25', 'V26', 'V27', 'V28', 'Amount',\n",
       "       'Time_Encoded', 'Amount_Scaled', 'Amount_BoxCox'],\n",
       "      dtype='object')"
      ]
     },
     "execution_count": 41,
     "metadata": {},
     "output_type": "execute_result"
    }
   ],
   "source": [
    "X_train.columns"
   ]
  },
  {
   "cell_type": "code",
   "execution_count": 42,
   "id": "b2d6914e",
   "metadata": {},
   "outputs": [
    {
     "data": {
      "text/plain": [
       "Index(['Time', 'V1', 'V2', 'V3', 'V4', 'V5', 'V6', 'V7', 'V8', 'V9', 'V10',\n",
       "       'V11', 'V12', 'V13', 'V14', 'V15', 'V16', 'V17', 'V18', 'V19', 'V20',\n",
       "       'V21', 'V22', 'V23', 'V24', 'V25', 'V26', 'V27', 'V28', 'Amount'],\n",
       "      dtype='object')"
      ]
     },
     "execution_count": 42,
     "metadata": {},
     "output_type": "execute_result"
    }
   ],
   "source": [
    "X_test.columns"
   ]
  },
  {
   "cell_type": "code",
   "execution_count": 43,
   "id": "9591696a",
   "metadata": {},
   "outputs": [
    {
     "data": {
      "text/plain": [
       "Index(['Time', 'V1', 'V2', 'V3', 'V4', 'V5', 'V6', 'V7', 'V8', 'V9', 'V10',\n",
       "       'V11', 'V12', 'V13', 'V14', 'V15', 'V16', 'V17', 'V18', 'V19', 'V20',\n",
       "       'V21', 'V22', 'V23', 'V24', 'V25', 'V26', 'V27', 'V28', 'Amount',\n",
       "       'Class'],\n",
       "      dtype='object')"
      ]
     },
     "execution_count": 43,
     "metadata": {},
     "output_type": "execute_result"
    }
   ],
   "source": [
    "df.columns"
   ]
  },
  {
   "cell_type": "markdown",
   "id": "4cd826ee",
   "metadata": {},
   "source": [
    "## Observation :\n",
    "\n",
    "1. X_train include Amount, Amount_Scaled, Amount_BoxCox. Lets retain Amount_Box and drop other Amount & Amount_Scaled\n",
    "\n",
    "Since the V1-V28 is PCA transformed and retaining Amount_BoxCox is wise to have consistency across all features. Also to avoid duplication we should drop Amount and Amount_Scaled"
   ]
  },
  {
   "cell_type": "markdown",
   "id": "f26757da",
   "metadata": {},
   "source": [
    "### Since Its seen that Amount_Scaled is not part of X_test. We need to scale the X_test and transform it before proceeding to train models."
   ]
  },
  {
   "cell_type": "code",
   "execution_count": 44,
   "id": "c2969f63",
   "metadata": {},
   "outputs": [],
   "source": [
    "# Lets drop the Original Amount column from DF and X_train, X_test and replace with Amount_BoxCox.\n",
    "\n",
    "# drop Amount Column from df\n",
    "# df = df.drop(columns=['Amount']))\n",
    "\n",
    "# Drop Amount column and Create new column Amount_BoxCox based on row indices of X_train\n",
    "X_train = X_train.drop(columns=['Amount','Amount_Scaled'])\n",
    "# X_train['Amount_BoxCox'] = df.loc[X_train.index, 'Amount_BoxCox']"
   ]
  },
  {
   "cell_type": "code",
   "execution_count": 45,
   "id": "5d83bc10",
   "metadata": {},
   "outputs": [
    {
     "data": {
      "text/plain": [
       "Index(['V1', 'V2', 'V3', 'V4', 'V5', 'V6', 'V7', 'V8', 'V9', 'V10', 'V11',\n",
       "       'V12', 'V13', 'V14', 'V15', 'V16', 'V17', 'V18', 'V19', 'V20', 'V21',\n",
       "       'V22', 'V23', 'V24', 'V25', 'V26', 'V27', 'V28', 'Time_Encoded',\n",
       "       'Amount_BoxCox'],\n",
       "      dtype='object')"
      ]
     },
     "execution_count": 45,
     "metadata": {},
     "output_type": "execute_result"
    }
   ],
   "source": [
    "X_train.columns"
   ]
  },
  {
   "cell_type": "code",
   "execution_count": 46,
   "id": "49e639a4",
   "metadata": {},
   "outputs": [
    {
     "data": {
      "text/plain": [
       "Index(['Time', 'V1', 'V2', 'V3', 'V4', 'V5', 'V6', 'V7', 'V8', 'V9', 'V10',\n",
       "       'V11', 'V12', 'V13', 'V14', 'V15', 'V16', 'V17', 'V18', 'V19', 'V20',\n",
       "       'V21', 'V22', 'V23', 'V24', 'V25', 'V26', 'V27', 'V28', 'Amount'],\n",
       "      dtype='object')"
      ]
     },
     "execution_count": 46,
     "metadata": {},
     "output_type": "execute_result"
    }
   ],
   "source": [
    "X_test.columns"
   ]
  },
  {
   "cell_type": "markdown",
   "id": "ef77b510",
   "metadata": {},
   "source": [
    "# Test Data - Scaling and Transforming "
   ]
  },
  {
   "cell_type": "markdown",
   "id": "eec060c7",
   "metadata": {},
   "source": [
    "### Setup Function to preprocess Test Data or New Data"
   ]
  },
  {
   "cell_type": "code",
   "execution_count": 47,
   "id": "0f35cac1",
   "metadata": {},
   "outputs": [],
   "source": [
    "import pandas as pd\n",
    "import joblib\n",
    "import numpy as np\n",
    "from scipy import stats\n",
    "from sklearn.preprocessing import OrdinalEncoder\n",
    "\n",
    "def preprocess_data(data, is_dataframe=False):\n",
    "    if not is_dataframe:\n",
    "        # Load the data from CSV\n",
    "        data_frame = pd.read_csv(data)\n",
    "    else:\n",
    "        # Assume data is already a DataFrame\n",
    "        data_frame = data.copy()\n",
    "    \n",
    "    # Cast 'Time' to integer\n",
    "    data_frame['Time'] = data_frame['Time'].astype(int)\n",
    "    \n",
    "    # Reshape and encode the 'Time' feature\n",
    "    time_encoded = OrdinalEncoder().fit_transform(data_frame[['Time']])\n",
    "    data_frame['Time_Encoded'] = time_encoded\n",
    "    \n",
    "    # Drop the original 'Time' column\n",
    "    data_frame = data_frame.drop(columns=['Time'])\n",
    "    \n",
    "    # Load the scaler\n",
    "    scaler = joblib.load('models/amount_scaler.joblib')\n",
    "    \n",
    "    # Scale the 'Amount' column and apply Box-Cox transformation\n",
    "    data_frame['Amount_Scaled'] = scaler.transform(data_frame[['Amount']])\n",
    "    \n",
    "    # Apply Box-Cox transformation to the 'Amount' column with the given lambda value\n",
    "    boxcox_lambda = -0.04497254555023551\n",
    "    data_frame['Amount_BoxCox'] = stats.boxcox(data_frame['Amount'] + 1, lmbda=boxcox_lambda)\n",
    "    \n",
    "    # Drop the 'Amount' and 'Amount_Scaled' columns\n",
    "    data_frame = data_frame.drop(columns=['Amount', 'Amount_Scaled'])\n",
    "    \n",
    "    return data_frame"
   ]
  },
  {
   "cell_type": "markdown",
   "id": "da1a665c",
   "metadata": {},
   "source": [
    "## Input X_test data into the Pipeline Function to prepare the Data ready for Testing"
   ]
  },
  {
   "cell_type": "code",
   "execution_count": 48,
   "id": "d8cf8ca2",
   "metadata": {},
   "outputs": [],
   "source": [
    "X_test = preprocess_data(X_test, is_dataframe=True)"
   ]
  },
  {
   "cell_type": "code",
   "execution_count": 49,
   "id": "162d2f47",
   "metadata": {},
   "outputs": [
    {
     "data": {
      "text/plain": [
       "Index(['V1', 'V2', 'V3', 'V4', 'V5', 'V6', 'V7', 'V8', 'V9', 'V10', 'V11',\n",
       "       'V12', 'V13', 'V14', 'V15', 'V16', 'V17', 'V18', 'V19', 'V20', 'V21',\n",
       "       'V22', 'V23', 'V24', 'V25', 'V26', 'V27', 'V28', 'Time_Encoded',\n",
       "       'Amount_BoxCox'],\n",
       "      dtype='object')"
      ]
     },
     "execution_count": 49,
     "metadata": {},
     "output_type": "execute_result"
    }
   ],
   "source": [
    "X_train.columns"
   ]
  },
  {
   "cell_type": "code",
   "execution_count": 50,
   "id": "11999fac",
   "metadata": {},
   "outputs": [
    {
     "data": {
      "text/plain": [
       "Index(['V1', 'V2', 'V3', 'V4', 'V5', 'V6', 'V7', 'V8', 'V9', 'V10', 'V11',\n",
       "       'V12', 'V13', 'V14', 'V15', 'V16', 'V17', 'V18', 'V19', 'V20', 'V21',\n",
       "       'V22', 'V23', 'V24', 'V25', 'V26', 'V27', 'V28', 'Time_Encoded',\n",
       "       'Amount_BoxCox'],\n",
       "      dtype='object')"
      ]
     },
     "execution_count": 50,
     "metadata": {},
     "output_type": "execute_result"
    }
   ],
   "source": [
    "X_test.columns"
   ]
  },
  {
   "cell_type": "markdown",
   "id": "ffb1241c",
   "metadata": {},
   "source": [
    "### Now the data is more consistent. Now lets prepare undersampling object and oversampling object."
   ]
  },
  {
   "cell_type": "markdown",
   "id": "87948577",
   "metadata": {},
   "source": [
    "# Undersampling Data"
   ]
  },
  {
   "cell_type": "code",
   "execution_count": 51,
   "id": "462d5670",
   "metadata": {},
   "outputs": [
    {
     "name": "stdout",
     "output_type": "stream",
     "text": [
      "Original training data shape: (227845, 30), (227845,)\n",
      "Resampled training data shape: (806, 30), (806,)\n"
     ]
    }
   ],
   "source": [
    "from imblearn.under_sampling import RandomUnderSampler\n",
    "\n",
    "# Initialize RandomUnderSampler\n",
    "rus = RandomUnderSampler(random_state=42)\n",
    "\n",
    "# Apply RandomUnderSampler to training data\n",
    "X_train_resampled, y_train_resampled = rus.fit_resample(X_train, y_train)\n",
    "\n",
    "# Print original and resampled training data shapes\n",
    "print(f\"Original training data shape: {X_train.shape}, {y_train.shape}\")\n",
    "print(f\"Resampled training data shape: {X_train_resampled.shape}, {y_train_resampled.shape}\")"
   ]
  },
  {
   "cell_type": "markdown",
   "id": "6c4993e4",
   "metadata": {},
   "source": [
    "# Oversampling - SMOTE"
   ]
  },
  {
   "cell_type": "code",
   "execution_count": 52,
   "id": "ec6ddabd",
   "metadata": {},
   "outputs": [
    {
     "name": "stdout",
     "output_type": "stream",
     "text": [
      "Original training data shape: (227845, 30), (227845,)\n",
      "SMOTE-resampled training data shape: (454884, 30), (454884,)\n"
     ]
    }
   ],
   "source": [
    "from imblearn.over_sampling import SMOTE\n",
    "\n",
    "# Initialize SMOTE\n",
    "smote = SMOTE(random_state=42)\n",
    "\n",
    "# Apply SMOTE to training data\n",
    "X_train_smote, y_train_smote = smote.fit_resample(X_train, y_train)\n",
    "\n",
    "# Print original and SMOTE-resampled training data shapes\n",
    "print(f\"Original training data shape: {X_train.shape}, {y_train.shape}\")\n",
    "print(f\"SMOTE-resampled training data shape: {X_train_smote.shape}, {y_train_smote.shape}\")"
   ]
  },
  {
   "cell_type": "markdown",
   "id": "de16d8a1",
   "metadata": {},
   "source": [
    "# Lets save the processed data and save objects to train the model."
   ]
  },
  {
   "cell_type": "markdown",
   "id": "e4ddb422",
   "metadata": {},
   "source": [
    "# SAVE THE PROCESSED DATA\n",
    "\n",
    "Lets save the processed data to the processed data folder for easy reference in the future."
   ]
  },
  {
   "cell_type": "code",
   "execution_count": 53,
   "id": "1feb85af",
   "metadata": {},
   "outputs": [],
   "source": [
    "# save the processed file\n",
    "\n",
    "file_path = 'data\\processed-data\\eda_preprocessed_data.csv'\n",
    "df.to_csv(file_path)"
   ]
  },
  {
   "cell_type": "markdown",
   "id": "2792fb0a",
   "metadata": {},
   "source": [
    "## SAVE OBJECTS OF THIS NOTEBOOK FOR REFERENCE IN NEXT NOTE BOOK \n",
    "                                       model-training-evaluation"
   ]
  },
  {
   "cell_type": "code",
   "execution_count": 55,
   "id": "84940658",
   "metadata": {},
   "outputs": [
    {
     "data": {
      "text/plain": [
       "['data/processed-data/y_train_smote_v1.joblib']"
      ]
     },
     "execution_count": 55,
     "metadata": {},
     "output_type": "execute_result"
    }
   ],
   "source": [
    "import joblib\n",
    "\n",
    "joblib.dump(X_train, 'data/processed-data/X_train_v1.joblib')\n",
    "joblib.dump(y_train, 'data/processed-data/y_train_v1.joblib')\n",
    "joblib.dump(X_test, 'data/processed-data/X_test_v1.joblib')\n",
    "joblib.dump(y_test, 'data/processed-data/y_test_v1.joblib')\n",
    "joblib.dump(scaler, 'models/amount_scaler.joblib')\n",
    "joblib.dump(X_train_resampled, 'data/processed-data/X_train_resampled_v1.joblib')\n",
    "joblib.dump(y_train_resampled, 'data/processed-data/y_train_resampled_v1.joblib')\n",
    "joblib.dump(X_train_smote, 'data/processed-data/X_train_smote_v1.joblib')\n",
    "joblib.dump(y_train_smote, 'data/processed-data/y_train_smote_v1.joblib')"
   ]
  },
  {
   "cell_type": "code",
   "execution_count": null,
   "id": "5a7a5d4e",
   "metadata": {},
   "outputs": [],
   "source": [
    "joblib.dump(X_train_smote, 'data/processed-data/X_train_smote_v1.joblib')"
   ]
  },
  {
   "cell_type": "code",
   "execution_count": null,
   "id": "9e0b37f3",
   "metadata": {},
   "outputs": [],
   "source": [
    "import joblib\n",
    "\n",
    "joblib.dump(scaler, 'models/amount_scaler.joblib')"
   ]
  },
  {
   "cell_type": "code",
   "execution_count": 56,
   "id": "c16d5510",
   "metadata": {},
   "outputs": [
    {
     "name": "stdout",
     "output_type": "stream",
     "text": [
      "C:\\Users\\hp\\AppData\\Roaming\\Python\\Python311\\site-packages\\streamlit\\__init__.py\n"
     ]
    }
   ],
   "source": [
    "import streamlit\n",
    "print(streamlit.__file__)"
   ]
  }
 ],
 "metadata": {
  "kernelspec": {
   "display_name": "Python 3 (ipykernel)",
   "language": "python",
   "name": "python3"
  },
  "language_info": {
   "codemirror_mode": {
    "name": "ipython",
    "version": 3
   },
   "file_extension": ".py",
   "mimetype": "text/x-python",
   "name": "python",
   "nbconvert_exporter": "python",
   "pygments_lexer": "ipython3",
   "version": "3.11.5"
  }
 },
 "nbformat": 4,
 "nbformat_minor": 5
}
